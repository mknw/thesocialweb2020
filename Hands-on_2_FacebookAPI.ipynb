{
 "cells": [
  {
   "cell_type": "markdown",
   "metadata": {},
   "source": [
    "*****************************************************************\n",
    "#  The Social Web \n",
    "- Instructors Davide Ceolin, Dayana Spagnuelo\n",
    "- Exercises for Hands-on session 1\n",
    "- 6 February 2020 11:00 - 12:45                 \n",
    "- NU-5B-21, NU-6A-04, NU-6B-20, NU-6C-39, NU-6C-40                             \n",
    "*****************************************************************"
   ]
  },
  {
   "cell_type": "markdown",
   "metadata": {},
   "source": [
    "### Setup\n",
    "Please first make sure your virtual environment is activated.\n",
    "\n",
    "Prerequisites:\n",
    "- Python 3.7\n",
    "- virtual environment (recommended)\n",
    "\n",
    "Software needed:\n",
    "- Python packages: facebook-sdk, networkx, requests, ipython (which we'll install later in this notebook)\n",
    "\n",
    "But let's check first if we're running a sufficiently new version of Python:"
   ]
  },
  {
   "cell_type": "code",
   "execution_count": 1,
   "metadata": {},
   "outputs": [
    {
     "name": "stdout",
     "output_type": "stream",
     "text": [
      "This jupyter notebook is running on Python 3.7.5\n"
     ]
    }
   ],
   "source": [
    "import platform\n",
    "import sys\n",
    "# It's good practice to assert packages requirements at the beginning of a script:\n",
    "assert sys.version_info >= (3, 6) # Tested with Python==3.7.5\n",
    "# show python version\n",
    "print(\"This jupyter notebook is running on Python \" + platform.python_version())"
   ]
  },
  {
   "cell_type": "markdown",
   "metadata": {},
   "source": [
    "Let's install what will be needed:"
   ]
  },
  {
   "cell_type": "code",
   "execution_count": 2,
   "metadata": {},
   "outputs": [
    {
     "name": "stdout",
     "output_type": "stream",
     "text": [
      "Requirement already satisfied: networkx in /home/mknw/.venv/tswvenv37/lib/python3.7/site-packages\r\n",
      "Requirement already satisfied: decorator>=4.3.0 in /home/mknw/.venv/tswvenv37/lib/python3.7/site-packages (from networkx)\r\n"
     ]
    }
   ],
   "source": [
    "!pip install networkx"
   ]
  },
  {
   "cell_type": "markdown",
   "metadata": {},
   "source": [
    "To get the newer features available with the facebook-sdk package, we will install the package from its github repository. \\\n",
    "This is possible with pip, by following this syntax: \\\n",
    "`pip install git+YOUR_GITHUB_REPOSITORY_URL` \\\n",
    "For instance:"
   ]
  },
  {
   "cell_type": "code",
   "execution_count": 3,
   "metadata": {},
   "outputs": [
    {
     "name": "stdout",
     "output_type": "stream",
     "text": [
      "Obtaining facebook-sdk from git+https://github.com/mobolic/facebook-sdk.git#egg=facebook-sdk\n",
      "  Updating /home/mknw/.venv/tswvenv37/src/facebook-sdk clone\n",
      "Requirement already satisfied: requests in /home/mknw/.venv/tswvenv37/lib/python3.7/site-packages (from facebook-sdk)\n",
      "Requirement already satisfied: certifi>=2017.4.17 in /home/mknw/.venv/tswvenv37/lib/python3.7/site-packages (from requests->facebook-sdk)\n",
      "Requirement already satisfied: urllib3!=1.25.0,!=1.25.1,<1.26,>=1.21.1 in /home/mknw/.venv/tswvenv37/lib/python3.7/site-packages (from requests->facebook-sdk)\n",
      "Requirement already satisfied: chardet<3.1.0,>=3.0.2 in /home/mknw/.venv/tswvenv37/lib/python3.7/site-packages (from requests->facebook-sdk)\n",
      "Requirement already satisfied: idna<2.9,>=2.5 in /home/mknw/.venv/tswvenv37/lib/python3.7/site-packages (from requests->facebook-sdk)\n",
      "Installing collected packages: facebook-sdk\n",
      "  Found existing installation: facebook-sdk 3.2.0rc0\n",
      "    Uninstalling facebook-sdk-3.2.0rc0:\n",
      "      Successfully uninstalled facebook-sdk-3.2.0rc0\n",
      "  Running setup.py develop for facebook-sdk\n",
      "Successfully installed facebook-sdk\n"
     ]
    }
   ],
   "source": [
    "!pip install -e git+https://github.com/mobolic/facebook-sdk.git#egg=facebook-sdk"
   ]
  },
  {
   "cell_type": "markdown",
   "metadata": {},
   "source": [
    "If you haven't already requested a developer account, please do so by following these steps:\n",
    "\n",
    "- go to [developers.facebook.com](https://developers.facebook.com/)\n",
    "- click on apps -> register as developer -> accept \n",
    "- go to: [https://developers.facebook.com/tools/explorer](https://developers.facebook.com/tools/explorer)\n",
    "- select your app (create one if you don't see any)\n",
    "- select 'user token'\n",
    "- Add permissions under User Data Permission\n",
    "- copy access token\n",
    "- paste it in the cell below."
   ]
  },
  {
   "cell_type": "code",
   "execution_count": 20,
   "metadata": {},
   "outputs": [
    {
     "name": "stdout",
     "output_type": "stream",
     "text": [
      "-------------------------\n",
      "Me\n",
      "-------------------------\n",
      "{\n",
      " \"name\": \"Michael Accetto\",\n",
      " \"id\": \"10220812605805932\"\n",
      "}\n",
      "-------------------------\n",
      "My friends\n",
      "-------------------------\n",
      "{\n",
      " \"data\": [],\n",
      " \"summary\": {\n",
      "  \"total_count\": 1289\n",
      " }\n",
      "}\n",
      "\n"
     ]
    }
   ],
   "source": [
    "import facebook\n",
    "import json\n",
    "# A helper function to pretty-print Python objects as JSON\n",
    "def pp(top, o):\n",
    "    print(\"\\n\".join([\"-\"*25, top, \"-\"*25]))\n",
    "    print(json.dumps(o, indent=1))\n",
    "\n",
    "# Create a connection to the Graph API with your access token\n",
    "token = 'EAAkbKojyZBAsBAJ4V4BnTxQfrdbEjUtEl5fEtvvq1jAvX7etT6IPQXaB60ZCwdj7RRa0xY3bwk4WanqsZBF4b00c1FIA3ifvnfJft8XLQPrG63kidkmlOUOP6FmoNj2hES3KiGdWiO5OcJUFGZCHdO14llGL0DFu5CZA47b7naeZCJm4SqJxLiULZCDc7JQCE0ZD'\n",
    "user_graph = facebook.GraphAPI(token)\n",
    "\n",
    "# Execute a few sample queries\n",
    "\n",
    "pp(\"Me\", g.get_object('me'))\n",
    "friends = g.get_connections(id='me', connection_name='friends')\n",
    "pp(\"My friends\", friends)\n",
    "print()"
   ]
  },
  {
   "cell_type": "markdown",
   "metadata": {},
   "source": [
    "If your friends list isn't publicly available, you should only be able to see your friends count."
   ]
  },
  {
   "cell_type": "code",
   "execution_count": 22,
   "metadata": {},
   "outputs": [
    {
     "name": "stdout",
     "output_type": "stream",
     "text": [
      "-------------------------\n",
      "Pages about UVA\n",
      "-------------------------\n",
      "{\n",
      " \"data\": []\n",
      "}\n",
      "-------------------------\n",
      "Pages about VU\n",
      "-------------------------\n",
      "{\n",
      " \"data\": []\n",
      "}\n"
     ]
    },
    {
     "ename": "GraphAPIError",
     "evalue": "(#10) This endpoint requires the 'manage_pages' permission or the 'Page Public Content Access' feature or the 'Page Public Metadata Access' feature. Refer to https://developers.facebook.com/docs/apps/review/login-permissions#manage-pages, https://developers.facebook.com/docs/apps/review/feature#reference-PAGES_ACCESS and https://developers.facebook.com/docs/apps/review/feature#page-public-metadata-access for details.",
     "output_type": "error",
     "traceback": [
      "\u001b[0;31m---------------------------------------------------------------------------\u001b[0m",
      "\u001b[0;31mGraphAPIError\u001b[0m                             Traceback (most recent call last)",
      "\u001b[0;32m<ipython-input-22-85a80746b354>\u001b[0m in \u001b[0;36m<module>\u001b[0;34m\u001b[0m\n\u001b[1;32m     13\u001b[0m         \u001b[0;32mreturn\u001b[0m \u001b[0;34m\"{:,}\"\u001b[0m\u001b[0;34m.\u001b[0m\u001b[0mformat\u001b[0m\u001b[0;34m(\u001b[0m\u001b[0mn\u001b[0m\u001b[0;34m)\u001b[0m\u001b[0;34m\u001b[0m\u001b[0;34m\u001b[0m\u001b[0m\n\u001b[1;32m     14\u001b[0m \u001b[0;34m\u001b[0m\u001b[0m\n\u001b[0;32m---> 15\u001b[0;31m \u001b[0mprint\u001b[0m\u001b[0;34m(\u001b[0m\u001b[0;34m\"UVA likes:\"\u001b[0m\u001b[0;34m,\u001b[0m \u001b[0mapp_graph\u001b[0m\u001b[0;34m.\u001b[0m\u001b[0mget_object\u001b[0m\u001b[0;34m(\u001b[0m\u001b[0muva_id\u001b[0m\u001b[0;34m)\u001b[0m\u001b[0;34m[\u001b[0m\u001b[0;34m'likes'\u001b[0m\u001b[0;34m]\u001b[0m\u001b[0;34m)\u001b[0m\u001b[0;34m\u001b[0m\u001b[0;34m\u001b[0m\u001b[0m\n\u001b[0m\u001b[1;32m     16\u001b[0m \u001b[0mprint\u001b[0m\u001b[0;34m(\u001b[0m\u001b[0;34m\"VU likes:\"\u001b[0m\u001b[0;34m,\u001b[0m \u001b[0mapp_graph\u001b[0m\u001b[0;34m.\u001b[0m\u001b[0mget_object\u001b[0m\u001b[0;34m(\u001b[0m\u001b[0mvu_id\u001b[0m\u001b[0;34m)\u001b[0m\u001b[0;34m[\u001b[0m\u001b[0;34m'likes'\u001b[0m\u001b[0;34m]\u001b[0m\u001b[0;34m)\u001b[0m\u001b[0;34m\u001b[0m\u001b[0;34m\u001b[0m\u001b[0m\n",
      "\u001b[0;32m~/.venv/tswvenv37/src/facebook-sdk/facebook/__init__.py\u001b[0m in \u001b[0;36mget_object\u001b[0;34m(self, id, **args)\u001b[0m\n\u001b[1;32m    133\u001b[0m     \u001b[0;32mdef\u001b[0m \u001b[0mget_object\u001b[0m\u001b[0;34m(\u001b[0m\u001b[0mself\u001b[0m\u001b[0;34m,\u001b[0m \u001b[0mid\u001b[0m\u001b[0;34m,\u001b[0m \u001b[0;34m**\u001b[0m\u001b[0margs\u001b[0m\u001b[0;34m)\u001b[0m\u001b[0;34m:\u001b[0m\u001b[0;34m\u001b[0m\u001b[0;34m\u001b[0m\u001b[0m\n\u001b[1;32m    134\u001b[0m         \u001b[0;34m\"\"\"Fetches the given object from the graph.\"\"\"\u001b[0m\u001b[0;34m\u001b[0m\u001b[0;34m\u001b[0m\u001b[0m\n\u001b[0;32m--> 135\u001b[0;31m         \u001b[0;32mreturn\u001b[0m \u001b[0mself\u001b[0m\u001b[0;34m.\u001b[0m\u001b[0mrequest\u001b[0m\u001b[0;34m(\u001b[0m\u001b[0;34m\"{0}/{1}\"\u001b[0m\u001b[0;34m.\u001b[0m\u001b[0mformat\u001b[0m\u001b[0;34m(\u001b[0m\u001b[0mself\u001b[0m\u001b[0;34m.\u001b[0m\u001b[0mversion\u001b[0m\u001b[0;34m,\u001b[0m \u001b[0mid\u001b[0m\u001b[0;34m)\u001b[0m\u001b[0;34m,\u001b[0m \u001b[0margs\u001b[0m\u001b[0;34m)\u001b[0m\u001b[0;34m\u001b[0m\u001b[0;34m\u001b[0m\u001b[0m\n\u001b[0m\u001b[1;32m    136\u001b[0m \u001b[0;34m\u001b[0m\u001b[0m\n\u001b[1;32m    137\u001b[0m     \u001b[0;32mdef\u001b[0m \u001b[0mget_objects\u001b[0m\u001b[0;34m(\u001b[0m\u001b[0mself\u001b[0m\u001b[0;34m,\u001b[0m \u001b[0mids\u001b[0m\u001b[0;34m,\u001b[0m \u001b[0;34m**\u001b[0m\u001b[0margs\u001b[0m\u001b[0;34m)\u001b[0m\u001b[0;34m:\u001b[0m\u001b[0;34m\u001b[0m\u001b[0;34m\u001b[0m\u001b[0m\n",
      "\u001b[0;32m~/.venv/tswvenv37/src/facebook-sdk/facebook/__init__.py\u001b[0m in \u001b[0;36mrequest\u001b[0;34m(self, path, args, post_args, files, method)\u001b[0m\n\u001b[1;32m    325\u001b[0m \u001b[0;34m\u001b[0m\u001b[0m\n\u001b[1;32m    326\u001b[0m         \u001b[0;32mif\u001b[0m \u001b[0mresult\u001b[0m \u001b[0;32mand\u001b[0m \u001b[0misinstance\u001b[0m\u001b[0;34m(\u001b[0m\u001b[0mresult\u001b[0m\u001b[0;34m,\u001b[0m \u001b[0mdict\u001b[0m\u001b[0;34m)\u001b[0m \u001b[0;32mand\u001b[0m \u001b[0mresult\u001b[0m\u001b[0;34m.\u001b[0m\u001b[0mget\u001b[0m\u001b[0;34m(\u001b[0m\u001b[0;34m\"error\"\u001b[0m\u001b[0;34m)\u001b[0m\u001b[0;34m:\u001b[0m\u001b[0;34m\u001b[0m\u001b[0;34m\u001b[0m\u001b[0m\n\u001b[0;32m--> 327\u001b[0;31m             \u001b[0;32mraise\u001b[0m \u001b[0mGraphAPIError\u001b[0m\u001b[0;34m(\u001b[0m\u001b[0mresult\u001b[0m\u001b[0;34m)\u001b[0m\u001b[0;34m\u001b[0m\u001b[0;34m\u001b[0m\u001b[0m\n\u001b[0m\u001b[1;32m    328\u001b[0m         \u001b[0;32mreturn\u001b[0m \u001b[0mresult\u001b[0m\u001b[0;34m\u001b[0m\u001b[0;34m\u001b[0m\u001b[0m\n\u001b[1;32m    329\u001b[0m \u001b[0;34m\u001b[0m\u001b[0m\n",
      "\u001b[0;31mGraphAPIError\u001b[0m: (#10) This endpoint requires the 'manage_pages' permission or the 'Page Public Content Access' feature or the 'Page Public Metadata Access' feature. Refer to https://developers.facebook.com/docs/apps/review/login-permissions#manage-pages, https://developers.facebook.com/docs/apps/review/feature#reference-PAGES_ACCESS and https://developers.facebook.com/docs/apps/review/feature#page-public-metadata-access for details."
     ]
    }
   ],
   "source": [
    "\n",
    "token = \"2563144290596875|WXPiwTLI7oeFpXLsS1jBa4F97TU\"\n",
    "app_graph = facebook.GraphAPI(access_token=token)\n",
    "pp('Pages about UVA', app_graph.request('search', {'q' : 'Universiteit van Amsterdam', 'type' : 'page', 'limit' : 5}))\n",
    "\n",
    "pp('Pages about VU', app_graph.request('search', {'q' : 'Vrije Universiteit Amsterdam', 'type' : 'page', 'limit' : 5}))\n",
    "\n",
    "# Use the ids to query for likes\n",
    "uva_id = '113928981951563'\n",
    "vu_id = '116356121481'\n",
    "\n",
    "# A quick way to format integers with commas every 3 digits\n",
    "def int_format(n):\n",
    "\treturn \"{:,}\".format(n)\n",
    "\n",
    "print(\"UVA likes:\", app_graph.get_object(uva_id)['likes'])\n",
    "print(\"VU likes:\", app_graph.get_object(vu_id)['likes'])"
   ]
  },
  {
   "cell_type": "code",
   "execution_count": 25,
   "metadata": {},
   "outputs": [
    {
     "name": "stdout",
     "output_type": "stream",
     "text": [
      "{}\n"
     ]
    },
    {
     "data": {
      "text/plain": [
       "[]"
      ]
     },
     "execution_count": 25,
     "metadata": {},
     "output_type": "execute_result"
    }
   ],
   "source": [
    "# First, let's query for all of the likes in your social\n",
    "# network and store them in a slightly more convenient\n",
    "# data structure as a dictionary keyed on each friend's\n",
    "# name.\n",
    "import facebook\n",
    "from prettytable import PrettyTable\n",
    "from collections import Counter\n",
    "\n",
    "# Create a connection to the Graph API with your access token\n",
    "g = facebook.GraphAPI(token)\n",
    "\n",
    "friends = g.get_connections(\"me\", \"friends\")['data']\n",
    "\n",
    "likes = { friend['name'] : g.get_connections(friend['id'], \"likes\")['data']\n",
    "        for friend in friends }\n",
    "print(likes)\n",
    "\n",
    "friends_likes = Counter([like['name']\n",
    "        for friend in likes\n",
    "                for like in likes[friend]\n",
    "                        if like.get('name')])\n",
    "\n",
    "pt = PrettyTable(field_names=['Name', 'Freq'])\n",
    "pt.align['Name'], pt.align['Freq'] = 'l', 'r'\n",
    "[ pt.add_row(fl) for fl in friends_likes.most_common(10) ]\n",
    "\n",
    "#print 'Top 10 likes amongst friends'\n",
    "#print pt\n",
    "\n",
    "\n",
    "# Analyze all like categories by frequency\n",
    "friends_likes_categories = Counter([like['category']\n",
    "        for friend in likes\n",
    "                for like in likes[friend]])\n",
    "\n",
    "pt2 = PrettyTable(field_names=['Category', 'Freq'])\n",
    "pt2.align['Category'], pt2.align['Freq'] = 'l', 'r'\n",
    "[ pt2.add_row(flc) for flc in friends_likes_categories.most_common(10) ]\n",
    "\n",
    "#print \"Top 10 like categories for friends\"\n",
    "#print pt2"
   ]
  }
 ],
 "metadata": {
  "kernelspec": {
   "display_name": "Python 3",
   "language": "python",
   "name": "python3"
  },
  "language_info": {
   "codemirror_mode": {
    "name": "ipython",
    "version": 3
   },
   "file_extension": ".py",
   "mimetype": "text/x-python",
   "name": "python",
   "nbconvert_exporter": "python",
   "pygments_lexer": "ipython3",
   "version": "3.7.5"
  }
 },
 "nbformat": 4,
 "nbformat_minor": 4
}
