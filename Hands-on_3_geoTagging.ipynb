{
 "cells": [
  {
   "cell_type": "markdown",
   "metadata": {},
   "source": [
    "*****************************************************************\n",
    "#  The Social Web \n",
    "- Instructors: Davide Ceolin, Dayana Spagnuelo\n",
    "- Lab Assistants: Michael Accetto, Sarthak Gupta \n",
    "- Exercises for Hands-on session 3\n",
    "- 20 February 2020 11:00 - 12:45                 \n",
    "- NU-5B-21, NU-6A-04, NU-6B-20, NU-6C-39, NU-6C-40                             \n",
    "*****************************************************************"
   ]
  },
  {
   "cell_type": "markdown",
   "metadata": {},
   "source": [
    "In this session you are going to mine data in various microformats. You will see the differences in what each of the formats can contain and what purpose they serve. We will start by looking at geographical data. \n",
    "\n",
    "Prerequisites:\n",
    "- Python 3.7\n",
    "- Python packages: requests, BeautifulSoup, HTMLParser, rdflib, rdflib_microdata\n",
    "\n",
    "You have to install the rdflib_microdata package from Git, as it is not in the standard PIP library. \n",
    "You can use:\n",
    "\n"
   ]
  },
  {
   "cell_type": "code",
   "execution_count": 1,
   "metadata": {},
   "outputs": [
    {
     "name": "stdout",
     "output_type": "stream",
     "text": [
      "Obtaining rdflib-microdata from git+https://github.com/edsu/rdflib-microdata.git#egg=rdflib-microdata\n",
      "  Updating /home/mknw/.venv/tswvenv37/src/rdflib-microdata clone\n",
      "Requirement already satisfied: html5lib in /home/mknw/.venv/tswvenv37/lib/python3.7/site-packages (from rdflib-microdata)\n",
      "Requirement already satisfied: microdata>=0.2 in /home/mknw/.venv/tswvenv37/lib/python3.7/site-packages (from rdflib-microdata)\n",
      "Requirement already satisfied: rdflib>=3.0 in /home/mknw/.venv/tswvenv37/lib/python3.7/site-packages (from rdflib-microdata)\n",
      "Requirement already satisfied: webencodings in /home/mknw/.venv/tswvenv37/lib/python3.7/site-packages (from html5lib->rdflib-microdata)\n",
      "Requirement already satisfied: six>=1.9 in /home/mknw/.venv/tswvenv37/lib/python3.7/site-packages (from html5lib->rdflib-microdata)\n",
      "Requirement already satisfied: pyparsing in /home/mknw/.venv/tswvenv37/lib/python3.7/site-packages (from rdflib>=3.0->rdflib-microdata)\n",
      "Requirement already satisfied: isodate in /home/mknw/.venv/tswvenv37/lib/python3.7/site-packages (from rdflib>=3.0->rdflib-microdata)\n",
      "Installing collected packages: rdflib-microdata\n",
      "  Found existing installation: rdflib-microdata 0.2.0\n",
      "    Uninstalling rdflib-microdata-0.2.0:\n",
      "      Successfully uninstalled rdflib-microdata-0.2.0\n",
      "  Running setup.py develop for rdflib-microdata\n",
      "Successfully installed rdflib-microdata\n"
     ]
    }
   ],
   "source": [
    "!pip install -e git+https://github.com/edsu/rdflib-microdata.git#egg=rdflib-microdata"
   ]
  },
  {
   "cell_type": "code",
   "execution_count": 2,
   "metadata": {},
   "outputs": [
    {
     "name": "stdout",
     "output_type": "stream",
     "text": [
      "Requirement already satisfied: requests in /home/mknw/.venv/tswvenv37/lib/python3.7/site-packages\n",
      "Requirement already satisfied: idna<2.9,>=2.5 in /home/mknw/.venv/tswvenv37/lib/python3.7/site-packages (from requests)\n",
      "Requirement already satisfied: chardet<3.1.0,>=3.0.2 in /home/mknw/.venv/tswvenv37/lib/python3.7/site-packages (from requests)\n",
      "Requirement already satisfied: urllib3!=1.25.0,!=1.25.1,<1.26,>=1.21.1 in /home/mknw/.venv/tswvenv37/lib/python3.7/site-packages (from requests)\n",
      "Requirement already satisfied: certifi>=2017.4.17 in /home/mknw/.venv/tswvenv37/lib/python3.7/site-packages (from requests)\n",
      "Requirement already satisfied: BeautifulSoup4 in /home/mknw/.venv/tswvenv37/lib/python3.7/site-packages\n",
      "Requirement already satisfied: soupsieve>=1.2 in /home/mknw/.venv/tswvenv37/lib/python3.7/site-packages (from BeautifulSoup4)\n",
      "Requirement already satisfied: HTMLParser in /home/mknw/.venv/tswvenv37/lib/python3.7/site-packages\n",
      "Requirement already satisfied: rdflib in /home/mknw/.venv/tswvenv37/lib/python3.7/site-packages\n",
      "Requirement already satisfied: isodate in /home/mknw/.venv/tswvenv37/lib/python3.7/site-packages (from rdflib)\n",
      "Requirement already satisfied: pyparsing in /home/mknw/.venv/tswvenv37/lib/python3.7/site-packages (from rdflib)\n",
      "Requirement already satisfied: six in /home/mknw/.venv/tswvenv37/lib/python3.7/site-packages (from isodate->rdflib)\n",
      "Requirement already satisfied: rdflib_microdata in /home/mknw/.venv/tswvenv37/src/rdflib-microdata\n",
      "Requirement already satisfied: html5lib in /home/mknw/.venv/tswvenv37/lib/python3.7/site-packages (from rdflib_microdata)\n",
      "Requirement already satisfied: microdata>=0.2 in /home/mknw/.venv/tswvenv37/lib/python3.7/site-packages (from rdflib_microdata)\n",
      "Requirement already satisfied: rdflib>=3.0 in /home/mknw/.venv/tswvenv37/lib/python3.7/site-packages (from rdflib_microdata)\n",
      "Requirement already satisfied: webencodings in /home/mknw/.venv/tswvenv37/lib/python3.7/site-packages (from html5lib->rdflib_microdata)\n",
      "Requirement already satisfied: six>=1.9 in /home/mknw/.venv/tswvenv37/lib/python3.7/site-packages (from html5lib->rdflib_microdata)\n",
      "Requirement already satisfied: pyparsing in /home/mknw/.venv/tswvenv37/lib/python3.7/site-packages (from rdflib>=3.0->rdflib_microdata)\n",
      "Requirement already satisfied: isodate in /home/mknw/.venv/tswvenv37/lib/python3.7/site-packages (from rdflib>=3.0->rdflib_microdata)\n",
      "Obtaining rdflib-microdata from git+https://github.com/edsu/rdflib-microdata.git#egg=rdflib-microdata\n",
      "  Updating /home/mknw/.venv/tswvenv37/src/rdflib-microdata clone\n",
      "Requirement already satisfied: html5lib in /home/mknw/.venv/tswvenv37/lib/python3.7/site-packages (from rdflib-microdata)\n",
      "Requirement already satisfied: microdata>=0.2 in /home/mknw/.venv/tswvenv37/lib/python3.7/site-packages (from rdflib-microdata)\n",
      "Requirement already satisfied: rdflib>=3.0 in /home/mknw/.venv/tswvenv37/lib/python3.7/site-packages (from rdflib-microdata)\n",
      "Requirement already satisfied: webencodings in /home/mknw/.venv/tswvenv37/lib/python3.7/site-packages (from html5lib->rdflib-microdata)\n",
      "Requirement already satisfied: six>=1.9 in /home/mknw/.venv/tswvenv37/lib/python3.7/site-packages (from html5lib->rdflib-microdata)\n",
      "Requirement already satisfied: isodate in /home/mknw/.venv/tswvenv37/lib/python3.7/site-packages (from rdflib>=3.0->rdflib-microdata)\n",
      "Requirement already satisfied: pyparsing in /home/mknw/.venv/tswvenv37/lib/python3.7/site-packages (from rdflib>=3.0->rdflib-microdata)\n",
      "Installing collected packages: rdflib-microdata\n",
      "  Found existing installation: rdflib-microdata 0.2.0\n",
      "    Uninstalling rdflib-microdata-0.2.0:\n",
      "      Successfully uninstalled rdflib-microdata-0.2.0\n",
      "  Running setup.py develop for rdflib-microdata\n",
      "Successfully installed rdflib-microdata\n"
     ]
    }
   ],
   "source": [
    "# If you're using a virtualenv, make sure it's activated before running \n",
    "# this cell!\n",
    "!pip install requests\n",
    "!pip install BeautifulSoup4\n",
    "!pip install HTMLParser \n",
    "!pip install rdflib\n",
    "!pip install rdflib_microdata\n",
    "!pip install -e git+https://github.com/edsu/rdflib-microdata.git#egg=rdflib-microdata"
   ]
  },
  {
   "cell_type": "markdown",
   "metadata": {},
   "source": [
    "To get the newer features available with the facebook-sdk package, we will install the package from its github repository. \\\n",
    "This is possible with pip, by following this syntax:  \n",
    "\n",
    "`pip install git+YOUR_GITHUB_REPOSITORY_URL` \n",
    "\n",
    "For instance:"
   ]
  },
  {
   "cell_type": "code",
   "execution_count": 3,
   "metadata": {},
   "outputs": [
    {
     "name": "stdout",
     "output_type": "stream",
     "text": [
      "Obtaining rdflib-microdata from git+https://github.com/edsu/rdflib-microdata.git#egg=rdflib-microdata\n",
      "  Updating /home/mknw/.venv/tswvenv37/src/rdflib-microdata clone\n",
      "Requirement already satisfied: html5lib in /home/mknw/.venv/tswvenv37/lib/python3.7/site-packages (from rdflib-microdata)\n",
      "Requirement already satisfied: microdata>=0.2 in /home/mknw/.venv/tswvenv37/lib/python3.7/site-packages (from rdflib-microdata)\n",
      "Requirement already satisfied: rdflib>=3.0 in /home/mknw/.venv/tswvenv37/lib/python3.7/site-packages (from rdflib-microdata)\n",
      "Requirement already satisfied: webencodings in /home/mknw/.venv/tswvenv37/lib/python3.7/site-packages (from html5lib->rdflib-microdata)\n",
      "Requirement already satisfied: six>=1.9 in /home/mknw/.venv/tswvenv37/lib/python3.7/site-packages (from html5lib->rdflib-microdata)\n",
      "Requirement already satisfied: pyparsing in /home/mknw/.venv/tswvenv37/lib/python3.7/site-packages (from rdflib>=3.0->rdflib-microdata)\n",
      "Requirement already satisfied: isodate in /home/mknw/.venv/tswvenv37/lib/python3.7/site-packages (from rdflib>=3.0->rdflib-microdata)\n",
      "Installing collected packages: rdflib-microdata\n",
      "  Found existing installation: rdflib-microdata 0.2.0\n",
      "    Uninstalling rdflib-microdata-0.2.0:\n",
      "      Successfully uninstalled rdflib-microdata-0.2.0\n",
      "  Running setup.py develop for rdflib-microdata\n",
      "Successfully installed rdflib-microdata\n"
     ]
    }
   ],
   "source": [
    "!pip install -e git+https://github.com/edsu/rdflib-microdata.git#egg=rdflib-microdata"
   ]
  },
  {
   "cell_type": "markdown",
   "metadata": {},
   "source": [
    "##  Exercise 1 \n",
    "Extracting coordinates from a webpage and reformatting them in the geo microformat (based on Example 8-1 in Mining the Social Web). Save and run the following code as a Python script.\n"
   ]
  },
  {
   "cell_type": "code",
   "execution_count": 4,
   "metadata": {},
   "outputs": [
    {
     "name": "stdout",
     "output_type": "stream",
     "text": [
      "Location is at\n"
     ]
    }
   ],
   "source": [
    "# -*- coding: utf-8 -*-\n",
    "\n",
    "import requests\n",
    "from bs4 import BeautifulSoup\n",
    "\n",
    "# This script requires you to add a url of a page with geotags to the commandline, e.g.\n",
    "# python geo.py 'http://en.wikipedia.org/wiki/Amsterdam'\n",
    "URL = 'https://en.wikipedia.org/wiki/Amsterdam'\n",
    "\n",
    "req = requests.get(URL, headers={'User-Agent' : \"Social Web Course Student\"})\n",
    "soup = BeautifulSoup(req.text)\n",
    "\n",
    "geoTag = soup.find(True, 'geo')\n",
    "\n",
    "if geoTag and len(geoTag) > 1:\n",
    "        lat = geoTag.find(True, 'latitude').string\n",
    "        lon = geoTag.find(True, 'longitude').string\n",
    "        print ('Location is at'), lat, lon\n",
    "elif geoTag and len(geoTag) == 1:\n",
    "        (lat, lon) = geoTag.string.split(';')\n",
    "        (lat, lon) = (lat.strip(), lon.strip())\n",
    "        print ('Location is at'), lat, lon\n",
    "else:\n",
    "        print ('Location not found')\n"
   ]
  },
  {
   "cell_type": "markdown",
   "metadata": {},
   "source": [
    "### Task 1\n",
    "\n",
    "Can you convert the output of Exercise 1 into KML? Here is the KML documentation: https://developers.google.com/kml/documentation/?csw=1 and here you can find a simple example of how it is used: http://kml-samples.googlecode.com/svn/trunk/kml/Placemark/placemark.kml\n",
    "\n",
    "Visualise the point in Google Maps using the following code example: https://developers.google.com/maps/documentation/javascript/examples/layer-kml-features\n",
    "You will have to create your own KML file for the custom map layer, and provide a URL to the KML file inside the JavaScript code, which means that you have to upload the file somewhere. You can use a service like http://pastebin.com/ to obtain a URL for your KML file —> paste the code there and request the RAW format URL; use this one in this Task1.\n",
    "\n",
    "Is KML a microformat, why (not)?"
   ]
  },
  {
   "cell_type": "markdown",
   "metadata": {},
   "source": [
    "## Exercise 2 \n",
    "There are a lot of specialised microformats, such as hRecipe to format recipes in. This format helps search engines to find recipes and index them properly so when you search for \"recipe biscotti\" it knows that it needs to return a page that contains ingredients and instructions. \n"
   ]
  },
  {
   "cell_type": "markdown",
   "metadata": {},
   "source": [
    "### Task 2 \n",
    "Parsing hRecipe data for a Chocolate Biscotti recipe (from Example 2-7 in Mining the Social Web). Save and run the following code as a Python script."
   ]
  },
  {
   "cell_type": "code",
   "execution_count": 11,
   "metadata": {},
   "outputs": [
    {
     "name": "stdout",
     "output_type": "stream",
     "text": [
      "{}\n"
     ]
    }
   ],
   "source": [
    "# -*- coding: utf-8 -*-\n",
    "\n",
    "import requests\n",
    "import json\n",
    "from bs4 import BeautifulSoup\n",
    "\n",
    "# Pass in a URL containing hRecipe, such as\n",
    "# http://wholewheatsweets.com/recipe/cookies/whole_wheat_chocolate_hazelnut_biscotti\n",
    "\n",
    "URL = \"https://www.jamieoliver.com/recipes/pasta-recipes/veggie-carbonara/\"\n",
    "\n",
    "# Parse out some of the pertinent information for a recipe.\n",
    "# See http://microformats.org/wiki/hrecipe.\n",
    "\n",
    "def parse_hrecipe(url):\n",
    "    req = requests.get(URL)\n",
    "    \n",
    "    soup = BeautifulSoup(req.text)\n",
    "\n",
    "    hrecipe = soup.find(True, 'hrecipe')\n",
    "\n",
    "    if hrecipe and len(hrecipe) > 1:\n",
    "        fn = hrecipe.find(True, 'fn').string\n",
    "        yield_ = hrecipe.find(True, 'yield').find(text=True)\n",
    "        ingredients = [i.string\n",
    "            for i in hrecipe.findAll(True, 'ingredient')\n",
    "                if i.string is not None]\n",
    "\n",
    "        instructions = []\n",
    "        for i in hrecipe.find(True, 'instructions').findAll(True, 'instruction'):\n",
    "            if type(i) == BeautifulSoup.Tag:\n",
    "                s = ''.join(i.findAll(text=True)).strip()\n",
    "            elif type(i) == BeautifulSoup.NavigableString:\n",
    "                s = i.string.strip()\n",
    "            else:\n",
    "                continue\n",
    "\n",
    "            if s!='':\n",
    "                instructions += [s]\n",
    "\n",
    "        return {\n",
    "            'name': fn,\n",
    "            'yield:': yield_,\n",
    "            'ingredients': ingredients,\n",
    "            'instructions': instructions,\n",
    "            }\n",
    "    else:\n",
    "        return {}\n",
    "\n",
    "recipe = parse_hrecipe(URL)\n",
    "print (json.dumps(recipe, indent=4))"
   ]
  },
  {
   "cell_type": "markdown",
   "metadata": {},
   "source": [
    "### Task 2.1\n",
    "Can you modify the hRecipe script in such a way that it gives a more informative error message if no recipe information is found instead of {} \n"
   ]
  },
  {
   "cell_type": "markdown",
   "metadata": {},
   "source": [
    "### Task 2.2 \n",
    "Does the hRecipe format facilitate easy comparison of different recipes? Can you for example easily compare different dessert recipe ingredients? For inspiration you can look back at the exercises you did in Hands-on session 1 where you compared different sets of tweets."
   ]
  },
  {
   "cell_type": "markdown",
   "metadata": {},
   "source": [
    "## Exercise 3"
   ]
  },
  {
   "cell_type": "markdown",
   "metadata": {},
   "source": [
    "As you might have noticed in the previous exercise, hRecipe is not used on many sites anymore, instead Schema.org annotations are added. Schema.org is a multipurpose format that has been created by a consortium consisting of Yahoo!, Google and Microsoft. It can describe entities, events, products etc. Check out the vocabulary specs on Schema.org."
   ]
  },
  {
   "cell_type": "markdown",
   "metadata": {},
   "source": [
    "### Task 3\n",
    "\n",
    "Parsing schema.org microdata. To parse this data you need to install the rdflib-microdata package, which is not in the standard pip repository. \n",
    "You can do so as follows:\n",
    "\n"
   ]
  },
  {
   "cell_type": "code",
   "execution_count": null,
   "metadata": {},
   "outputs": [],
   "source": [
    "!pip install -e git+https://github.com/edsu/rdflib-microdata.git#egg=rdflib-microdata"
   ]
  },
  {
   "cell_type": "code",
   "execution_count": 8,
   "metadata": {},
   "outputs": [
    {
     "name": "stdout",
     "output_type": "stream",
     "text": [
      "b'<?xml version=\"1.0\" encoding=\"UTF-8\"?>\\n<rdf:RDF\\n   xmlns:ns1=\"[http://schema.org/Place]#\"\\n   xmlns:ns2=\"[http://schema.org/Organization]#\"\\n   xmlns:ns3=\"[http://schema.org/MusicGroup]#\"\\n   xmlns:ns4=\"[http://schema.org/MusicAlbum]#\"\\n   xmlns:ns5=\"[http://schema.org/MusicRecording]#\"\\n   xmlns:ns6=\"[http://schema.org/MusicEvent]#\"\\n   xmlns:rdf=\"http://www.w3.org/1999/02/22-rdf-syntax-ns#\"\\n>\\n  <rdf:Description rdf:nodeID=\"Nfd1c0457e5914d5fa0151c25c7230d8c\">\\n    <ns6:name>Firenze Rocks</ns6:name>\\n    <rdf:type rdf:resource=\"[http://schema.org/MusicEvent]\"/>\\n    <ns6:startDate>2020-06-10T00:00:00</ns6:startDate>\\n    <ns6:url rdf:resource=\"/festival/4549753+Firenze+Rocks\"/>\\n    <ns6:location rdf:nodeID=\"N0d8b7345281f4206afe69c774ecb1aa2\"/>\\n  </rdf:Description>\\n  <rdf:Description rdf:nodeID=\"N0c6b51685b9848b68f715c448b05d207\">\\n    <ns3:image>https://lastfm.freetls.fastly.net/i/u/ar0/366962d5733a4aee8bee4a136c239d47.jpg</ns3:image>\\n    <rdf:type rdf:resource=\"[http://schema.org/MusicGroup]\"/>\\n    <ns3:event rdf:nodeID=\"N936ac81d365440808f8b85cb5a33fde0\"/>\\n    <ns3:track rdf:nodeID=\"N59c88735c57a48a0963d63ad08ebf42d\"/>\\n    <ns3:url rdf:resource=\"/music/Red+Hot+Chili+Peppers\"/>\\n    <ns3:event rdf:nodeID=\"N40833f24515f4208a6802a458d07a657\"/>\\n    <ns3:event rdf:nodeID=\"N1f2c97d32c344c79abe5e2704a32b5ab\"/>\\n    <ns3:track rdf:nodeID=\"Nf646d4b04a3c4bacb6894928e5ab08a5\"/>\\n    <ns3:album rdf:nodeID=\"Nd643cb639d2a4e809d1dcc678536b653\"/>\\n    <ns3:album rdf:nodeID=\"N98b4107cfe3e4e0bac9a013fdbfa56d4\"/>\\n    <ns3:name>Red Hot Chili Peppers</ns3:name>\\n    <ns3:track rdf:nodeID=\"N89cc3e1bd5424f20a26da9ff4c89fac2\"/>\\n    <ns3:track rdf:nodeID=\"Nb0f569beb7234fa99079cbf11384756c\"/>\\n    <ns3:album rdf:nodeID=\"N789fca5de02941758c6e60c83f74f72c\"/>\\n    <ns3:track rdf:nodeID=\"N2a397a35ceae4d62a1b252dba26f35be\"/>\\n    <ns3:event rdf:nodeID=\"Nbbae752995854341b9f68e72caa2b14b\"/>\\n    <ns3:event rdf:nodeID=\"Nfd1c0457e5914d5fa0151c25c7230d8c\"/>\\n    <ns3:track rdf:nodeID=\"N4685a817fe8d44a88c8ddd7fae06de7c\"/>\\n    <ns3:track rdf:nodeID=\"N719b854d2e5a424094905174600aa7a3\"/>\\n    <ns3:track rdf:nodeID=\"N8f38bb2ac5b64d16bd5d9c7990b9fbb8\"/>\\n    <ns3:track rdf:nodeID=\"Nd54cbca336df43a284a52e84a08990a6\"/>\\n    <ns3:track rdf:nodeID=\"N093354ac7a11446b9422a107a72dbca3\"/>\\n    <ns3:album rdf:nodeID=\"Ne8dc76225e43438a9933cb92b1c2204e\"/>\\n    <ns3:event rdf:nodeID=\"N460793b4c9a7466694e2d9ef435dfe90\"/>\\n    <ns3:album rdf:nodeID=\"Nf24e4ffc1add4065b77a32f3c52b43bd\"/>\\n    <ns3:track rdf:nodeID=\"Nab6ae8d456ee4a5689b765da32b8884a\"/>\\n  </rdf:Description>\\n  <rdf:Description rdf:nodeID=\"N59c88735c57a48a0963d63ad08ebf42d\">\\n    <rdf:type rdf:resource=\"[http://schema.org/MusicRecording]\"/>\\n    <ns5:name>\\n        Under the Bridge\\n    </ns5:name>\\n    <ns5:byArtist>Red Hot Chili Peppers</ns5:byArtist>\\n    <ns5:url rdf:resource=\"/music/Red+Hot+Chili+Peppers/_/Under+the+Bridge\"/>\\n  </rdf:Description>\\n  <rdf:Description rdf:nodeID=\"N89cc3e1bd5424f20a26da9ff4c89fac2\">\\n    <ns5:name>\\n                        \\n                        \\n                        Scar Tissue\\n                    </ns5:name>\\n    <ns5:url rdf:resource=\"/music/Red+Hot+Chili+Peppers/_/Scar+Tissue\"/>\\n    <rdf:type rdf:resource=\"[http://schema.org/MusicRecording]\"/>\\n  </rdf:Description>\\n  <rdf:Description rdf:nodeID=\"N719b854d2e5a424094905174600aa7a3\">\\n    <ns5:name>\\n                        \\n                        \\n                        Under the Bridge\\n                    </ns5:name>\\n    <ns5:url rdf:resource=\"/music/Red+Hot+Chili+Peppers/_/Under+the+Bridge\"/>\\n    <rdf:type rdf:resource=\"[http://schema.org/MusicRecording]\"/>\\n  </rdf:Description>\\n  <rdf:Description rdf:nodeID=\"Nb72c73de0643434582856698952712fe\">\\n    <ns2:sameAs rdf:resource=\"https://www.facebook.com/lastfm\"/>\\n    <ns2:sameAs rdf:resource=\"https://www.instagram.com/last_fm\"/>\\n    <rdf:type rdf:resource=\"[http://schema.org/Organization]\"/>\\n    <ns2:sameAs rdf:resource=\"https://twitter.com/lastfm\"/>\\n    <ns2:sameAs rdf:resource=\"https://www.youtube.com/user/lastfm\"/>\\n    <ns2:url rdf:resource=\"https://www.last.fm\"/>\\n    <ns2:name>Last.fm</ns2:name>\\n  </rdf:Description>\\n  <rdf:Description rdf:nodeID=\"N04a4c504290b445ca3ec7a1df3971b6f\">\\n    <rdf:type rdf:resource=\"[http://schema.org/MusicGroup]\"/>\\n    <ns3:url rdf:resource=\"/music/Pearl+Jam\"/>\\n    <ns3:name>\\n        Pearl Jam\\n    </ns3:name>\\n  </rdf:Description>\\n  <rdf:Description rdf:nodeID=\"Nbbae752995854341b9f68e72caa2b14b\">\\n    <ns6:name>Boston Calling Music Festival</ns6:name>\\n    <ns6:startDate>2020-05-22T00:00:00</ns6:startDate>\\n    <ns6:location rdf:nodeID=\"N9e62534fd91347a8b180a04c496b9ba2\"/>\\n    <rdf:type rdf:resource=\"[http://schema.org/MusicEvent]\"/>\\n    <ns6:url rdf:resource=\"/festival/4536505+Boston+Calling+Music+Festival\"/>\\n  </rdf:Description>\\n  <rdf:Description rdf:nodeID=\"N460793b4c9a7466694e2d9ef435dfe90\">\\n    <ns6:name>Hangout Music Fest</ns6:name>\\n    <ns6:location rdf:nodeID=\"N3a0e2060a9bd44d589ca6d3a513dbc76\"/>\\n    <ns6:startDate>2020-05-15T00:00:00</ns6:startDate>\\n    <rdf:type rdf:resource=\"[http://schema.org/MusicEvent]\"/>\\n    <ns6:url rdf:resource=\"/festival/4544320+Hangout+Music+Fest\"/>\\n  </rdf:Description>\\n  <rdf:Description rdf:nodeID=\"N264f72daa2bf4692a955cff6d6da0f66\">\\n    <ns3:url rdf:resource=\"/music/Audioslave\"/>\\n    <ns3:name>\\n        Audioslave\\n    </ns3:name>\\n    <rdf:type rdf:resource=\"[http://schema.org/MusicGroup]\"/>\\n  </rdf:Description>\\n  <rdf:Description rdf:nodeID=\"N1f2c97d32c344c79abe5e2704a32b5ab\">\\n    <ns6:location rdf:nodeID=\"N6f3a1cabfc0a48fdb8afe1aa11a8ec3a\"/>\\n    <ns6:name>Firenze Rocks</ns6:name>\\n    <rdf:type rdf:resource=\"[http://schema.org/MusicEvent]\"/>\\n    <ns6:url rdf:resource=\"/festival/4549753+Firenze+Rocks\"/>\\n    <ns6:startDate>2020-06-10T00:00:00</ns6:startDate>\\n  </rdf:Description>\\n  <rdf:Description rdf:nodeID=\"N40833f24515f4208a6802a458d07a657\">\\n    <rdf:type rdf:resource=\"[http://schema.org/MusicEvent]\"/>\\n    <ns6:startDate>2020-05-22T00:00:00</ns6:startDate>\\n    <ns6:name>Boston Calling Music Festival</ns6:name>\\n    <ns6:location rdf:nodeID=\"Nf1be586c3b5a4d69bb257b6a2ecee66f\"/>\\n    <ns6:url rdf:resource=\"/festival/4536505+Boston+Calling+Music+Festival\"/>\\n  </rdf:Description>\\n  <rdf:Description rdf:nodeID=\"Nab6ae8d456ee4a5689b765da32b8884a\">\\n    <rdf:type rdf:resource=\"[http://schema.org/MusicRecording]\"/>\\n    <ns5:url rdf:resource=\"/music/Red+Hot+Chili+Peppers/_/Dani+California\"/>\\n    <ns5:name>\\n                        \\n                        \\n                        Dani California\\n                    </ns5:name>\\n  </rdf:Description>\\n  <rdf:Description rdf:nodeID=\"N8f38bb2ac5b64d16bd5d9c7990b9fbb8\">\\n    <ns5:name>\\n                        \\n                        \\n                        Otherside\\n                    </ns5:name>\\n    <ns5:url rdf:resource=\"/music/Red+Hot+Chili+Peppers/_/Otherside\"/>\\n    <rdf:type rdf:resource=\"[http://schema.org/MusicRecording]\"/>\\n  </rdf:Description>\\n  <rdf:Description rdf:nodeID=\"N789fca5de02941758c6e60c83f74f72c\">\\n    <ns4:byArtist>Red Hot Chili Peppers</ns4:byArtist>\\n    <ns4:url rdf:resource=\"/music/Red+Hot+Chili+Peppers/Live+in+California+1989\"/>\\n    <ns4:image rdf:resource=\"https://lastfm.freetls.fastly.net/i/u/avatar170s/c6f59c1e5e7240a4c0d427abd71f3dbb\"/>\\n    <rdf:type rdf:resource=\"[http://schema.org/MusicAlbum]\"/>\\n    <ns4:name>\\n        Live in California 1989\\n    </ns4:name>\\n  </rdf:Description>\\n  <rdf:Description rdf:nodeID=\"N2a397a35ceae4d62a1b252dba26f35be\">\\n    <rdf:type rdf:resource=\"[http://schema.org/MusicRecording]\"/>\\n    <ns5:name>\\n                        \\n                        \\n                        Give It Away\\n                    </ns5:name>\\n    <ns5:url rdf:resource=\"/music/Red+Hot+Chili+Peppers/_/Give+It+Away\"/>\\n  </rdf:Description>\\n  <rdf:Description rdf:nodeID=\"N2fd1bb82e9e4467aace9cb1a36ffda7d\">\\n    <ns3:name>\\n        Foo Fighters\\n    </ns3:name>\\n    <ns3:url rdf:resource=\"/music/Foo+Fighters\"/>\\n    <rdf:type rdf:resource=\"[http://schema.org/MusicGroup]\"/>\\n  </rdf:Description>\\n  <rdf:Description rdf:nodeID=\"N4685a817fe8d44a88c8ddd7fae06de7c\">\\n    <ns5:name>\\n                        \\n                        \\n                        Snow (Hey Oh)\\n                    </ns5:name>\\n    <ns5:url rdf:resource=\"/music/Red+Hot+Chili+Peppers/_/Snow+(Hey+Oh)\"/>\\n    <rdf:type rdf:resource=\"[http://schema.org/MusicRecording]\"/>\\n  </rdf:Description>\\n  <rdf:Description rdf:nodeID=\"N2ab908786753426b8b9641147c83847a\">\\n    <rdf:type rdf:resource=\"[http://schema.org/MusicGroup]\"/>\\n    <ns3:url rdf:resource=\"/music/Audioslave\"/>\\n    <ns3:name>\\n        Audioslave\\n    </ns3:name>\\n  </rdf:Description>\\n  <rdf:Description rdf:nodeID=\"Nd643cb639d2a4e809d1dcc678536b653\">\\n    <ns4:name>\\n        Blood Sugar Sex Magik\\n    </ns4:name>\\n    <ns4:image rdf:resource=\"https://lastfm.freetls.fastly.net/i/u/300x300/866a975e024d45e2ad50e3e0399dd45d.jpg\"/>\\n    <rdf:type rdf:resource=\"[http://schema.org/MusicAlbum]\"/>\\n    <ns4:byArtist>Red Hot Chili Peppers</ns4:byArtist>\\n    <ns4:url rdf:resource=\"/music/Red+Hot+Chili+Peppers/Blood+Sugar+Sex+Magik\"/>\\n  </rdf:Description>\\n  <rdf:Description rdf:nodeID=\"Nd54cbca336df43a284a52e84a08990a6\">\\n    <ns5:name>\\n                        \\n                        \\n                        Can\\'t Stop\\n                    </ns5:name>\\n    <rdf:type rdf:resource=\"[http://schema.org/MusicRecording]\"/>\\n    <ns5:url rdf:resource=\"/music/Red+Hot+Chili+Peppers/_/Can%27t+Stop\"/>\\n  </rdf:Description>\\n  <rdf:Description rdf:nodeID=\"N363d48f82b6e44aa8d03ead6d306d1df\">\\n    <ns3:name>\\n        John Frusciante\\n    </ns3:name>\\n    <ns3:url rdf:resource=\"/music/John+Frusciante\"/>\\n    <rdf:type rdf:resource=\"[http://schema.org/MusicGroup]\"/>\\n  </rdf:Description>\\n  <rdf:Description rdf:nodeID=\"Nf24e4ffc1add4065b77a32f3c52b43bd\">\\n    <ns4:url rdf:resource=\"/music/Red+Hot+Chili+Peppers/Californication\"/>\\n    <ns4:image rdf:resource=\"https://lastfm.freetls.fastly.net/i/u/300x300/a1ef00507ce94ac6b59d00d6603a1a22.jpg\"/>\\n    <rdf:type rdf:resource=\"[http://schema.org/MusicAlbum]\"/>\\n    <ns4:byArtist>Red Hot Chili Peppers</ns4:byArtist>\\n    <ns4:name>\\n        Californication\\n    </ns4:name>\\n  </rdf:Description>\\n  <rdf:Description rdf:nodeID=\"Ne8dc76225e43438a9933cb92b1c2204e\">\\n    <ns4:url rdf:resource=\"/music/Red+Hot+Chili+Peppers/By+the+Way\"/>\\n    <ns4:image rdf:resource=\"https://lastfm.freetls.fastly.net/i/u/300x300/e6605f39212f48d1b3968e78b5423456.jpg\"/>\\n    <ns4:byArtist>Red Hot Chili Peppers</ns4:byArtist>\\n    <rdf:type rdf:resource=\"[http://schema.org/MusicAlbum]\"/>\\n    <ns4:name>\\n        By the Way\\n    </ns4:name>\\n  </rdf:Description>\\n  <rdf:Description rdf:nodeID=\"Nf0f5557ac6684285b6853d1dea900576\">\\n    <ns3:name>\\n        John Frusciante\\n    </ns3:name>\\n    <rdf:type rdf:resource=\"[http://schema.org/MusicGroup]\"/>\\n    <ns3:url rdf:resource=\"/music/John+Frusciante\"/>\\n  </rdf:Description>\\n  <rdf:Description rdf:nodeID=\"N98b4107cfe3e4e0bac9a013fdbfa56d4\">\\n    <rdf:type rdf:resource=\"[http://schema.org/MusicAlbum]\"/>\\n    <ns4:byArtist>Red Hot Chili Peppers</ns4:byArtist>\\n    <ns4:name>\\n        Stadium Arcadium\\n    </ns4:name>\\n    <ns4:url rdf:resource=\"/music/Red+Hot+Chili+Peppers/Stadium+Arcadium\"/>\\n    <ns4:image rdf:resource=\"https://lastfm.freetls.fastly.net/i/u/300x300/fb7d1a6c6e5240c48159d08b17ea022b.jpg\"/>\\n  </rdf:Description>\\n  <rdf:Description rdf:nodeID=\"N28508e3f66b14b6e9626481b7fef5404\">\\n    <rdf:type rdf:resource=\"[http://schema.org/MusicGroup]\"/>\\n    <ns3:url rdf:resource=\"/music/Rage+Against+the+Machine\"/>\\n    <ns3:name>\\n        Rage Against the Machine\\n    </ns3:name>\\n  </rdf:Description>\\n  <rdf:Description rdf:nodeID=\"N09340c1c15454d719c9788e4a04115c8\">\\n    <ns1:address>Gulf Shores, AL, United States</ns1:address>\\n    <rdf:type rdf:resource=\"[http://schema.org/Place]\"/>\\n    <ns1:name>The Hangout</ns1:name>\\n  </rdf:Description>\\n  <rdf:Description rdf:nodeID=\"Nb4f5e70deae44eda8a90ff1b095e6e39\">\\n    <rdf:type rdf:resource=\"[http://schema.org/MusicGroup]\"/>\\n    <ns3:name>\\n        Foo Fighters\\n    </ns3:name>\\n    <ns3:url rdf:resource=\"/music/Foo+Fighters\"/>\\n  </rdf:Description>\\n  <rdf:Description rdf:nodeID=\"N936ac81d365440808f8b85cb5a33fde0\">\\n    <ns6:location rdf:nodeID=\"N09340c1c15454d719c9788e4a04115c8\"/>\\n    <ns6:name>Hangout Music Fest</ns6:name>\\n    <ns6:url rdf:resource=\"/festival/4544320+Hangout+Music+Fest\"/>\\n    <ns6:startDate>2020-05-15T00:00:00</ns6:startDate>\\n    <rdf:type rdf:resource=\"[http://schema.org/MusicEvent]\"/>\\n  </rdf:Description>\\n  <rdf:Description rdf:nodeID=\"N3a0e2060a9bd44d589ca6d3a513dbc76\">\\n    <ns1:name>The Hangout</ns1:name>\\n    <rdf:type rdf:resource=\"[http://schema.org/Place]\"/>\\n    <ns1:address>Gulf Shores, AL, United States</ns1:address>\\n  </rdf:Description>\\n  <rdf:Description rdf:nodeID=\"Nf646d4b04a3c4bacb6894928e5ab08a5\">\\n    <ns5:url rdf:resource=\"/music/Red+Hot+Chili+Peppers/_/Dark+Necessities\"/>\\n    <rdf:type rdf:resource=\"[http://schema.org/MusicRecording]\"/>\\n    <ns5:name>\\n                        \\n                        \\n                        Dark Necessities\\n                    </ns5:name>\\n  </rdf:Description>\\n  <rdf:Description rdf:nodeID=\"Nf1be586c3b5a4d69bb257b6a2ecee66f\">\\n    <ns1:name>Harvard University Athletics Complex</ns1:name>\\n    <ns1:address>Boston, United States</ns1:address>\\n    <rdf:type rdf:resource=\"[http://schema.org/Place]\"/>\\n  </rdf:Description>\\n  <rdf:Description rdf:nodeID=\"Nb0f569beb7234fa99079cbf11384756c\">\\n    <ns5:name>\\n                        \\n                        \\n                        Californication\\n                    </ns5:name>\\n    <rdf:type rdf:resource=\"[http://schema.org/MusicRecording]\"/>\\n    <ns5:url rdf:resource=\"/music/Red+Hot+Chili+Peppers/_/Californication\"/>\\n  </rdf:Description>\\n  <rdf:Description rdf:nodeID=\"N9e62534fd91347a8b180a04c496b9ba2\">\\n    <ns1:address>Boston, United States</ns1:address>\\n    <rdf:type rdf:resource=\"[http://schema.org/Place]\"/>\\n    <ns1:name>Harvard University Athletics Complex</ns1:name>\\n  </rdf:Description>\\n  <rdf:Description rdf:nodeID=\"N093354ac7a11446b9422a107a72dbca3\">\\n    <rdf:type rdf:resource=\"[http://schema.org/MusicRecording]\"/>\\n    <ns5:name>\\n                        \\n                        \\n                        By the Way\\n                    </ns5:name>\\n    <ns5:url rdf:resource=\"/music/Red+Hot+Chili+Peppers/_/By+the+Way\"/>\\n  </rdf:Description>\\n  <rdf:Description rdf:nodeID=\"N12c7295940a34acb8379b7008f5ea350\">\\n    <ns3:url rdf:resource=\"/music/Jane%27s+Addiction\"/>\\n    <rdf:type rdf:resource=\"[http://schema.org/MusicGroup]\"/>\\n    <ns3:name>\\n        Jane\\'s Addiction\\n    </ns3:name>\\n  </rdf:Description>\\n  <rdf:Description rdf:nodeID=\"N0d8b7345281f4206afe69c774ecb1aa2\">\\n    <ns1:name>Visarno arena</ns1:name>\\n    <rdf:type rdf:resource=\"[http://schema.org/Place]\"/>\\n    <ns1:address>Florence, Italy</ns1:address>\\n  </rdf:Description>\\n  <rdf:Description rdf:nodeID=\"N6f3a1cabfc0a48fdb8afe1aa11a8ec3a\">\\n    <ns1:name>Visarno arena</ns1:name>\\n    <rdf:type rdf:resource=\"[http://schema.org/Place]\"/>\\n    <ns1:address>Florence, Italy</ns1:address>\\n  </rdf:Description>\\n</rdf:RDF>\\n'\n"
     ]
    }
   ],
   "source": [
    "# -*- coding: utf-8 -*-\n",
    "\n",
    "import rdflib\n",
    "import rdflib_microdata\n",
    "\n",
    "# Pass in a URL containing Schema.org microformats\n",
    "url = \"http://www.last.fm/music/Red+Hot+Chili+Peppers?ac=red\"\n",
    "\n",
    "g = rdflib.Graph()\n",
    "g.parse(url, format=\"microdata\")\n",
    "print (g.serialize())"
   ]
  },
  {
   "cell_type": "markdown",
   "metadata": {},
   "source": [
    "### Task 3.1 \n",
    "Compare the schema.org information about a band on last.fm to the Facebook Open Graph information about the same band from Facebook. What are the differences? Which format do you think supports better interoperability?"
   ]
  },
  {
   "cell_type": "markdown",
   "metadata": {},
   "source": [
    "### Task 3.2\n",
    "Explore the various microformats at http://microformats.org/ and compare the output of the exercises with the output of http://microformats.org/. Think about possible microformats you want to support in your final assignment and read up on how to parse them."
   ]
  }
 ],
 "metadata": {
  "kernelspec": {
   "display_name": "Python 3",
   "language": "python",
   "name": "python3"
  },
  "language_info": {
   "codemirror_mode": {
    "name": "ipython",
    "version": 3
   },
   "file_extension": ".py",
   "mimetype": "text/x-python",
   "name": "python",
   "nbconvert_exporter": "python",
   "pygments_lexer": "ipython3",
   "version": "3.7.5"
  }
 },
 "nbformat": 4,
 "nbformat_minor": 2
}
