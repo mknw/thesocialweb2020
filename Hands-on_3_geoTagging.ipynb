{
 "cells": [
  {
   "cell_type": "markdown",
   "metadata": {},
   "source": [
    "*****************************************************************\n",
    "#  The Social Web \n",
    "- Instructors: Davide Ceolin, Dayana Spagnuelo\n",
    "- Lab Assistants: Michael Accetto, Sarthak Gupta \n",
    "- Exercises for Hands-on session 3\n",
    "- 20 February 2020 11:00 - 12:45                 \n",
    "- NU-5B-21, NU-6A-04, NU-6B-20, NU-6C-39, NU-6C-40                             \n",
    "*****************************************************************"
   ]
  },
  {
   "cell_type": "markdown",
   "metadata": {},
   "source": [
    "In this session you are going to mine data in various microformats. You will see the differences in what each of the formats can contain and what purpose they serve. We will start by looking at geographical data. \n",
    "\n",
    "Prerequisites:\n",
    "- Python 3.7\n",
    "- Python packages: requests, BeautifulSoup4, HTMLParser, rdflib, rdflib_microdata\n"
   ]
  },
  {
   "cell_type": "code",
   "execution_count": 1,
   "metadata": {},
   "outputs": [
    {
     "name": "stdout",
     "output_type": "stream",
     "text": [
      "Requirement already satisfied: requests in /home/mknw/.venv/tswvenv37/lib/python3.7/site-packages\n",
      "Requirement already satisfied: idna<2.9,>=2.5 in /home/mknw/.venv/tswvenv37/lib/python3.7/site-packages (from requests)\n",
      "Requirement already satisfied: certifi>=2017.4.17 in /home/mknw/.venv/tswvenv37/lib/python3.7/site-packages (from requests)\n",
      "Requirement already satisfied: urllib3!=1.25.0,!=1.25.1,<1.26,>=1.21.1 in /home/mknw/.venv/tswvenv37/lib/python3.7/site-packages (from requests)\n",
      "Requirement already satisfied: chardet<3.1.0,>=3.0.2 in /home/mknw/.venv/tswvenv37/lib/python3.7/site-packages (from requests)\n",
      "Requirement already satisfied: BeautifulSoup4 in /home/mknw/.venv/tswvenv37/lib/python3.7/site-packages\n",
      "Requirement already satisfied: soupsieve>=1.2 in /home/mknw/.venv/tswvenv37/lib/python3.7/site-packages (from BeautifulSoup4)\n",
      "Requirement already satisfied: HTMLParser in /home/mknw/.venv/tswvenv37/lib/python3.7/site-packages\n",
      "Requirement already satisfied: rdflib in /home/mknw/.venv/tswvenv37/lib/python3.7/site-packages\n",
      "Requirement already satisfied: pyparsing in /home/mknw/.venv/tswvenv37/lib/python3.7/site-packages (from rdflib)\n",
      "Requirement already satisfied: isodate in /home/mknw/.venv/tswvenv37/lib/python3.7/site-packages (from rdflib)\n",
      "Requirement already satisfied: six in /home/mknw/.venv/tswvenv37/lib/python3.7/site-packages (from isodate->rdflib)\n"
     ]
    }
   ],
   "source": [
    "# If you're using a virtualenv, make sure it's activated before running \n",
    "# this cell!\n",
    "!pip install requests\n",
    "!pip install BeautifulSoup4\n",
    "!pip install HTMLParser \n",
    "!pip install rdflib\n",
    "# !pip install rdflib_microdata"
   ]
  },
  {
   "cell_type": "markdown",
   "metadata": {},
   "source": [
    "To get the newer features available with the facebook-sdk package, we will install the package from its github repository. \\\n",
    "This is possible with pip, by following this syntax:  \n",
    "\n",
    "`pip install git+YOUR_GITHUB_REPOSITORY_URL` \n",
    "\n",
    "For instance:"
   ]
  },
  {
   "cell_type": "code",
   "execution_count": 2,
   "metadata": {},
   "outputs": [
    {
     "name": "stdout",
     "output_type": "stream",
     "text": [
      "Obtaining rdflib-microdata from git+https://github.com/edsu/rdflib-microdata.git#egg=rdflib-microdata\n",
      "  Updating /home/mknw/.venv/tswvenv37/src/rdflib-microdata clone\n",
      "Requirement already satisfied: html5lib in /home/mknw/.venv/tswvenv37/lib/python3.7/site-packages (from rdflib-microdata)\n",
      "Requirement already satisfied: microdata>=0.2 in /home/mknw/.venv/tswvenv37/lib/python3.7/site-packages (from rdflib-microdata)\n",
      "Requirement already satisfied: rdflib>=3.0 in /home/mknw/.venv/tswvenv37/lib/python3.7/site-packages (from rdflib-microdata)\n",
      "Requirement already satisfied: webencodings in /home/mknw/.venv/tswvenv37/lib/python3.7/site-packages (from html5lib->rdflib-microdata)\n",
      "Requirement already satisfied: six>=1.9 in /home/mknw/.venv/tswvenv37/lib/python3.7/site-packages (from html5lib->rdflib-microdata)\n",
      "Requirement already satisfied: pyparsing in /home/mknw/.venv/tswvenv37/lib/python3.7/site-packages (from rdflib>=3.0->rdflib-microdata)\n",
      "Requirement already satisfied: isodate in /home/mknw/.venv/tswvenv37/lib/python3.7/site-packages (from rdflib>=3.0->rdflib-microdata)\n",
      "Installing collected packages: rdflib-microdata\n",
      "  Found existing installation: rdflib-microdata 0.2.0\n",
      "    Uninstalling rdflib-microdata-0.2.0:\n",
      "      Successfully uninstalled rdflib-microdata-0.2.0\n",
      "  Running setup.py develop for rdflib-microdata\n",
      "Successfully installed rdflib-microdata\n"
     ]
    }
   ],
   "source": [
    "!pip install -e git+https://github.com/edsu/rdflib-microdata.git#egg=rdflib-microdata"
   ]
  },
  {
   "cell_type": "markdown",
   "metadata": {},
   "source": [
    "##  Exercise 1 \n",
    "Extracting coordinates from a webpage and reformatting them in the geo microformat (based on Example 8-1 in Mining the Social Web). \n"
   ]
  },
  {
   "cell_type": "code",
   "execution_count": 2,
   "metadata": {},
   "outputs": [
    {
     "name": "stdout",
     "output_type": "stream",
     "text": [
      "Location is at 52.367 4.900\n"
     ]
    }
   ],
   "source": [
    "# -*- coding: utf-8 -*-\n",
    "\n",
    "import requests\n",
    "from bs4 import BeautifulSoup\n",
    "\n",
    "# This script requires you to add a url of a page with geotags to the commandline, e.g.\n",
    "# python geo.py 'http://en.wikipedia.org/wiki/Amsterdam'\n",
    "URL = 'https://en.wikipedia.org/wiki/Amsterdam'\n",
    "\n",
    "req = requests.get(URL, headers={'User-Agent' : \"Social Web Course Student\"})\n",
    "soup = BeautifulSoup(req.text)\n",
    "\n",
    "geoTag = soup.find(True, 'geo')\n",
    "\n",
    "if geoTag and len(geoTag) > 1:\n",
    "        lat = geoTag.find(True, 'latitude').string\n",
    "        lon = geoTag.find(True, 'longitude').string\n",
    "        print ('Location is at'), lat, lon\n",
    "elif geoTag and len(geoTag) == 1:\n",
    "        (lat, lon) = geoTag.string.split(';')\n",
    "        (lat, lon) = (lat.strip(), lon.strip())\n",
    "        print (('Location is at'), lat, lon)\n",
    "else:\n",
    "        print ('Location not found')\n"
   ]
  },
  {
   "cell_type": "markdown",
   "metadata": {},
   "source": [
    "### Task 1\n",
    "\n",
    "Can you convert the output of Exercise 1 into KML? Here is the KML documentation: https://developers.google.com/kml/documentation/?csw=1 and here you can find a simple example of how it is used: https://renenyffenegger.ch/notes/tools/Google-Earth/kml/index\n",
    "\n",
    "Visualise the point in Google Maps using the following code example: https://developers.google.com/maps/documentation/javascript/examples/layer-kml-features\n",
    "You will have to create your own KML file for the custom map layer, and provide a URL to the KML file inside the JavaScript code, which means that you have to upload the file somewhere. You can use a service like http://pastebin.com/ to obtain a URL for your KML file —> paste the code there and request the RAW format URL; use this one in this Task1.\n",
    "\n",
    "Is KML a microformat, why (not)?"
   ]
  },
  {
   "cell_type": "markdown",
   "metadata": {},
   "source": [
    "## Exercise 2 \n",
    "There are a lot of specialised microformats, such as hRecipe to format recipes in. This format helps search engines to find recipes and index them properly so when you search for \"recipe biscotti\" it knows that it needs to return a page that contains ingredients and instructions. \n"
   ]
  },
  {
   "cell_type": "markdown",
   "metadata": {},
   "source": [
    "### Task 2 \n",
    "Parsing hRecipe data for a Chocolate Biscotti recipe (from Example 2-7 in Mining the Social Web)."
   ]
  },
  {
   "cell_type": "code",
   "execution_count": 22,
   "metadata": {},
   "outputs": [],
   "source": [
    "import requests\n",
    "import json\n",
    "from bs4 import BeautifulSoup\n",
    "\n",
    "# A yummy webpage (feel free to change to your likings.)\n",
    "URL = \"https://www.acouplecooks.com/spring-vegetarian-spaghetti-carbonara/\"\n",
    "\n",
    "# requests will return the html found at the given webpage...\n",
    "page = requests.get(URL)\n",
    "# ...and a BeautifulSoup object can be created from its content.\n",
    "soup = BeautifulSoup(page.content, 'html.parser')\n",
    "\n",
    "listchildren = list(soup.children)"
   ]
  },
  {
   "cell_type": "markdown",
   "metadata": {},
   "source": [
    "We can find any element in the page through *html tag selectors*\n",
    "You can find them all [here](https://www.w3schools.com/cssref/css_selectors.asp), but shortly these are \".\" for classes, # for ids and plain text for the element name.\n",
    "\n",
    "\n",
    "You can also combine them, so that looking for \".class1.class2\" would select all elements displaying both classes. For a deeper overview please check the above link (or google it). "
   ]
  },
  {
   "cell_type": "code",
   "execution_count": 49,
   "metadata": {},
   "outputs": [
    {
     "name": "stdout",
     "output_type": "stream",
     "text": [
      "31\n",
      "<div class=\"tasty-recipes-ingredients\"> <span class=\"tasty-recipes-scale-container\"> <span class=\"tasty-recipes-scale-label\">Scale</span> <button class=\"tasty-recipes-scale-button tasty-recipes-scale-button-active\" data-amount=\"1\">1x</button><button class=\"tasty-recipes-scale-button\" data-amount=\"2\">2x</button><button class=\"tasty-recipes-scale-button\" data-amount=\"3\">3x</button> </span><h3>Ingredients</h3><ul><li><span data-amount=\"1\">1</span> pound spaghetti noodles</li><li><span data-amount=\"0.5\" data-unit=\"cup\">½ cup</span> smoked mozzarella cheese</li><li><span data-amount=\"0.5\" data-unit=\"cup\">½ cup</span> grated Parmesan cheese, plus more for serving</li><li><span data-amount=\"4\">4</span> egg yolks</li><li><span data-amount=\"1\" data-unit=\"cup\">1 cup</span> frozen Earthbound Farm Organic peas</li><li><span data-amount=\"8\" data-unit=\"cup\">8 cup</span>s Earthbound Farm Organic spinach</li><li><span data-amount=\"3\" data-unit=\"tablespoon\">3 tablespoon</span>s butter</li><li><a data-tasty-links-no-disclosure=\"\" href=\"https://www.acouplecooks.com/what-is-kosher-salt/\" target=\"_blank\">Kosher salt</a></li><li>Fresh ground black pepper</li></ul></div>\n"
     ]
    }
   ],
   "source": [
    "print(len(listchildren)) # we can see here how many children the html doc has got.\n",
    "ingredients_unparsed = soup.select_one(\".tasty-recipes-ingredients\")\n",
    "print(ingredients_unparsed)\n"
   ]
  },
  {
   "cell_type": "code",
   "execution_count": 31,
   "metadata": {},
   "outputs": [
    {
     "name": "stdout",
     "output_type": "stream",
     "text": [
      "InstructionsIn a large pot, combine 6 quarts of water with 2 tablespoons kosher salt and bring it to a boil.Grate the Parmesan and mozzarella cheese. Carefully separate four egg yolks and set aside.Once boiling, add the pasta and cook until the pasta is just about al dente, about 7 minutes; then add peas and spinach and cook for 1 minute. Reserve 1 cup cooking water, and then drain the pasta and vegetables.In a skillet, melt the butter, then stir in the cheeses, ¼ cup pasta water, and ¼ teaspoon kosher salt. Stir in the pasta and vegetables until creamy over low heat, adding more pasta water if necessary (note that the mozzarella will stick together in some places).To serve, top each pasta serving with a whole egg yolk and additional Parmesan cheese, and stir the yolk into the pasta at the table (if you are uncomfortable serving egg yolks at the table, stir the egg yolks into the pasta in the skillet to heat them through). Serve immediately. (Note that the mozzarella cheese can become gummy the longer the pasta sits, so eat immediately if possible. Leftovers can be reheated in a skillet, but may not have the same creamy texture.)\n"
     ]
    }
   ],
   "source": [
    "instructions_unparsed = soup.select_one(\".tasty-recipes-instructions\").text\n",
    "print(instructions_unparsed)"
   ]
  },
  {
   "cell_type": "markdown",
   "metadata": {},
   "source": [
    "Let's finish off with the title:"
   ]
  },
  {
   "cell_type": "code",
   "execution_count": 48,
   "metadata": {},
   "outputs": [
    {
     "data": {
      "text/plain": [
       "'Vegetarian Carbonara'"
      ]
     },
     "execution_count": 48,
     "metadata": {},
     "output_type": "execute_result"
    }
   ],
   "source": [
    "title_unparsed = soup.select_one(\".post-header\") # \n",
    "categorical_title = title_unparsed.text.split(\"›\") # website specific divider.\n",
    "recipe_title = categorical_title[-1].strip() # let's remove that ugly space at the beginning.\n",
    "recipe_title"
   ]
  },
  {
   "cell_type": "markdown",
   "metadata": {},
   "source": [
    "## Task 2.0\n",
    "Now it's your turn. Create a function that can scrape any recipe webpage from the same website (other websites will have different class tags). \n",
    "\n",
    "Make sure to:\n",
    "\n",
    "- return itemized content (e.g. ingredients) in a list. You may want to use a list comprehension here.\n",
    "- "
   ]
  },
  {
   "cell_type": "code",
   "execution_count": 34,
   "metadata": {},
   "outputs": [
    {
     "name": "stdout",
     "output_type": "stream",
     "text": [
      "{}\n"
     ]
    }
   ],
   "source": [
    "# -*- coding: utf-8 -*-\n",
    "\n",
    "import requests\n",
    "import json\n",
    "from bs4 import BeautifulSoup\n",
    "\n",
    "# Pass in a URL containing hRecipe, such as\n",
    "# https://www.jamieoliver.com/recipes/pasta-recipes/veggie-carbonara/\n",
    "\n",
    "URL = \"https://www.acouplecooks.com/YOUR RECIPEE HERE/\"\n",
    "\n",
    "# Parse out some of the pertinent information for a recipe.\n",
    "# See http://microformats.org/wiki/hrecipe.\n",
    "\n",
    "def parse_hrecipe(url):\n",
    "    page = requests.get(URL)\n",
    "    soup = BeautifulSoup(page.content, 'html.parser')\n",
    "    \n",
    "    \n",
    "    title = \n",
    "    ingredients_unparsed = \n",
    "    instructions = \n",
    "    \n",
    "\n",
    "    return {\n",
    "            'name': fn,\n",
    "            'yield:': yield_,\n",
    "            'ingredients': ingredients,\n",
    "            'instructions': instructions,\n",
    "            }\n",
    "    \n",
    "recipe = parse_hrecipe(URL)\n",
    "print (json.dumps(recipe, indent=4))"
   ]
  },
  {
   "cell_type": "markdown",
   "metadata": {},
   "source": [
    "### Task 2.1\n",
    "Can you modify the hRecipe script in such a way that it gives a more informative error message if no recipe information is found instead of {} \n"
   ]
  },
  {
   "cell_type": "markdown",
   "metadata": {},
   "source": [
    "### Task 2.2 \n",
    "Does the hRecipe format facilitate easy comparison of different recipes? Can you for example easily compare different dessert recipe ingredients? For inspiration you can look back at the exercises you did in Hands-on session 1 where you compared different sets of tweets."
   ]
  },
  {
   "cell_type": "markdown",
   "metadata": {},
   "source": [
    "## Exercise 3"
   ]
  },
  {
   "cell_type": "markdown",
   "metadata": {},
   "source": [
    "As you might have noticed in the previous exercise, hRecipe is not used on many sites anymore, instead Schema.org annotations are added. Schema.org is a multipurpose format that has been created by a consortium consisting of Yahoo!, Google and Microsoft. It can describe entities, events, products etc. Check out the vocabulary specs on Schema.org."
   ]
  },
  {
   "cell_type": "markdown",
   "metadata": {},
   "source": [
    "### Task 3\n",
    "\n",
    "Parsing schema.org microdata. To parse this data you need to install the rdflib-microdata package, which you have done in one of the previous steps.\n",
    "\n"
   ]
  },
  {
   "cell_type": "code",
   "execution_count": 4,
   "metadata": {},
   "outputs": [
    {
     "name": "stdout",
     "output_type": "stream",
     "text": [
      "b'<?xml version=\"1.0\" encoding=\"UTF-8\"?>\\n<rdf:RDF\\n   xmlns:ns1=\"[http://schema.org/MusicGroup]#\"\\n   xmlns:ns2=\"[http://schema.org/MusicAlbum]#\"\\n   xmlns:ns3=\"[http://schema.org/MusicRecording]#\"\\n   xmlns:ns4=\"[http://schema.org/MusicEvent]#\"\\n   xmlns:ns5=\"[http://schema.org/Organization]#\"\\n   xmlns:ns6=\"[http://schema.org/Place]#\"\\n   xmlns:rdf=\"http://www.w3.org/1999/02/22-rdf-syntax-ns#\"\\n>\\n  <rdf:Description rdf:nodeID=\"N0d0d1fcfef704156abe6dc78f22d65e8\">\\n    <rdf:type rdf:resource=\"[http://schema.org/MusicGroup]\"/>\\n    <ns1:name>\\n        Foo Fighters\\n    </ns1:name>\\n    <ns1:url rdf:resource=\"/music/Foo+Fighters\"/>\\n  </rdf:Description>\\n  <rdf:Description rdf:nodeID=\"Nc6675369427a4799ab8c17d6cc7b0128\">\\n    <rdf:type rdf:resource=\"[http://schema.org/MusicGroup]\"/>\\n    <ns1:name>\\n        Jane\\'s Addiction\\n    </ns1:name>\\n    <ns1:url rdf:resource=\"/music/Jane%27s+Addiction\"/>\\n  </rdf:Description>\\n  <rdf:Description rdf:nodeID=\"Na4221fba54b94692b7b4733dcb5bc424\">\\n    <ns1:image>https://lastfm.freetls.fastly.net/i/u/ar0/366962d5733a4aee8bee4a136c239d47.jpg</ns1:image>\\n    <ns1:album rdf:nodeID=\"Nabfd52e825ba4508af6ea145f35b28d7\"/>\\n    <ns1:track rdf:nodeID=\"Nf14f4df30b7644d0959e10fd7471aaa6\"/>\\n    <ns1:event rdf:nodeID=\"N4bfa024138864f03bc0ed4afa070651b\"/>\\n    <ns1:album rdf:nodeID=\"N8a26a9e0892c4aa6acead943f171293f\"/>\\n    <ns1:track rdf:nodeID=\"Nebac6b2322cb48049ef9c4b863cf6dc5\"/>\\n    <ns1:album rdf:nodeID=\"N5956599bcb63409f9f959480e631d18d\"/>\\n    <ns1:track rdf:nodeID=\"N43b03a9d31154410bb9347e7c08c3191\"/>\\n    <ns1:track rdf:nodeID=\"N9e78d70009aa41be87c9fa6f743327b2\"/>\\n    <ns1:track rdf:nodeID=\"N20cef1d7d37148bbbdc15e41fbad5155\"/>\\n    <ns1:name>Red Hot Chili Peppers</ns1:name>\\n    <ns1:track rdf:nodeID=\"Ne504d20634b143babccf123e4b1482c7\"/>\\n    <ns1:track rdf:nodeID=\"Nf4acba991a544659907d883dba495158\"/>\\n    <ns1:event rdf:nodeID=\"Nf399f170671a4126b68ca483f1f0aa5c\"/>\\n    <ns1:event rdf:nodeID=\"N0f5a8c527a28468fb2102f576ac92aab\"/>\\n    <rdf:type rdf:resource=\"[http://schema.org/MusicGroup]\"/>\\n    <ns1:album rdf:nodeID=\"N102067f5658e4f099223a703be16f675\"/>\\n    <ns1:url rdf:resource=\"/music/Red+Hot+Chili+Peppers\"/>\\n    <ns1:track rdf:nodeID=\"Nbbe7c2c50c78484889193d643870acd5\"/>\\n    <ns1:track rdf:nodeID=\"Ne7643c2c582b479bb449e87b85eeff0f\"/>\\n    <ns1:event rdf:nodeID=\"N0a6bc771525e471abce715ee33bbc06a\"/>\\n    <ns1:event rdf:nodeID=\"N3bf9388f72c54c98b51d7dcd4da4b25f\"/>\\n    <ns1:album rdf:nodeID=\"N00486806c5e84bb9944c06b14cb54256\"/>\\n    <ns1:track rdf:nodeID=\"N74aaff136ff94d8e9c736686a5f4736f\"/>\\n    <ns1:event rdf:nodeID=\"N44b93ab7844f49aebcc1306d21244f5f\"/>\\n    <ns1:track rdf:nodeID=\"Nc36cda8c0aea42188d2f9a0673cdccb1\"/>\\n  </rdf:Description>\\n  <rdf:Description rdf:nodeID=\"Ne504d20634b143babccf123e4b1482c7\">\\n    <ns3:name>\\n                        \\n                        \\n                        Snow (Hey Oh)\\n                    </ns3:name>\\n    <ns3:url rdf:resource=\"/music/Red+Hot+Chili+Peppers/_/Snow+(Hey+Oh)\"/>\\n    <rdf:type rdf:resource=\"[http://schema.org/MusicRecording]\"/>\\n  </rdf:Description>\\n  <rdf:Description rdf:nodeID=\"Nf399f170671a4126b68ca483f1f0aa5c\">\\n    <rdf:type rdf:resource=\"[http://schema.org/MusicEvent]\"/>\\n    <ns4:url rdf:resource=\"/festival/4536505+Boston+Calling+Music+Festival\"/>\\n    <ns4:startDate>2020-05-22T00:00:00</ns4:startDate>\\n    <ns4:location rdf:nodeID=\"Nba548f1d082a4339a6d2b356b4b984d6\"/>\\n    <ns4:name>Boston Calling Music Festival</ns4:name>\\n  </rdf:Description>\\n  <rdf:Description rdf:nodeID=\"Nc954861932a249098b2574965cb87d13\">\\n    <rdf:type rdf:resource=\"[http://schema.org/Organization]\"/>\\n    <ns5:name>Last.fm</ns5:name>\\n    <ns5:sameAs rdf:resource=\"https://twitter.com/lastfm\"/>\\n    <ns5:sameAs rdf:resource=\"https://www.facebook.com/lastfm\"/>\\n    <ns5:sameAs rdf:resource=\"https://www.instagram.com/last_fm\"/>\\n    <ns5:url rdf:resource=\"https://www.last.fm\"/>\\n    <ns5:sameAs rdf:resource=\"https://www.youtube.com/user/lastfm\"/>\\n  </rdf:Description>\\n  <rdf:Description rdf:nodeID=\"N4bfa024138864f03bc0ed4afa070651b\">\\n    <ns4:url rdf:resource=\"/festival/4536505+Boston+Calling+Music+Festival\"/>\\n    <rdf:type rdf:resource=\"[http://schema.org/MusicEvent]\"/>\\n    <ns4:location rdf:nodeID=\"N7a933d7345384e70a440264bfdf88d1a\"/>\\n    <ns4:startDate>2020-05-22T00:00:00</ns4:startDate>\\n    <ns4:name>Boston Calling Music Festival</ns4:name>\\n  </rdf:Description>\\n  <rdf:Description rdf:nodeID=\"N1d79935fe20e477e921a386b31b35790\">\\n    <ns1:url rdf:resource=\"/music/Rage+Against+the+Machine\"/>\\n    <ns1:name>\\n        Rage Against the Machine\\n    </ns1:name>\\n    <rdf:type rdf:resource=\"[http://schema.org/MusicGroup]\"/>\\n  </rdf:Description>\\n  <rdf:Description rdf:nodeID=\"N9e78d70009aa41be87c9fa6f743327b2\">\\n    <ns3:name>\\n                        \\n                        \\n                        Dark Necessities\\n                    </ns3:name>\\n    <rdf:type rdf:resource=\"[http://schema.org/MusicRecording]\"/>\\n    <ns3:url rdf:resource=\"/music/Red+Hot+Chili+Peppers/_/Dark+Necessities\"/>\\n  </rdf:Description>\\n  <rdf:Description rdf:nodeID=\"Nebac6b2322cb48049ef9c4b863cf6dc5\">\\n    <ns3:url rdf:resource=\"/music/Red+Hot+Chili+Peppers/_/Under+the+Bridge\"/>\\n    <ns3:byArtist>Red Hot Chili Peppers</ns3:byArtist>\\n    <ns3:name>\\n        Under the Bridge\\n    </ns3:name>\\n    <rdf:type rdf:resource=\"[http://schema.org/MusicRecording]\"/>\\n  </rdf:Description>\\n  <rdf:Description rdf:nodeID=\"N0f5a8c527a28468fb2102f576ac92aab\">\\n    <ns4:url rdf:resource=\"/festival/4544320+Hangout+Music+Fest\"/>\\n    <rdf:type rdf:resource=\"[http://schema.org/MusicEvent]\"/>\\n    <ns4:name>Hangout Music Fest</ns4:name>\\n    <ns4:startDate>2020-05-15T00:00:00</ns4:startDate>\\n    <ns4:location rdf:nodeID=\"Naa662b7256684bac95a30f8573eeb936\"/>\\n  </rdf:Description>\\n  <rdf:Description rdf:nodeID=\"N0a6bc771525e471abce715ee33bbc06a\">\\n    <ns4:name>EJEKT Festival</ns4:name>\\n    <rdf:type rdf:resource=\"[http://schema.org/MusicEvent]\"/>\\n    <ns4:location rdf:nodeID=\"Nb3d982cea8d44d8f8e42096c27460047\"/>\\n    <ns4:startDate>2020-06-05T00:00:00</ns4:startDate>\\n    <ns4:url rdf:resource=\"/festival/4558162+EJEKT+Festival\"/>\\n  </rdf:Description>\\n  <rdf:Description rdf:nodeID=\"Nabfd52e825ba4508af6ea145f35b28d7\">\\n    <ns2:byArtist>Red Hot Chili Peppers</ns2:byArtist>\\n    <rdf:type rdf:resource=\"[http://schema.org/MusicAlbum]\"/>\\n    <ns2:url rdf:resource=\"/music/Red+Hot+Chili+Peppers/Blood+Sugar+Sex+Magik\"/>\\n    <ns2:name>\\n        Blood Sugar Sex Magik\\n    </ns2:name>\\n    <ns2:image rdf:resource=\"https://lastfm.freetls.fastly.net/i/u/300x300/866a975e024d45e2ad50e3e0399dd45d.jpg\"/>\\n  </rdf:Description>\\n  <rdf:Description rdf:nodeID=\"Nba548f1d082a4339a6d2b356b4b984d6\">\\n    <ns6:address>Boston, United States</ns6:address>\\n    <rdf:type rdf:resource=\"[http://schema.org/Place]\"/>\\n    <ns6:name>Harvard University Athletics Complex</ns6:name>\\n  </rdf:Description>\\n  <rdf:Description rdf:nodeID=\"Ncb3246f067a74dbea49c162770b7b2e4\">\\n    <rdf:type rdf:resource=\"[http://schema.org/MusicGroup]\"/>\\n    <ns1:name>\\n        Foo Fighters\\n    </ns1:name>\\n    <ns1:url rdf:resource=\"/music/Foo+Fighters\"/>\\n  </rdf:Description>\\n  <rdf:Description rdf:nodeID=\"N5956599bcb63409f9f959480e631d18d\">\\n    <ns2:url rdf:resource=\"/music/Red+Hot+Chili+Peppers/By+the+Way\"/>\\n    <ns2:byArtist>Red Hot Chili Peppers</ns2:byArtist>\\n    <rdf:type rdf:resource=\"[http://schema.org/MusicAlbum]\"/>\\n    <ns2:name>\\n        By the Way\\n    </ns2:name>\\n    <ns2:image rdf:resource=\"https://lastfm.freetls.fastly.net/i/u/300x300/e6605f39212f48d1b3968e78b5423456.jpg\"/>\\n  </rdf:Description>\\n  <rdf:Description rdf:nodeID=\"Nf14f4df30b7644d0959e10fd7471aaa6\">\\n    <ns3:url rdf:resource=\"/music/Red+Hot+Chili+Peppers/_/By+the+Way\"/>\\n    <ns3:name>\\n                        \\n                        \\n                        By the Way\\n                    </ns3:name>\\n    <rdf:type rdf:resource=\"[http://schema.org/MusicRecording]\"/>\\n  </rdf:Description>\\n  <rdf:Description rdf:nodeID=\"N543e4d7bbe7b4527bf70d8f00abb9d6b\">\\n    <ns1:url rdf:resource=\"/music/Audioslave\"/>\\n    <rdf:type rdf:resource=\"[http://schema.org/MusicGroup]\"/>\\n    <ns1:name>\\n        Audioslave\\n    </ns1:name>\\n  </rdf:Description>\\n  <rdf:Description rdf:nodeID=\"Nb3d982cea8d44d8f8e42096c27460047\">\\n    <ns6:name>Markopoulo Park</ns6:name>\\n    <rdf:type rdf:resource=\"[http://schema.org/Place]\"/>\\n    <ns6:address>Athens, Greece</ns6:address>\\n  </rdf:Description>\\n  <rdf:Description rdf:nodeID=\"N43b03a9d31154410bb9347e7c08c3191\">\\n    <ns3:url rdf:resource=\"/music/Red+Hot+Chili+Peppers/_/Otherside\"/>\\n    <ns3:name>\\n                        \\n                        \\n                        Otherside\\n                    </ns3:name>\\n    <rdf:type rdf:resource=\"[http://schema.org/MusicRecording]\"/>\\n  </rdf:Description>\\n  <rdf:Description rdf:nodeID=\"N3bf9388f72c54c98b51d7dcd4da4b25f\">\\n    <ns4:url rdf:resource=\"/festival/4558162+EJEKT+Festival\"/>\\n    <ns4:name>EJEKT Festival</ns4:name>\\n    <ns4:startDate>2020-06-05T00:00:00</ns4:startDate>\\n    <ns4:location rdf:nodeID=\"Nfde4507d4e82427d91995b5f956fa209\"/>\\n    <rdf:type rdf:resource=\"[http://schema.org/MusicEvent]\"/>\\n  </rdf:Description>\\n  <rdf:Description rdf:nodeID=\"N453ac27f5c9c4d07a2897a16eba4e48a\">\\n    <ns1:name>\\n        John Frusciante\\n    </ns1:name>\\n    <rdf:type rdf:resource=\"[http://schema.org/MusicGroup]\"/>\\n    <ns1:url rdf:resource=\"/music/John+Frusciante\"/>\\n  </rdf:Description>\\n  <rdf:Description rdf:nodeID=\"N00486806c5e84bb9944c06b14cb54256\">\\n    <ns2:byArtist>Red Hot Chili Peppers</ns2:byArtist>\\n    <rdf:type rdf:resource=\"[http://schema.org/MusicAlbum]\"/>\\n    <ns2:url rdf:resource=\"/music/Red+Hot+Chili+Peppers/Californication\"/>\\n    <ns2:image rdf:resource=\"https://lastfm.freetls.fastly.net/i/u/300x300/a1ef00507ce94ac6b59d00d6603a1a22.jpg\"/>\\n    <ns2:name>\\n        Californication\\n    </ns2:name>\\n  </rdf:Description>\\n  <rdf:Description rdf:nodeID=\"N44b93ab7844f49aebcc1306d21244f5f\">\\n    <ns4:url rdf:resource=\"/festival/4544320+Hangout+Music+Fest\"/>\\n    <rdf:type rdf:resource=\"[http://schema.org/MusicEvent]\"/>\\n    <ns4:location rdf:nodeID=\"N4473632d2f1242d6953acb8ea7893b0a\"/>\\n    <ns4:name>Hangout Music Fest</ns4:name>\\n    <ns4:startDate>2020-05-15T00:00:00</ns4:startDate>\\n  </rdf:Description>\\n  <rdf:Description rdf:nodeID=\"Nc7b2596c56244ef1bc1f3441106e45c3\">\\n    <ns1:url rdf:resource=\"/music/Pearl+Jam\"/>\\n    <ns1:name>\\n        Pearl Jam\\n    </ns1:name>\\n    <rdf:type rdf:resource=\"[http://schema.org/MusicGroup]\"/>\\n  </rdf:Description>\\n  <rdf:Description rdf:nodeID=\"Nef0ddcc1e4ff49bb90441e93fe808318\">\\n    <rdf:type rdf:resource=\"[http://schema.org/MusicGroup]\"/>\\n    <ns1:url rdf:resource=\"/music/John+Frusciante\"/>\\n    <ns1:name>\\n        John Frusciante\\n    </ns1:name>\\n  </rdf:Description>\\n  <rdf:Description rdf:nodeID=\"Nbbe7c2c50c78484889193d643870acd5\">\\n    <ns3:name>\\n                        \\n                        \\n                        Dani California\\n                    </ns3:name>\\n    <rdf:type rdf:resource=\"[http://schema.org/MusicRecording]\"/>\\n    <ns3:url rdf:resource=\"/music/Red+Hot+Chili+Peppers/_/Dani+California\"/>\\n  </rdf:Description>\\n  <rdf:Description rdf:nodeID=\"N102067f5658e4f099223a703be16f675\">\\n    <ns2:image rdf:resource=\"https://lastfm.freetls.fastly.net/i/u/avatar170s/c6f59c1e5e7240a4c0d427abd71f3dbb\"/>\\n    <ns2:byArtist>Red Hot Chili Peppers</ns2:byArtist>\\n    <ns2:url rdf:resource=\"/music/Red+Hot+Chili+Peppers/Live+in+California+1989\"/>\\n    <ns2:name>\\n        Live in California 1989\\n    </ns2:name>\\n    <rdf:type rdf:resource=\"[http://schema.org/MusicAlbum]\"/>\\n  </rdf:Description>\\n  <rdf:Description rdf:nodeID=\"N74aaff136ff94d8e9c736686a5f4736f\">\\n    <rdf:type rdf:resource=\"[http://schema.org/MusicRecording]\"/>\\n    <ns3:url rdf:resource=\"/music/Red+Hot+Chili+Peppers/_/Can%27t+Stop\"/>\\n    <ns3:name>\\n                        \\n                        \\n                        Can\\'t Stop\\n                    </ns3:name>\\n  </rdf:Description>\\n  <rdf:Description rdf:nodeID=\"Nfde4507d4e82427d91995b5f956fa209\">\\n    <rdf:type rdf:resource=\"[http://schema.org/Place]\"/>\\n    <ns6:address>Athens, Greece</ns6:address>\\n    <ns6:name>Markopoulo Park</ns6:name>\\n  </rdf:Description>\\n  <rdf:Description rdf:nodeID=\"Nc36cda8c0aea42188d2f9a0673cdccb1\">\\n    <ns3:url rdf:resource=\"/music/Red+Hot+Chili+Peppers/_/Under+the+Bridge\"/>\\n    <ns3:name>\\n                        \\n                        \\n                        Under the Bridge\\n                    </ns3:name>\\n    <rdf:type rdf:resource=\"[http://schema.org/MusicRecording]\"/>\\n  </rdf:Description>\\n  <rdf:Description rdf:nodeID=\"Naa662b7256684bac95a30f8573eeb936\">\\n    <ns6:address>Gulf Shores, AL, United States</ns6:address>\\n    <rdf:type rdf:resource=\"[http://schema.org/Place]\"/>\\n    <ns6:name>The Hangout</ns6:name>\\n  </rdf:Description>\\n  <rdf:Description rdf:nodeID=\"N20cef1d7d37148bbbdc15e41fbad5155\">\\n    <rdf:type rdf:resource=\"[http://schema.org/MusicRecording]\"/>\\n    <ns3:name>\\n                        \\n                        \\n                        Scar Tissue\\n                    </ns3:name>\\n    <ns3:url rdf:resource=\"/music/Red+Hot+Chili+Peppers/_/Scar+Tissue\"/>\\n  </rdf:Description>\\n  <rdf:Description rdf:nodeID=\"N8a26a9e0892c4aa6acead943f171293f\">\\n    <ns2:byArtist>Red Hot Chili Peppers</ns2:byArtist>\\n    <ns2:name>\\n        Stadium Arcadium\\n    </ns2:name>\\n    <ns2:url rdf:resource=\"/music/Red+Hot+Chili+Peppers/Stadium+Arcadium\"/>\\n    <rdf:type rdf:resource=\"[http://schema.org/MusicAlbum]\"/>\\n    <ns2:image rdf:resource=\"https://lastfm.freetls.fastly.net/i/u/300x300/fb7d1a6c6e5240c48159d08b17ea022b.jpg\"/>\\n  </rdf:Description>\\n  <rdf:Description rdf:nodeID=\"N8bfc86d4a97b4cce942bdf1bd8dce8d9\">\\n    <ns1:name>\\n        Audioslave\\n    </ns1:name>\\n    <ns1:url rdf:resource=\"/music/Audioslave\"/>\\n    <rdf:type rdf:resource=\"[http://schema.org/MusicGroup]\"/>\\n  </rdf:Description>\\n  <rdf:Description rdf:nodeID=\"N7a933d7345384e70a440264bfdf88d1a\">\\n    <ns6:name>Harvard University Athletics Complex</ns6:name>\\n    <ns6:address>Boston, United States</ns6:address>\\n    <rdf:type rdf:resource=\"[http://schema.org/Place]\"/>\\n  </rdf:Description>\\n  <rdf:Description rdf:nodeID=\"N4473632d2f1242d6953acb8ea7893b0a\">\\n    <ns6:name>The Hangout</ns6:name>\\n    <rdf:type rdf:resource=\"[http://schema.org/Place]\"/>\\n    <ns6:address>Gulf Shores, AL, United States</ns6:address>\\n  </rdf:Description>\\n  <rdf:Description rdf:nodeID=\"Nf4acba991a544659907d883dba495158\">\\n    <ns3:url rdf:resource=\"/music/Red+Hot+Chili+Peppers/_/Californication\"/>\\n    <rdf:type rdf:resource=\"[http://schema.org/MusicRecording]\"/>\\n    <ns3:name>\\n                        \\n                        \\n                        Californication\\n                    </ns3:name>\\n  </rdf:Description>\\n  <rdf:Description rdf:nodeID=\"Ne7643c2c582b479bb449e87b85eeff0f\">\\n    <ns3:url rdf:resource=\"/music/Red+Hot+Chili+Peppers/_/Give+It+Away\"/>\\n    <rdf:type rdf:resource=\"[http://schema.org/MusicRecording]\"/>\\n    <ns3:name>\\n                        \\n                        \\n                        Give It Away\\n                    </ns3:name>\\n  </rdf:Description>\\n</rdf:RDF>\\n'\n"
     ]
    }
   ],
   "source": [
    "# -*- coding: utf-8 -*-\n",
    "\n",
    "import rdflib\n",
    "import rdflib_microdata\n",
    "\n",
    "# Pass in a URL containing Schema.org microformats\n",
    "url = \"http://www.last.fm/music/Red+Hot+Chili+Peppers?ac=red\"\n",
    "\n",
    "g = rdflib.Graph()\n",
    "g.parse(url, format=\"microdata\")\n",
    "print (g.serialize())"
   ]
  },
  {
   "cell_type": "markdown",
   "metadata": {},
   "source": [
    "### Task 3.1 \n",
    "Compare the schema.org information about a band on last.fm to the Facebook Open Graph information about the same band from Facebook. What are the differences? Which format do you think supports better interoperability?"
   ]
  },
  {
   "cell_type": "markdown",
   "metadata": {},
   "source": [
    "### Task 3.2\n",
    "Explore the various microformats at http://microformats.org/ and compare the output of the exercises with the output of http://microformats.org/. Think about possible microformats you want to support in your final assignment and read up on how to parse them."
   ]
  }
 ],
 "metadata": {
  "kernelspec": {
   "display_name": "Python 3",
   "language": "python",
   "name": "python3"
  },
  "language_info": {
   "codemirror_mode": {
    "name": "ipython",
    "version": 3
   },
   "file_extension": ".py",
   "mimetype": "text/x-python",
   "name": "python",
   "nbconvert_exporter": "python",
   "pygments_lexer": "ipython3",
   "version": "3.7.5"
  }
 },
 "nbformat": 4,
 "nbformat_minor": 2
}
