{
 "cells": [
  {
   "cell_type": "markdown",
   "metadata": {},
   "source": [
    "*****************************************************************\n",
    "#  The Social Web \n",
    "- Instructors: Davide Ceolin, Dayana Spagnuelo\n",
    "- Lab Assistants: Michael Accetto, Sarthak Gupta \n",
    "- Exercises for Hands-on session 3\n",
    "- 20 February 2020 11:00 - 12:45                 \n",
    "- NU-5B-21, NU-6A-04, NU-6B-20, NU-6C-39, NU-6C-40                             \n",
    "*****************************************************************"
   ]
  },
  {
   "cell_type": "markdown",
   "metadata": {},
   "source": [
    "In this session you are going to mine data in various microformats. You will see the differences in what each of the formats can contain and what purpose they serve. We will start by looking at geographical data. \n",
    "\n",
    "Prerequisites:\n",
    "- Python 3.7\n",
    "- Python packages: requests, BeautifulSoup, HTMLParser, rdflib, rdflib_microdata\n",
    "\n",
    "You have to install the rdflib_microdata package from Git, as it is not in the standard PIP library. \n",
    "You can use:\n",
    "\n"
   ]
  },
  {
   "cell_type": "code",
   "execution_count": 1,
   "metadata": {},
   "outputs": [
    {
     "name": "stdout",
     "output_type": "stream",
     "text": [
      "Obtaining rdflib-microdata from git+https://github.com/edsu/rdflib-microdata.git#egg=rdflib-microdata\n",
      "  Updating /home/mknw/.venv/tswvenv37/src/rdflib-microdata clone\n",
      "Requirement already satisfied: html5lib in /home/mknw/.venv/tswvenv37/lib/python3.7/site-packages (from rdflib-microdata)\n",
      "Requirement already satisfied: microdata>=0.2 in /home/mknw/.venv/tswvenv37/lib/python3.7/site-packages (from rdflib-microdata)\n",
      "Requirement already satisfied: rdflib>=3.0 in /home/mknw/.venv/tswvenv37/lib/python3.7/site-packages (from rdflib-microdata)\n",
      "Requirement already satisfied: webencodings in /home/mknw/.venv/tswvenv37/lib/python3.7/site-packages (from html5lib->rdflib-microdata)\n",
      "Requirement already satisfied: six>=1.9 in /home/mknw/.venv/tswvenv37/lib/python3.7/site-packages (from html5lib->rdflib-microdata)\n",
      "Requirement already satisfied: pyparsing in /home/mknw/.venv/tswvenv37/lib/python3.7/site-packages (from rdflib>=3.0->rdflib-microdata)\n",
      "Requirement already satisfied: isodate in /home/mknw/.venv/tswvenv37/lib/python3.7/site-packages (from rdflib>=3.0->rdflib-microdata)\n",
      "Installing collected packages: rdflib-microdata\n",
      "  Found existing installation: rdflib-microdata 0.2.0\n",
      "    Uninstalling rdflib-microdata-0.2.0:\n",
      "      Successfully uninstalled rdflib-microdata-0.2.0\n",
      "  Running setup.py develop for rdflib-microdata\n",
      "Successfully installed rdflib-microdata\n"
     ]
    }
   ],
   "source": [
    "!pip install -e git+https://github.com/edsu/rdflib-microdata.git#egg=rdflib-microdata"
   ]
  },
  {
   "cell_type": "code",
   "execution_count": 17,
   "metadata": {},
   "outputs": [
    {
     "name": "stdout",
     "output_type": "stream",
     "text": [
      "Requirement already satisfied: requests in /usr/local/lib/python2.7/dist-packages (2.22.0)\n",
      "Requirement already satisfied: certifi>=2017.4.17 in /usr/local/lib/python2.7/dist-packages (from requests) (2019.11.28)\n",
      "Requirement already satisfied: urllib3!=1.25.0,!=1.25.1,<1.26,>=1.21.1 in /usr/local/lib/python2.7/dist-packages (from requests) (1.25.8)\n",
      "Requirement already satisfied: idna<2.9,>=2.5 in /usr/local/lib/python2.7/dist-packages (from requests) (2.8)\n",
      "Requirement already satisfied: chardet<3.1.0,>=3.0.2 in /usr/local/lib/python2.7/dist-packages (from requests) (3.0.4)\n",
      "Requirement already satisfied: BeautifulSoup4 in /usr/local/lib/python2.7/dist-packages (4.8.2)\n",
      "Requirement already satisfied: soupsieve>=1.2 in /usr/local/lib/python2.7/dist-packages (from BeautifulSoup4) (1.9.5)\n",
      "Requirement already satisfied: backports.functools-lru-cache; python_version < \"3\" in /usr/local/lib/python2.7/dist-packages (from soupsieve>=1.2->BeautifulSoup4) (1.6.1)\n",
      "Requirement already satisfied: HTMLParser in /usr/local/lib/python2.7/dist-packages (0.0.2)\n",
      "Requirement already satisfied: rdflib in /usr/local/lib/python2.7/dist-packages (4.2.2)\n",
      "Requirement already satisfied: isodate in /usr/local/lib/python2.7/dist-packages (from rdflib) (0.6.0)\n",
      "Requirement already satisfied: pyparsing in /usr/local/lib/python2.7/dist-packages (from rdflib) (2.4.6)\n",
      "Requirement already satisfied: six in /usr/lib/python2.7/dist-packages (from isodate->rdflib) (1.12.0)\n",
      "Requirement already satisfied: rdflib_microdata in ./src/rdflib-microdata (0.2.0)\n",
      "Requirement already satisfied: html5lib in /usr/local/lib/python2.7/dist-packages (from rdflib_microdata) (1.0.1)\n",
      "Requirement already satisfied: microdata>=0.2 in /usr/local/lib/python2.7/dist-packages (from rdflib_microdata) (0.7.1)\n",
      "Requirement already satisfied: rdflib>=3.0 in /usr/local/lib/python2.7/dist-packages (from rdflib_microdata) (4.2.2)\n",
      "Requirement already satisfied: six>=1.9 in /usr/lib/python2.7/dist-packages (from html5lib->rdflib_microdata) (1.12.0)\n",
      "Requirement already satisfied: webencodings in /usr/local/lib/python2.7/dist-packages (from html5lib->rdflib_microdata) (0.5.1)\n",
      "Requirement already satisfied: isodate in /usr/local/lib/python2.7/dist-packages (from rdflib>=3.0->rdflib_microdata) (0.6.0)\n",
      "Requirement already satisfied: pyparsing in /usr/local/lib/python2.7/dist-packages (from rdflib>=3.0->rdflib_microdata) (2.4.6)\n"
     ]
    }
   ],
   "source": [
    "# If you're using a virtualenv, make sure it's activated before running \n",
    "# this cell!\n",
    "!pip install requests\n",
    "!pip install BeautifulSoup4\n",
    "!pip install HTMLParser \n",
    "!pip install rdflib\n",
    "!pip install rdflib_microdata\n"
   ]
  },
  {
   "cell_type": "markdown",
   "metadata": {},
   "source": [
    "To get the newer features available with the facebook-sdk package, we will install the package from its github repository. \\\n",
    "This is possible with pip, by following this syntax:  \n",
    "\n",
    "`pip install git+YOUR_GITHUB_REPOSITORY_URL` \n",
    "\n",
    "For instance:"
   ]
  },
  {
   "cell_type": "code",
   "execution_count": 32,
   "metadata": {},
   "outputs": [
    {
     "name": "stdout",
     "output_type": "stream",
     "text": [
      "Obtaining rdflib-microdata from git+https://github.com/edsu/rdflib-microdata.git#egg=rdflib-microdata\n",
      "  Updating ./src/rdflib-microdata clone\n",
      "Requirement already satisfied: html5lib in /usr/local/lib/python2.7/dist-packages (from rdflib-microdata) (1.0.1)\n",
      "Requirement already satisfied: microdata>=0.2 in /usr/local/lib/python2.7/dist-packages (from rdflib-microdata) (0.7.1)\n",
      "Requirement already satisfied: rdflib>=3.0 in /usr/local/lib/python2.7/dist-packages (from rdflib-microdata) (4.2.2)\n",
      "Requirement already satisfied: six>=1.9 in /usr/lib/python2.7/dist-packages (from html5lib->rdflib-microdata) (1.12.0)\n",
      "Requirement already satisfied: webencodings in /usr/local/lib/python2.7/dist-packages (from html5lib->rdflib-microdata) (0.5.1)\n",
      "Requirement already satisfied: isodate in /usr/local/lib/python2.7/dist-packages (from rdflib>=3.0->rdflib-microdata) (0.6.0)\n",
      "Requirement already satisfied: pyparsing in /usr/local/lib/python2.7/dist-packages (from rdflib>=3.0->rdflib-microdata) (2.4.6)\n",
      "Installing collected packages: rdflib-microdata\n",
      "  Found existing installation: rdflib-microdata 0.2.0\n",
      "    Uninstalling rdflib-microdata-0.2.0:\n",
      "      Successfully uninstalled rdflib-microdata-0.2.0\n",
      "  Running setup.py develop for rdflib-microdata\n",
      "Successfully installed rdflib-microdata\n"
     ]
    }
   ],
   "source": [
    "!pip install -e git+https://github.com/edsu/rdflib-microdata.git#egg=rdflib-microdata"
   ]
  },
  {
   "cell_type": "markdown",
   "metadata": {},
   "source": [
    "##  Exercise 1 \n",
    "Extracting coordinates from a webpage and reformatting them in the geo microformat (based on Example 8-1 in Mining the Social Web). \n"
   ]
  },
  {
   "cell_type": "code",
   "execution_count": 31,
   "metadata": {},
   "outputs": [
    {
     "name": "stdout",
     "output_type": "stream",
     "text": [
      "Location is at 52.367 4.900\n"
     ]
    }
   ],
   "source": [
    "# -*- coding: utf-8 -*-\n",
    "\n",
    "import requests\n",
    "from bs4 import BeautifulSoup\n",
    "\n",
    "# This script requires you to add a url of a page with geotags to the commandline, e.g.\n",
    "# python geo.py 'http://en.wikipedia.org/wiki/Amsterdam'\n",
    "URL = 'https://en.wikipedia.org/wiki/Amsterdam'\n",
    "\n",
    "req = requests.get(URL, headers={'User-Agent' : \"Social Web Course Student\"})\n",
    "soup = BeautifulSoup(req.text)\n",
    "\n",
    "geoTag = soup.find(True, 'geo')\n",
    "\n",
    "if geoTag and len(geoTag) > 1:\n",
    "        lat = geoTag.find(True, 'latitude').string\n",
    "        lon = geoTag.find(True, 'longitude').string\n",
    "        print ('Location is at'), lat, lon\n",
    "elif geoTag and len(geoTag) == 1:\n",
    "        (lat, lon) = geoTag.string.split(';')\n",
    "        (lat, lon) = (lat.strip(), lon.strip())\n",
    "        print (('Location is at'), lat, lon)\n",
    "else:\n",
    "        print ('Location not found')\n"
   ]
  },
  {
   "cell_type": "markdown",
   "metadata": {},
   "source": [
    "### Task 1\n",
    "\n",
    "Can you convert the output of Exercise 1 into KML? Here is the KML documentation: https://developers.google.com/kml/documentation/?csw=1 and here you can find a simple example of how it is used: https://renenyffenegger.ch/notes/tools/Google-Earth/kml/index\n",
    "\n",
    "Visualise the point in Google Maps using the following code example: https://developers.google.com/maps/documentation/javascript/examples/layer-kml-features\n",
    "You will have to create your own KML file for the custom map layer, and provide a URL to the KML file inside the JavaScript code, which means that you have to upload the file somewhere. You can use a service like http://pastebin.com/ to obtain a URL for your KML file —> paste the code there and request the RAW format URL; use this one in this Task1.\n",
    "\n",
    "Is KML a microformat, why (not)?"
   ]
  },
  {
   "cell_type": "markdown",
   "metadata": {},
   "source": [
    "## Exercise 2 \n",
    "There are a lot of specialised microformats, such as hRecipe to format recipes in. This format helps search engines to find recipes and index them properly so when you search for \"recipe biscotti\" it knows that it needs to return a page that contains ingredients and instructions. \n"
   ]
  },
  {
   "cell_type": "markdown",
   "metadata": {},
   "source": [
    "### Task 2 \n",
    "Parsing hRecipe data for a Chocolate Biscotti recipe (from Example 2-7 in Mining the Social Web)."
   ]
  },
  {
   "cell_type": "code",
   "execution_count": 20,
   "metadata": {},
   "outputs": [
    {
     "name": "stdout",
     "output_type": "stream",
     "text": [
      "{}\n"
     ]
    }
   ],
   "source": [
    "# -*- coding: utf-8 -*-\n",
    "\n",
    "import requests\n",
    "import json\n",
    "from bs4 import BeautifulSoup\n",
    "\n",
    "# Pass in a URL containing hRecipe, such as\n",
    "# https://www.jamieoliver.com/recipes/pasta-recipes/veggie-carbonara/\n",
    "\n",
    "URL = \"https://www.jamieoliver.com/recipes/pasta-recipes/veggie-carbonara/\"\n",
    "\n",
    "# Parse out some of the pertinent information for a recipe.\n",
    "# See http://microformats.org/wiki/hrecipe.\n",
    "\n",
    "def parse_hrecipe(url):\n",
    "    req = requests.get(URL)\n",
    "    \n",
    "    soup = BeautifulSoup(req.text)\n",
    "\n",
    "    hrecipe = soup.find(True, 'hrecipe')\n",
    "\n",
    "    if hrecipe and len(hrecipe) > 1:\n",
    "        fn = hrecipe.find(True, 'fn').string\n",
    "        yield_ = hrecipe.find(True, 'yield').find(text=True)\n",
    "        ingredients = [i.string\n",
    "            for i in hrecipe.findAll(True, 'ingredient')\n",
    "                if i.string is not None]\n",
    "\n",
    "        instructions = []\n",
    "        for i in hrecipe.find(True, 'instructions').findAll(True, 'instruction'):\n",
    "            if type(i) == BeautifulSoup.Tag:\n",
    "                s = ''.join(i.findAll(text=True)).strip()\n",
    "            elif type(i) == BeautifulSoup.NavigableString:\n",
    "                s = i.string.strip()\n",
    "            else:\n",
    "                continue\n",
    "\n",
    "            if s!='':\n",
    "                instructions += [s]\n",
    "\n",
    "        return {\n",
    "            'name': fn,\n",
    "            'yield:': yield_,\n",
    "            'ingredients': ingredients,\n",
    "            'instructions': instructions,\n",
    "            }\n",
    "    else:\n",
    "        return {}\n",
    "\n",
    "recipe = parse_hrecipe(URL)\n",
    "print (json.dumps(recipe, indent=4))"
   ]
  },
  {
   "cell_type": "markdown",
   "metadata": {},
   "source": [
    "### Task 2.1\n",
    "Can you modify the hRecipe script in such a way that it gives a more informative error message if no recipe information is found instead of {} \n"
   ]
  },
  {
   "cell_type": "markdown",
   "metadata": {},
   "source": [
    "### Task 2.2 \n",
    "Does the hRecipe format facilitate easy comparison of different recipes? Can you for example easily compare different dessert recipe ingredients? For inspiration you can look back at the exercises you did in Hands-on session 1 where you compared different sets of tweets."
   ]
  },
  {
   "cell_type": "markdown",
   "metadata": {},
   "source": [
    "## Exercise 3"
   ]
  },
  {
   "cell_type": "markdown",
   "metadata": {},
   "source": [
    "As you might have noticed in the previous exercise, hRecipe is not used on many sites anymore, instead Schema.org annotations are added. Schema.org is a multipurpose format that has been created by a consortium consisting of Yahoo!, Google and Microsoft. It can describe entities, events, products etc. Check out the vocabulary specs on Schema.org."
   ]
  },
  {
   "cell_type": "markdown",
   "metadata": {},
   "source": [
    "### Task 3\n",
    "\n",
    "Parsing schema.org microdata. To parse this data you need to install the rdflib-microdata package, which is not in the standard pip repository. \n",
    "You can do so as follows:\n",
    "\n"
   ]
  },
  {
   "cell_type": "code",
   "execution_count": 1,
   "metadata": {},
   "outputs": [
    {
     "name": "stdout",
     "output_type": "stream",
     "text": [
      "Obtaining rdflib-microdata from git+https://github.com/edsu/rdflib-microdata.git#egg=rdflib-microdata\n",
      "  Updating ./src/rdflib-microdata clone\n",
      "Requirement already satisfied: html5lib in /usr/local/lib/python2.7/dist-packages (from rdflib-microdata) (1.0.1)\n",
      "Requirement already satisfied: microdata>=0.2 in /usr/local/lib/python2.7/dist-packages (from rdflib-microdata) (0.7.1)\n",
      "Requirement already satisfied: rdflib>=3.0 in /usr/local/lib/python2.7/dist-packages (from rdflib-microdata) (4.2.2)\n",
      "Requirement already satisfied: six>=1.9 in /usr/lib/python2.7/dist-packages (from html5lib->rdflib-microdata) (1.12.0)\n",
      "Requirement already satisfied: webencodings in /usr/local/lib/python2.7/dist-packages (from html5lib->rdflib-microdata) (0.5.1)\n",
      "Requirement already satisfied: isodate in /usr/local/lib/python2.7/dist-packages (from rdflib>=3.0->rdflib-microdata) (0.6.0)\n",
      "Requirement already satisfied: pyparsing in /usr/local/lib/python2.7/dist-packages (from rdflib>=3.0->rdflib-microdata) (2.4.6)\n",
      "Installing collected packages: rdflib-microdata\n",
      "  Found existing installation: rdflib-microdata 0.2.0\n",
      "    Uninstalling rdflib-microdata-0.2.0:\n",
      "      Successfully uninstalled rdflib-microdata-0.2.0\n",
      "  Running setup.py develop for rdflib-microdata\n",
      "Successfully installed rdflib-microdata\n"
     ]
    }
   ],
   "source": [
    "!pip install -e git+https://github.com/edsu/rdflib-microdata.git#egg=rdflib-microdata"
   ]
  },
  {
   "cell_type": "code",
   "execution_count": 5,
   "metadata": {},
   "outputs": [
    {
     "ename": "ModuleNotFoundError",
     "evalue": "No module named 'rdflib'",
     "output_type": "error",
     "traceback": [
      "\u001b[0;31m---------------------------------------------------------------------------\u001b[0m",
      "\u001b[0;31mModuleNotFoundError\u001b[0m                       Traceback (most recent call last)",
      "\u001b[0;32m<ipython-input-5-eec62ddd3781>\u001b[0m in \u001b[0;36m<module>\u001b[0;34m()\u001b[0m\n\u001b[1;32m      1\u001b[0m \u001b[0;34m\u001b[0m\u001b[0m\n\u001b[1;32m      2\u001b[0m \u001b[0;34m\u001b[0m\u001b[0m\n\u001b[0;32m----> 3\u001b[0;31m \u001b[0;32mimport\u001b[0m \u001b[0mrdflib\u001b[0m\u001b[0;34m\u001b[0m\u001b[0;34m\u001b[0m\u001b[0m\n\u001b[0m\u001b[1;32m      4\u001b[0m \u001b[0;32mimport\u001b[0m \u001b[0mrdflib_microdata\u001b[0m\u001b[0;34m\u001b[0m\u001b[0;34m\u001b[0m\u001b[0m\n\u001b[1;32m      5\u001b[0m \u001b[0;34m\u001b[0m\u001b[0m\n",
      "\u001b[0;31mModuleNotFoundError\u001b[0m: No module named 'rdflib'"
     ]
    }
   ],
   "source": [
    "# -*- coding: utf-8 -*-\n",
    "\n",
    "import rdflib\n",
    "import rdflib_microdata\n",
    "\n",
    "# Pass in a URL containing Schema.org microformats\n",
    "url = \"http://www.last.fm/music/Red+Hot+Chili+Peppers?ac=red\"\n",
    "\n",
    "g = rdflib.Graph()\n",
    "g.parse(url, format=\"microdata\")\n",
    "print (g.serialize())"
   ]
  },
  {
   "cell_type": "markdown",
   "metadata": {},
   "source": [
    "### Task 3.1 \n",
    "Compare the schema.org information about a band on last.fm to the Facebook Open Graph information about the same band from Facebook. What are the differences? Which format do you think supports better interoperability?"
   ]
  },
  {
   "cell_type": "markdown",
   "metadata": {},
   "source": [
    "### Task 3.2\n",
    "Explore the various microformats at http://microformats.org/ and compare the output of the exercises with the output of http://microformats.org/. Think about possible microformats you want to support in your final assignment and read up on how to parse them."
   ]
  }
 ],
 "metadata": {
  "kernelspec": {
   "display_name": "Python 3",
   "language": "python",
   "name": "python3"
  },
  "language_info": {
   "codemirror_mode": {
    "name": "ipython",
    "version": 3
   },
   "file_extension": ".py",
   "mimetype": "text/x-python",
   "name": "python",
   "nbconvert_exporter": "python",
   "pygments_lexer": "ipython3",
   "version": "3.7.5"
  }
 },
 "nbformat": 4,
 "nbformat_minor": 2
}
