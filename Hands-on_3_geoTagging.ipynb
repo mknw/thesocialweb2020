{
 "cells": [
  {
   "cell_type": "markdown",
   "metadata": {},
   "source": [
    "*****************************************************************\n",
    "#  The Social Web \n",
    "- Instructors Davide Ceolin, Dayana Spagnuelo\n",
    "- Exercises for Hands-on session 3\n",
    "- 20 February 2020 11:00 - 12:45                 \n",
    "- NU-5B-21, NU-6A-04, NU-6B-20, NU-6C-39, NU-6C-40                             \n",
    "*****************************************************************"
   ]
  },
  {
   "cell_type": "markdown",
   "metadata": {},
   "source": [
    "In this session you are going to mine data in various microformats. You will see the differences in what each of the formats can contain and what purpose they serve. We will start by looking at geographical data. \n",
    "\n",
    "Prerequisites:\n",
    "- Python 3.7\n",
    "- Python packages: requests, BeautifulSoup, HTMLParser, rdflib, rdflib_microdata\n",
    "\n",
    "You have to install the rdflib_microdata package from Git, as it is not in the standard PIP library. \n",
    "You can use:\n",
    "\n",
    "$ pip install -e git+https://github.com/edsu/rdflib-\n",
    "microdata.git#egg=rdflib-microdata\n"
   ]
  },
  {
   "cell_type": "code",
   "execution_count": 5,
   "metadata": {},
   "outputs": [
    {
     "name": "stdout",
     "output_type": "stream",
     "text": [
      "Obtaining rdflib-microdata from git+https://github.com/edsu/rdflib-microdata.git#egg=rdflib-microdata\n",
      "  Updating /home/mknw/.venv/tswvenv37/src/rdflib-microdata clone\n",
      "Requirement already satisfied: html5lib in /home/mknw/.venv/tswvenv37/lib/python3.7/site-packages (from rdflib-microdata)\n",
      "Requirement already satisfied: microdata>=0.2 in /home/mknw/.venv/tswvenv37/lib/python3.7/site-packages (from rdflib-microdata)\n",
      "Requirement already satisfied: rdflib>=3.0 in /home/mknw/.venv/tswvenv37/lib/python3.7/site-packages (from rdflib-microdata)\n",
      "Requirement already satisfied: six>=1.9 in /home/mknw/.venv/tswvenv37/lib/python3.7/site-packages (from html5lib->rdflib-microdata)\n",
      "Requirement already satisfied: webencodings in /home/mknw/.venv/tswvenv37/lib/python3.7/site-packages (from html5lib->rdflib-microdata)\n",
      "Requirement already satisfied: isodate in /home/mknw/.venv/tswvenv37/lib/python3.7/site-packages (from rdflib>=3.0->rdflib-microdata)\n",
      "Requirement already satisfied: pyparsing in /home/mknw/.venv/tswvenv37/lib/python3.7/site-packages (from rdflib>=3.0->rdflib-microdata)\n",
      "Installing collected packages: rdflib-microdata\n",
      "  Found existing installation: rdflib-microdata 0.2.0\n",
      "    Uninstalling rdflib-microdata-0.2.0:\n",
      "      Successfully uninstalled rdflib-microdata-0.2.0\n",
      "  Running setup.py develop for rdflib-microdata\n",
      "Successfully installed rdflib-microdata\n",
      "Requirement already satisfied: requests in /home/mknw/.venv/tswvenv37/lib/python3.7/site-packages\n",
      "Requirement already satisfied: chardet<3.1.0,>=3.0.2 in /home/mknw/.venv/tswvenv37/lib/python3.7/site-packages (from requests)\n",
      "Requirement already satisfied: urllib3!=1.25.0,!=1.25.1,<1.26,>=1.21.1 in /home/mknw/.venv/tswvenv37/lib/python3.7/site-packages (from requests)\n",
      "Requirement already satisfied: idna<2.9,>=2.5 in /home/mknw/.venv/tswvenv37/lib/python3.7/site-packages (from requests)\n",
      "Requirement already satisfied: certifi>=2017.4.17 in /home/mknw/.venv/tswvenv37/lib/python3.7/site-packages (from requests)\n",
      "Requirement already satisfied: BeautifulSoup4 in /home/mknw/.venv/tswvenv37/lib/python3.7/site-packages\n",
      "Requirement already satisfied: soupsieve>=1.2 in /home/mknw/.venv/tswvenv37/lib/python3.7/site-packages (from BeautifulSoup4)\n",
      "Requirement already satisfied: HTMLParser in /home/mknw/.venv/tswvenv37/lib/python3.7/site-packages\n",
      "Requirement already satisfied: rdflib in /home/mknw/.venv/tswvenv37/lib/python3.7/site-packages\n",
      "Requirement already satisfied: pyparsing in /home/mknw/.venv/tswvenv37/lib/python3.7/site-packages (from rdflib)\n",
      "Requirement already satisfied: isodate in /home/mknw/.venv/tswvenv37/lib/python3.7/site-packages (from rdflib)\n",
      "Requirement already satisfied: six in /home/mknw/.venv/tswvenv37/lib/python3.7/site-packages (from isodate->rdflib)\n",
      "Requirement already satisfied: rdflib_microdata in /home/mknw/.venv/tswvenv37/src/rdflib-microdata\n",
      "Requirement already satisfied: html5lib in /home/mknw/.venv/tswvenv37/lib/python3.7/site-packages (from rdflib_microdata)\n",
      "Requirement already satisfied: microdata>=0.2 in /home/mknw/.venv/tswvenv37/lib/python3.7/site-packages (from rdflib_microdata)\n",
      "Requirement already satisfied: rdflib>=3.0 in /home/mknw/.venv/tswvenv37/lib/python3.7/site-packages (from rdflib_microdata)\n",
      "Requirement already satisfied: six>=1.9 in /home/mknw/.venv/tswvenv37/lib/python3.7/site-packages (from html5lib->rdflib_microdata)\n",
      "Requirement already satisfied: webencodings in /home/mknw/.venv/tswvenv37/lib/python3.7/site-packages (from html5lib->rdflib_microdata)\n",
      "Requirement already satisfied: isodate in /home/mknw/.venv/tswvenv37/lib/python3.7/site-packages (from rdflib>=3.0->rdflib_microdata)\n",
      "Requirement already satisfied: pyparsing in /home/mknw/.venv/tswvenv37/lib/python3.7/site-packages (from rdflib>=3.0->rdflib_microdata)\n"
     ]
    }
   ],
   "source": [
    "# If you're using a virtualenv, make sure it's activated before running \n",
    "# this cell!\n",
    "!pip install -e git+https://github.com/edsu/rdflib-microdata.git#egg=rdflib-microdata\n",
    "!pip install requests\n",
    "!pip install BeautifulSoup4\n",
    "!pip install HTMLParser \n",
    "!pip install rdflib\n",
    "!pip install rdflib_microdata"
   ]
  },
  {
   "cell_type": "markdown",
   "metadata": {},
   "source": [
    "To get the newer features available with the facebook-sdk package, we will install the package from its github repository. \\\n",
    "This is possible with pip, by following this syntax:  \n",
    "\n",
    "`pip install git+YOUR_GITHUB_REPOSITORY_URL` \n",
    "\n",
    "For instance:"
   ]
  },
  {
   "cell_type": "code",
   "execution_count": 4,
   "metadata": {},
   "outputs": [
    {
     "name": "stdout",
     "output_type": "stream",
     "text": [
      "Obtaining rdflib-microdata from git+https://github.com/edsu/rdflib-microdata.git#egg=rdflib-microdata\n",
      "  Updating /home/mknw/.venv/tswvenv37/src/rdflib-microdata clone\n",
      "Requirement already satisfied: html5lib in /home/mknw/.venv/tswvenv37/lib/python3.7/site-packages (from rdflib-microdata)\n",
      "Requirement already satisfied: microdata>=0.2 in /home/mknw/.venv/tswvenv37/lib/python3.7/site-packages (from rdflib-microdata)\n",
      "Requirement already satisfied: rdflib>=3.0 in /home/mknw/.venv/tswvenv37/lib/python3.7/site-packages (from rdflib-microdata)\n",
      "Requirement already satisfied: webencodings in /home/mknw/.venv/tswvenv37/lib/python3.7/site-packages (from html5lib->rdflib-microdata)\n",
      "Requirement already satisfied: six>=1.9 in /home/mknw/.venv/tswvenv37/lib/python3.7/site-packages (from html5lib->rdflib-microdata)\n",
      "Requirement already satisfied: isodate in /home/mknw/.venv/tswvenv37/lib/python3.7/site-packages (from rdflib>=3.0->rdflib-microdata)\n",
      "Requirement already satisfied: pyparsing in /home/mknw/.venv/tswvenv37/lib/python3.7/site-packages (from rdflib>=3.0->rdflib-microdata)\n",
      "Installing collected packages: rdflib-microdata\n",
      "  Found existing installation: rdflib-microdata 0.2.0\n",
      "    Uninstalling rdflib-microdata-0.2.0:\n",
      "      Successfully uninstalled rdflib-microdata-0.2.0\n",
      "  Running setup.py develop for rdflib-microdata\n",
      "Successfully installed rdflib-microdata\n"
     ]
    }
   ],
   "source": [
    "!pip install -e git+https://github.com/edsu/rdflib-microdata.git#egg=rdflib-microdata"
   ]
  },
  {
   "cell_type": "markdown",
   "metadata": {},
   "source": [
    "##  Exercise 1 \n",
    "Extracting coordinates from a webpage and reformatting them in the geo microformat (based on Example 8-1 in Mining the Social Web). Save and run the following code as a Python script.\n"
   ]
  },
  {
   "cell_type": "code",
   "execution_count": 3,
   "metadata": {},
   "outputs": [
    {
     "name": "stdout",
     "output_type": "stream",
     "text": [
      "Location is at\n"
     ]
    }
   ],
   "source": [
    "# -*- coding: utf-8 -*-\n",
    "\n",
    "import requests\n",
    "from bs4 import BeautifulSoup\n",
    "\n",
    "# This script requires you to add a url of a page with geotags to the commandline, e.g.\n",
    "# python geo.py 'http://en.wikipedia.org/wiki/Amsterdam'\n",
    "URL = 'http://en.wikipedia.org/wiki/Amsterdam'\n",
    "\n",
    "req = requests.get(URL, headers={'User-Agent' : \"Social Web Course Student\"})\n",
    "soup = BeautifulSoup(req.text)\n",
    "\n",
    "geoTag = soup.find(True, 'geo')\n",
    "\n",
    "if geoTag and len(geoTag) > 1:\n",
    "        lat = geoTag.find(True, 'latitude').string\n",
    "        lon = geoTag.find(True, 'longitude').string\n",
    "        print ('Location is at'), lat, lon\n",
    "elif geoTag and len(geoTag) == 1:\n",
    "        (lat, lon) = geoTag.string.split(';')\n",
    "        (lat, lon) = (lat.strip(), lon.strip())\n",
    "        print ('Location is at'), lat, lon\n",
    "else:\n",
    "        print ('Location not found')\n"
   ]
  },
  {
   "cell_type": "markdown",
   "metadata": {},
   "source": [
    "### Task 1\n",
    "\n",
    "Can you convert the output of Exercise 1 into KML? Here is the KML documentation: https://developers.google.com/kml/documentation/?csw=1 and here you can find a simple example of how it is used: http://kml-samples.googlecode.com/svn/trunk/kml/Placemark/placemark.kml\n",
    "\n",
    "Visualise the point in Google Maps using the following code example: https://developers.google.com/maps/documentation/javascript/examples/layer-kml-features\n",
    "You will have to create your own KML file for the custom map layer, and provide a URL to the KML file inside the JavaScript code, which means that you have to upload the file somewhere. You can use a service like http://pastebin.com/ to obtain a URL for your KML file —> paste the code there and request the RAW format URL; use this one in this Task1.\n",
    "\n",
    "Is KML a microformat, why (not)?"
   ]
  },
  {
   "cell_type": "markdown",
   "metadata": {},
   "source": [
    "## Exercise 2 \n",
    "There are a lot of specialised microformats, such as hRecipe to format recipes in. This format helps search engines to find recipes and index them properly so when you search for \"recipe biscotti\" it knows that it needs to return a page that contains ingredients and instructions. \n"
   ]
  },
  {
   "cell_type": "markdown",
   "metadata": {},
   "source": [
    "### Task 2 \n",
    "Parsing hRecipe data for a Chocolate Biscotti recipe (from Example 2-7 in Mining the Social Web). Save and run the following code as a Python script."
   ]
  },
  {
   "cell_type": "code",
   "execution_count": 6,
   "metadata": {},
   "outputs": [
    {
     "ename": "SyntaxError",
     "evalue": "invalid syntax (<ipython-input-6-98f9352db3e1>, line 52)",
     "output_type": "error",
     "traceback": [
      "\u001b[0;36m  File \u001b[0;32m\"<ipython-input-6-98f9352db3e1>\"\u001b[0;36m, line \u001b[0;32m52\u001b[0m\n\u001b[0;31m    print json.dumps(recipe, indent=4)\u001b[0m\n\u001b[0m             ^\u001b[0m\n\u001b[0;31mSyntaxError\u001b[0m\u001b[0;31m:\u001b[0m invalid syntax\n"
     ]
    }
   ],
   "source": [
    "# -*- coding: utf-8 -*-\n",
    "\n",
    "import sys\n",
    "import requests\n",
    "import json\n",
    "import BeautifulSoup\n",
    "\n",
    "# Pass in a URL containing hRecipe, such as\n",
    "# http://wholewheatsweets.com/recipe/cookies/whole_wheat_chocolate_hazelnut_biscotti\n",
    "\n",
    "URL = \"http://wholewheatsweets.com/recipe/cookies/whole_wheat_chocolate_hazelnut_biscotti\"\n",
    "\n",
    "# Parse out some of the pertinent information for a recipe.\n",
    "# See http://microformats.org/wiki/hrecipe.\n",
    "\n",
    "def parse_hrecipe(url):\n",
    "\treq = requests.get(URL)\n",
    "\t\n",
    "\tsoup = BeautifulSoup.BeautifulSoup(req.text)\n",
    "\t\n",
    "\threcipe = soup.find(True, 'hrecipe')\n",
    "\t\n",
    "\tif hrecipe and len(hrecipe) > 1:\n",
    "\t\tfn = hrecipe.find(True, 'fn').string\n",
    "\t\tyield_ = hrecipe.find(True, 'yield').find(text=True)\n",
    "\t\tingredients = [i.string\n",
    "\t\t\tfor i in hrecipe.findAll(True, 'ingredient')\n",
    "\t\t\t\tif i.string is not None]\n",
    "\t\n",
    "\t\tinstructions = []\n",
    "\t\tfor i in hrecipe.find(True, 'instructions').findAll(True, 'instruction'):\n",
    "\t\t\tif type(i) == BeautifulSoup.Tag:\n",
    "\t\t\t\ts = ''.join(i.findAll(text=True)).strip()\n",
    "\t\t\telif type(i) == BeautifulSoup.NavigableString:\n",
    "\t\t\t\ts = i.string.strip()\n",
    "\t\t\telse:\n",
    "\t\t\t\tcontinue\n",
    "\t\n",
    "\t\t\tif s!='':\n",
    "\t\t\t\tinstructions += [s]\n",
    "\t\n",
    "\t\treturn {\n",
    "\t\t\t'name': fn,\n",
    "\t\t\t'yield:': yield_,\n",
    "\t\t\t'ingredients': ingredients,\n",
    "\t\t\t'instructions': instructions,\n",
    "\t\t\t}\n",
    "\telse:\n",
    "\t\treturn {}\n",
    "\n",
    "recipe = parse_hrecipe(URL)\n",
    "print json.dumps(recipe, indent=4)"
   ]
  },
  {
   "cell_type": "markdown",
   "metadata": {},
   "source": [
    "### Task 2.1\n",
    "Can you modify the hRecipe script in such a way that it gives a more informative error message if no recipe information is found instead of {} \n"
   ]
  },
  {
   "cell_type": "markdown",
   "metadata": {},
   "source": [
    "### Task 2.2 \n",
    "Does the hRecipe format facilitate easy comparison of different recipes? Can you for example easily compare different dessert recipe ingredients? For inspiration you can look back at the exercises you did in Hands-on session 1 where you compared different sets of tweets."
   ]
  },
  {
   "cell_type": "markdown",
   "metadata": {},
   "source": [
    "## Exercise 3"
   ]
  },
  {
   "cell_type": "markdown",
   "metadata": {},
   "source": [
    "As you might have noticed in the previous exercise, hRecipe is not used on many sites anymore, instead Schema.org annotations are added. Schema.org is a multipurpose format that has been created by a consortium consisting of Yahoo!, Google and Microsoft. It can describe entities, events, products etc. Check out the vocabulary specs on Schema.org."
   ]
  },
  {
   "cell_type": "markdown",
   "metadata": {},
   "source": [
    "### Task 3\n",
    "\n",
    "Parsing schema.org microdata. To parse this data you need to install the rdflib-microdata package, which is not in the standard pip repository. \n",
    "You can do so as follows:\n",
    "\n",
    "pip install -e git+https://github.com/edsu/rdflib-microdata.git#egg=rdflib-microdata"
   ]
  },
  {
   "cell_type": "code",
   "execution_count": 14,
   "metadata": {},
   "outputs": [
    {
     "ename": "SyntaxError",
     "evalue": "invalid syntax (<ipython-input-14-ec701572683a>, line 13)",
     "output_type": "error",
     "traceback": [
      "\u001b[0;36m  File \u001b[0;32m\"<ipython-input-14-ec701572683a>\"\u001b[0;36m, line \u001b[0;32m13\u001b[0m\n\u001b[0;31m    print g.serialize()\u001b[0m\n\u001b[0m          ^\u001b[0m\n\u001b[0;31mSyntaxError\u001b[0m\u001b[0;31m:\u001b[0m invalid syntax\n"
     ]
    }
   ],
   "source": [
    "# -*- coding: utf-8 -*-\n",
    "\n",
    "import sys\n",
    "import rdflib\n",
    "import rdflib_microdata\n",
    "\n",
    "# Pass in a URL containing Schema.org microformats\n",
    "# http://www.last.fm/music/Red+Hot+Chili+Peppers?ac=red\n",
    "url = sys.argv[1]\n",
    "\n",
    "g = rdflib.Graph()\n",
    "g.parse(url, format=\"microdata\")\n",
    "print g.serialize()"
   ]
  },
  {
   "cell_type": "markdown",
   "metadata": {},
   "source": [
    "### Task 3.1 \n",
    "Compare the schema.org information about a band on last.fm to the Facebook Open Graph information about the same band from Facebook. What are the differences? Which of the formats supports better interoperability do you think?"
   ]
  },
  {
   "cell_type": "markdown",
   "metadata": {},
   "source": [
    "### Task 3.2\n",
    "Explore the various microformats that http://microform.at can handle and compare the output of the exercises with the output of microform.at Think about possible microformats you want to support in your final assignment and read up on how to parse them."
   ]
  }
 ],
 "metadata": {
  "kernelspec": {
   "display_name": "Python 3",
   "language": "python",
   "name": "python3"
  },
  "language_info": {
   "codemirror_mode": {
    "name": "ipython",
    "version": 3
   },
   "file_extension": ".py",
   "mimetype": "text/x-python",
   "name": "python",
   "nbconvert_exporter": "python",
   "pygments_lexer": "ipython3",
   "version": "3.7.5"
  }
 },
 "nbformat": 4,
 "nbformat_minor": 2
}
