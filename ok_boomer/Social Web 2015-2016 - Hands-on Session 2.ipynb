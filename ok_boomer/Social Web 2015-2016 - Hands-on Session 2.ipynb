{
 "cells": [
  {
   "cell_type": "raw",
   "metadata": {},
   "source": [
    "# The Social Web\n",
    "\n",
    "## 2015-2016 Master Information Sciences\n",
    "\n",
    "* Instructors: Davide Ceolin, Anca Dumitrache, and Niels Ockeloen\n",
    "* Exercises for Hands-on session 2\n",
    "* 11 February 2016 09:00 - 10:45\n",
    "* WN-F153 (L) WN-S345"
   ]
  },
  {
   "cell_type": "markdown",
   "metadata": {},
   "source": [
    "### Prerequisites:\n",
    "\n",
    "* Python 3.7\n",
    "* Python packages: facebook-sdk, networkx, requests, ipython\n",
    "\n",
    "Make sure to start your virtual environment (e.g. use <code>$ source socialEnv/bin/activate</code>) and that the python packages listed above are installed.\n",
    "\n",
    "For these exercises you have to register as a Facebook Developer. You can do this by going to [https://developers.facebook.com/](https://developers.facebook.com/). Click on apps and ‘Register as developer’ and accept the terms. You can just continue without providing details. \n",
    "\n",
    "Get the user access token by following these steps:\n",
    "\n",
    "* Go to the Graph API Explorer page: [https://developers.facebook.com/tools/explorer](https://developers.facebook.com/tools/explorer)\n",
    "* Press *Get Token*, then *Get User Access Token* to open an overlay window.\n",
    "* Check the *user_friends* box to set permission for retrieving your friend list. Click *Get Access Token*.\n",
    "* Check your query by building it with the visual editor on the left side of the page. From the tree view, search and add field *friends*, and then *likes* as a child of *friends*. Click *Submit* to view the results of your query.\n",
    "* Copy your access token from the text box at the top of the page to use in your code."
   ]
  },
  {
   "cell_type": "markdown",
   "metadata": {},
   "source": [
    "### **Task 1:** Make sure you know what all permissions mean. Think about which permissions you need to just find out who of your friends are also friends with each other.\n",
    "\n",
    "Because these are longer exercises than in the first session, we are going to store them in a script. This is nothing more than a plain text document that contains all the commands that we will load into Python. To load scripts you type <code>$ python NAMEOFSCRIPT.py</code> on your bash command line. This tells the computer that it's going to read python commands, from the file called <code>NAMEOFSCRIPT.py</code>. \n",
    "\n",
    "The $ sign indicates the command line.\n",
    "\n",
    "Facebook has different query APIs, such as REST APIs (http://developers.facebook.com/docs/reference/rest/), SQL-like query APIs using the Facebook Query Language (http://developers.facebook.com/docs/reference/fql) and the Graph API (http://developers.facebook.com/docs/reference/api) using the open Graph protocol (http://opengraphprotocol.org). This last one is the API we are going to use to query Facebook in the remainder of this session.\n",
    "\n",
    "**Exercise 1:** Gaining access to your Facebook account and query for information (based on Example 2-2 and 2-5 in Mining the Social Web)."
   ]
  },
  {
   "cell_type": "markdown",
   "metadata": {},
   "source": [
    "Copy the code you find in https://raw.githubusercontent.com/VU-Amsterdam-Web-Media-Group/TheSocialWeb2016/master/scripts/HandsOn2Exercise1.txt to a plain text document, and replace <code>token</code> with your user access token. Call the file facebook_graph_query.py and invoke it on the bash:\n",
    "<code>$ python facebook_graph_query.py</code>\n",
    "The output of facebook_graph_query.py retrieves information about yourself, your friends."
   ]
  },
  {
   "cell_type": "code",
   "execution_count": 2,
   "metadata": {},
   "outputs": [
    {
     "ename": "SyntaxError",
     "evalue": "Missing parentheses in call to 'print'. Did you mean print('---------------')? (<ipython-input-2-caffc8d0f7cb>, line 12)",
     "output_type": "error",
     "traceback": [
      "\u001b[0;36m  File \u001b[0;32m\"<ipython-input-2-caffc8d0f7cb>\"\u001b[0;36m, line \u001b[0;32m12\u001b[0m\n\u001b[0;31m    print '---------------'\u001b[0m\n\u001b[0m                          ^\u001b[0m\n\u001b[0;31mSyntaxError\u001b[0m\u001b[0;31m:\u001b[0m Missing parentheses in call to 'print'. Did you mean print('---------------')?\n"
     ]
    }
   ],
   "source": [
    "import facebook\n",
    "import json\n",
    "# A helper function to pretty-print Python objects as JSON\n",
    "def pp(o):\n",
    "\tprint(json.dumps(o, indent=1))\n",
    "\n",
    "# Create a connection to the Graph API with your access token\n",
    "token = ''\n",
    "g = facebook.GraphAPI(token)\n",
    "\n",
    "# Execute a few sample queries\n",
    "print '---------------'\n",
    "print 'Me'\n",
    "print '---------------'\n",
    "pp(g.get_object('me'))\n",
    "print\n",
    "print '---------------'\n",
    "print 'My Friends'\n",
    "print '---------------'\n",
    "pp(g.get_connections('me', 'posts'))\n",
    "print"
   ]
  },
  {
   "cell_type": "markdown",
   "metadata": {},
   "source": [
    "The code below searches for pages mentioning the UVA and VU. Invoking this script will show results but in the end returns an error. We are going to solve this in the next exercise.\n",
    "\n",
    "**Exercise 2:** Comparing likes between UVA and VU pages (based on Example 9-5 in Mining the Social Web). The facebook_graph_query.py has code that enables a comparison of the number of likes. Find the correct university id in the previous output and add them to the uva_id and vu_id variables in facebook_graph_query.py. To find out which university is better liked (on Facebook) execute the script again, which should now execute without an error."
   ]
  },
  {
   "cell_type": "code",
   "execution_count": null,
   "metadata": {
    "collapsed": true
   },
   "outputs": [],
   "source": [
    "print '---------------'\n",
    "print 'Pages about UVA'\n",
    "print '---------------'\n",
    "pp(g.request('search', {'q' : 'Universiteit van Amsterdam', 'type' : 'page', 'limit' : 5}))\n",
    "print\n",
    "print '---------------'\n",
    "print 'Pages about VU'\n",
    "print '---------------'\n",
    "pp(g.request('search', {'q' : 'Vrije Universiteit Amsterdam', 'type' : 'page', 'limit' : 5}))\n",
    "\n",
    "# Use the ids to query for likes\n",
    "uva_id = ''\n",
    "vu_id = ''\n",
    "\n",
    "# A quick way to format integers with commas every 3 digits\n",
    "def int_format(n):\n",
    "\treturn \"{:,}\".format(n)\n",
    "\n",
    "print \"UVA likes:\", int_format(g.get_object(uva_id)['likes'])\n",
    "print \"VU likes:\", int_format(g.get_object(vu_id)['likes'])"
   ]
  },
  {
   "cell_type": "markdown",
   "metadata": {},
   "source": [
    "### **Task 2:** Read the documentation of the Facebook Graph API and see if you can retrieve information about things other than pages. Such as groups or pages. \n",
    "\n",
    "**Exercise 3:** Analyzing things your friends ‘like’ (based on Example 2-7, 2-8 and 2-9 in Mining the Social Web)\n",
    "\n",
    "Copy the code you find in https://raw.githubusercontent.com/VU-Amsterdam-Web-Media-Group/TheSocialWeb2016/master/scripts/HandsOn2Exercise2.txt to a plain text document, and add your Facebook <code>token</code> again (refresh if expired). Call the file facebook_calculate_likes.py and invoke it on the bash:\n",
    "<code>$ python facebook_calculate_likes.py</code>\n",
    "\n",
    "\n",
    "The initial output is a python dictionary, which is hard to read. Make <code>print likes</code> a comment by adding a # in front and uncomment the other print statements, to get aggregate tables. Figure out how these tables are generated."
   ]
  },
  {
   "cell_type": "code",
   "execution_count": null,
   "metadata": {
    "collapsed": true
   },
   "outputs": [],
   "source": [
    "# First, let's query for all of the likes in your social\n",
    "# network and store them in a slightly more convenient\n",
    "# data structure as a dictionary keyed on each friend's\n",
    "# name.\n",
    "import facebook\n",
    "from prettytable import PrettyTable\n",
    "from collections import Counter\n",
    "\n",
    "# Create a connection to the Graph API with your access token\n",
    "g = facebook.GraphAPI(token)\n",
    "\n",
    "friends = g.get_connections(\"me\", \"friends\")['data']\n",
    "\n",
    "likes = { friend['name'] : g.get_connections(friend['id'], \"likes\")['data']\n",
    "        for friend in friends }\n",
    "print likes\n",
    "\n",
    "friends_likes = Counter([like['name']\n",
    "        for friend in likes\n",
    "                for like in likes[friend]\n",
    "                        if like.get('name')])\n",
    "\n",
    "pt = PrettyTable(field_names=['Name', 'Freq'])\n",
    "pt.align['Name'], pt.align['Freq'] = 'l', 'r'\n",
    "[ pt.add_row(fl) for fl in friends_likes.most_common(10) ]\n",
    "\n",
    "#print 'Top 10 likes amongst friends'\n",
    "#print pt\n",
    "\n",
    "\n",
    "# Analyze all like categories by frequency\n",
    "friends_likes_categories = Counter([like['category']\n",
    "        for friend in likes\n",
    "                for like in likes[friend]])\n",
    "\n",
    "pt2 = PrettyTable(field_names=['Category', 'Freq'])\n",
    "pt2.align['Category'], pt2.align['Freq'] = 'l', 'r'\n",
    "[ pt2.add_row(flc) for flc in friends_likes_categories.most_common(10) ]\n",
    "\n",
    "#print \"Top 10 like categories for friends\"\n",
    "#print pt2"
   ]
  },
  {
   "cell_type": "markdown",
   "metadata": {},
   "source": [
    "**Exercise 4:** Visualising a graph of mutual friendships (based on Example 2-13 in Mining the Social Web) In this final example, you're going to visualise your entire network and check which of your friends are mutual friends. You can find the code to create a graph at https://raw.githubusercontent.com/VU-Amsterdam-Web-Media-Group/TheSocialWeb2016/master/scripts/HandsOn2Exercise3.txt. Add the <code>token</code> and save this script as facebook_friends_graph.py. Create a viz folder in your working directory. When you run this script it will output a force.json file in the viz folder."
   ]
  },
  {
   "cell_type": "code",
   "execution_count": null,
   "metadata": {
    "collapsed": true
   },
   "outputs": [],
   "source": [
    "import networkx as nx \n",
    "from networkx.readwrite import json_graph\n",
    "import requests\n",
    "import facebook \n",
    "import json\n",
    "\n",
    "g = facebook.GraphAPI(token)\n",
    "\n",
    "\n",
    "friends = [ (friend['id'], friend['name'],)\n",
    "\tfor friend in g.get_connections('me', 'friends')['data'] ]\n",
    "\t\n",
    "url = 'https://graph.facebook.com/%s?fields=context.fields%%28mutual_friends%%29&access_token=%s'\n",
    "\n",
    "mutual_friends = {}\n",
    "\n",
    "# This loop spawns a separate request for each iteration, so\n",
    "# it may take a while.\n",
    "for friend_id, friend_name in friends:\n",
    "    r = requests.get(url % (friend_id, token,) )\n",
    "    print json.loads(r.content)\n",
    "    response_data = json.loads(r.content)['context']['mutual_friends']['data']\n",
    "    mutual_friends[friend_name] = [ data['name']\n",
    "\t\tfor data in response_data ]\n",
    "\n",
    "nxg = nx.Graph()\n",
    "\n",
    "[ nxg.add_edge('me', mf) for mf in mutual_friends ]\n",
    "\n",
    "[ nxg.add_edge(f1, f2)\n",
    "\tfor f1 in mutual_friends\n",
    "\t\tfor f2 in mutual_friends[f1] ]\n",
    "\n",
    "# Serializing a NetworkX graph to a file for consumption by D3\n",
    "nld = json_graph.node_link_data(nxg)\n",
    "json.dump(nld, open('viz/force.json','w'))"
   ]
  },
  {
   "cell_type": "markdown",
   "metadata": {},
   "source": [
    "### Optional Task: Can you modify the graph such that it writes something other than your friends' names as node labels. For example their locations? Can you use different colours for connections between you and male friends and female friends?\n",
    "\n",
    "**Exercise 5:**  Download the following https://raw.githubusercontent.com/VU-Amsterdam-Web-Media-Group/TheSocialWeb2016/master/lib/force.html file and put it in the viz folder. Opening this file with a browser (might not work with Chrome) will load the json file and provide you with a visual representation of the graph based on the http://d3js.org/ libraries.\n",
    "\n",
    "If the <code>force.html</code> file is not loading properly in your browser, you might need to enable reading local files from your browsers (see these [instructions](https://github.com/mrdoob/three.js/wiki/How-to-run-things-locally)).\n",
    "\n",
    "### Task 5: Explore the d3js libraries and think of other types of visualisations that may make these connections insightful."
   ]
  }
 ],
 "metadata": {
  "kernelspec": {
   "display_name": "Python 2",
   "language": "python",
   "name": "python2"
  },
  "language_info": {
   "codemirror_mode": {
    "name": "ipython",
    "version": 3
   },
   "file_extension": ".py",
   "mimetype": "text/x-python",
   "name": "python",
   "nbconvert_exporter": "python",
   "pygments_lexer": "ipython3",
   "version": "3.7.5"
  }
 },
 "nbformat": 4,
 "nbformat_minor": 1
}
