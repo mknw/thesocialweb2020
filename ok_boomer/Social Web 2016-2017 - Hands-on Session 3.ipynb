{
 "cells": [
  {
   "cell_type": "markdown",
   "metadata": {},
   "source": [
    "*****************************************************\n",
    " # The Social Web \t\t\t\t    \n",
    "  2016-2017 Master Information Sciences\t    \n",
    "  Instructors Davide Ceolin, Cristina Bucur \t            \n",
    "  Exercises for Hands-on session 3\t\t    \n",
    "  23 February 2017 11:00 - 12:45                   \n",
    "  HG-0B-16, HG-0B-08  \n",
    "*****************************************************"
   ]
  },
  {
   "cell_type": "markdown",
   "metadata": {},
   "source": [
    "Prerequisites:\n",
    "- Python 2.6 or 2.7\n",
    "- Python packages: requests, BeautifulSoup, HTMLParser, rdflib, rdflib_microdata*\n",
    "-------------------------------------------------------------------------------\n",
    "* NB! You have to install the rdflib_microdata package from Git, as it is not in the standard PIP library. You can use: \n",
    "$ pip install -e git+https://github.com/edsu/rdflib-microdata.git#egg=rdflib-microdata \n",
    "\n",
    "IF THAT DOES NOT WORK: (Command git not found): \n",
    "\n",
    "- Download the package manually as zip file from https://github.com/edsu/rdflib-microdata#egg=rdflib-microdata \n",
    "- unpack the zip file in the folder you created for The Social Web (H:\\socialweb in the getting started guide). In your social web folder, do:\n",
    "\n",
    "* pip install six\n",
    "\n",
    "* pip install rdflib-microdata-master\\ \n",
    "\n",
    "* (if there is an error with 'setuptools', uninstall and re-instal them (pip uninstall setuptools, pip install setuptools) and try again)\n",
    "\n",
    "-------------------------------------------------------------------------------\n",
    "\n",
    "In this session you are going to mine data in various microformats. You will see the differences in what each of the formats can contain and what purpose they serve. We will start by looking at geographical data. \n",
    "\n",
    "Exercise 1: Extracting coordinates from a webpage and reformatting them in the geo microformat (based on Example 8-1 in Mining the Social Web). Save and run the following code as a Python script."
   ]
  },
  {
   "cell_type": "code",
   "execution_count": null,
   "metadata": {
    "collapsed": true
   },
   "outputs": [],
   "source": [
    "# -*- coding: utf-8 -*-\n",
    "!pip install -e git+https://github.com/edsu/rdflib-microdata.git#egg=rdflib-microdata\n",
    "\n",
    "import sys\n",
    "import requests\n",
    "from BeautifulSoup import BeautifulSoup\n",
    "\n",
    "# This script requires you to add a url of a page with geotags to the commandline, e.g.\n",
    "# python geo.py \"http://en.wikipedia.org/wiki/Amsterdam\"\n",
    "URL = sys.argv[1]\n",
    "\n",
    "req = requests.get(URL, headers={'User-Agent' : \"Social Web Course Student\"})\n",
    "soup = BeautifulSoup(req.text)\n",
    "\n",
    "geoTag = soup.find(True, 'geo')\n",
    "\n",
    "if geoTag and len(geoTag) > 1:\n",
    "        lat = geoTag.find(True, 'latitude').string\n",
    "        lon = geoTag.find(True, 'longitude').string\n",
    "        print 'Location is at', lat, lon\n",
    "elif geoTag and len(geoTag) == 1:\n",
    "        (lat, lon) = geoTag.string.split(';')\n",
    "        (lat, lon) = (lat.strip(), lon.strip())\n",
    "        print 'Location is at', lat, lon\n",
    "else:\n",
    "        print 'No location found'"
   ]
  },
  {
   "cell_type": "markdown",
   "metadata": {},
   "source": [
    "-------------------------------------------------------------------------------\n",
    "Task 1: Can you convert the output of Exercise 1 into KML? Here is the KML documentation: https://developers.google.com/kml/documentation/?csw=1 and here you can find a simple example of how it is used: https://developers.google.com/kml/documentation/KML_Samples.kml\n",
    "\n",
    "Visualise the point in Google Maps using the following code example: https://developers.google.com/maps/documentation/javascript/examples/layer-kml-features\n",
    "You will have to create your own KML file for the custom map layer, and provide a URL to the KML file inside the JavaScript code, which means that you have to upload the file somewhere. You can use a service like http://pastebin.com/ to obtain a URL for your KML file —> paste the code there and request the RAW format URL; use this one in this Task1.\n",
    "\n",
    "Is KML a microformat, why (not)?\n",
    "\n",
    "-------------------------------------------------------------------------------\n",
    "\n",
    "There are a lot of specialised microformats, such as hRecipe to format recipes in. This format helps search engines to find recipes and index them properly so when you search for \"recipe biscotti\" it knows that it needs to return a page that contains ingredients and instructions. "
   ]
  },
  {
   "cell_type": "markdown",
   "metadata": {},
   "source": [
    "Exercise 2: Parsing hRecipe data for a Chocolate Biscotti recipe (from Example 2-7 in Mining the Social Web):"
   ]
  },
  {
   "cell_type": "code",
   "execution_count": null,
   "metadata": {
    "collapsed": true
   },
   "outputs": [],
   "source": [
    "# -*- coding: utf-8 -*-\n",
    "\n",
    "import sys\n",
    "import requests\n",
    "import json\n",
    "import BeautifulSoup\n",
    "\n",
    "# Pass in a URL containing hRecipe, such as\n",
    "# http://wholewheatsweets.com/recipe/cookies/whole_wheat_chocolate_hazelnut_biscotti\n",
    "\n",
    "URL = sys.argv[1]\n",
    "\n",
    "# Parse out some of the pertinent information for a recipe.\n",
    "# See http://microformats.org/wiki/hrecipe.\n",
    "\n",
    "def parse_hrecipe(url):\n",
    "\treq = requests.get(URL)\n",
    "\t\n",
    "\tsoup = BeautifulSoup.BeautifulSoup(req.text)\n",
    "\t\n",
    "\threcipe = soup.find(True, 'hrecipe')\n",
    "\t\n",
    "\tif hrecipe and len(hrecipe) > 1:\n",
    "\t\tfn = hrecipe.find(True, 'fn').string\n",
    "\t\tyield_ = hrecipe.find(True, 'yield').find(text=True)\n",
    "\t\tingredients = [i.string\n",
    "\t\t\tfor i in hrecipe.findAll(True, 'ingredient')\n",
    "\t\t\t\tif i.string is not None]\n",
    "\t\n",
    "\t\tinstructions = []\n",
    "\t\tfor i in hrecipe.find(True, 'instructions').findAll(True, 'instruction'):\n",
    "\t\t\tif type(i) == BeautifulSoup.Tag:\n",
    "\t\t\t\ts = ''.join(i.findAll(text=True)).strip()\n",
    "\t\t\telif type(i) == BeautifulSoup.NavigableString:\n",
    "\t\t\t\ts = i.string.strip()\n",
    "\t\t\telse:\n",
    "\t\t\t\tcontinue\n",
    "\t\n",
    "\t\t\tif s!='':\n",
    "\t\t\t\tinstructions += [s]\n",
    "\t\n",
    "\t\treturn {\n",
    "\t\t\t'name': fn,\n",
    "\t\t\t'yield:': yield_,\n",
    "\t\t\t'ingredients': ingredients,\n",
    "\t\t\t'instructions': instructions,\n",
    "\t\t\t}\n",
    "\telse:\n",
    "\t\treturn {}\n",
    "\n",
    "recipe = parse_hrecipe(URL)\n",
    "print json.dumps(recipe, indent=4)"
   ]
  },
  {
   "cell_type": "markdown",
   "metadata": {},
   "source": [
    "-------------------------------------------------------------------------------\n",
    "\n",
    "Task 2: Can you modify the hRecipe script in such a way that it gives a more informative error message if no recipe information is found instead of {}\n",
    "\n",
    "-------------------------------------------------------------------------------"
   ]
  },
  {
   "cell_type": "markdown",
   "metadata": {},
   "source": [
    "Task 3: Does the hRecipe format facilitate easy comparison of different recipes? Can you for example easily compare different dessert recipe ingredients? For inspiration you can look back at the exercises you did in Hands-on session 1 where you compared different sets of tweets.\n",
    "\n",
    "-------------------------------------------------------------------------------\n",
    "\n",
    "As you might have noticed in the previous exercise, hRecipe is not used on many sites anymore, instead Schema.org annotations are added. Schema.org is a multipurpose format that has been created by a consortium consisting of Yahoo!, Google and Microsoft. It can describe entities, events, products etc. Check out the vocabulary specs on Schema.org.\n",
    "\n",
    "Exercise 3: Parsing schema.org microdata. To parse this data you need to install the rdflib-microdata package, which is not in the standard pip repository. You can do so as follows:"
   ]
  },
  {
   "cell_type": "code",
   "execution_count": null,
   "metadata": {
    "collapsed": true
   },
   "outputs": [],
   "source": [
    "!pip install -e git+https://github.com/edsu/rdflib-microdata.git#egg=rdflib-microdata"
   ]
  },
  {
   "cell_type": "markdown",
   "metadata": {},
   "source": [
    "Find some example pages containing microdata [here](https://github.com/LawrenceWoodman/mida/wiki/Sites-Using-Microdata)."
   ]
  },
  {
   "cell_type": "code",
   "execution_count": null,
   "metadata": {
    "collapsed": true
   },
   "outputs": [],
   "source": [
    "# -*- coding: utf-8 -*-\n",
    "\n",
    "import sys\n",
    "import rdflib\n",
    "import rdflib_microdata\n",
    "\n",
    "# Pass in a URL containing Schema.org microformats\n",
    "# https://ephesusbreeze.com/tours/kusadasi-ephesus\n",
    "url = sys.argv[1]\n",
    "\n",
    "g = rdflib.Graph()\n",
    "g.parse(url, format=\"microdata\")\n",
    "print g.serialize()"
   ]
  },
  {
   "cell_type": "markdown",
   "metadata": {},
   "source": [
    "-------------------------------------------------------------------------------\n",
    "\n",
    "Task 4: Compare the schema.org information about a band on last.fm to the Facebook Open Graph information about the same band from Facebook. What are the differences? Which of the formats supports better interoperability do you think?\n",
    "\n",
    "-------------------------------------------------------------------------------"
   ]
  },
  {
   "cell_type": "markdown",
   "metadata": {},
   "source": [
    "-------------------------------------------------------------------------------\n",
    "\n",
    "Task 5: Explore the various microformats that http://microform.at can handle and compare the output of the exercises with the output of microform.at Think about possible microformats you want to support in your final assignment and read up on how to parse them.\n",
    "\n",
    "-------------------------------------------------------------------------------"
   ]
  },
  {
   "cell_type": "code",
   "execution_count": null,
   "metadata": {
    "collapsed": true
   },
   "outputs": [],
   "source": []
  }
 ],
 "metadata": {
  "kernelspec": {
   "display_name": "Python 2",
   "language": "python",
   "name": "python2"
  },
  "language_info": {
   "codemirror_mode": {
    "name": "ipython",
    "version": 3
   },
   "file_extension": ".py",
   "mimetype": "text/x-python",
   "name": "python",
   "nbconvert_exporter": "python",
   "pygments_lexer": "ipython3",
   "version": "3.7.5"
  }
 },
 "nbformat": 4,
 "nbformat_minor": 1
}
