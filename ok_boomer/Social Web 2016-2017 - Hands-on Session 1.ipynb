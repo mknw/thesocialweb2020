{
 "cells": [
  {
   "cell_type": "markdown",
   "metadata": {},
   "source": [
    "*****************************************************************\n",
    "#  The Social Web \t\t\t\t    \n",
    "##  2016-2017 Master Information Sciences\t    \n",
    "- Instructors Davide Ceolin, Dayana Spagnuelo\n",
    "- Exercises for Hands-on session 1\n",
    "- 9 February 2017 11:00 - 12:45                 \n",
    "- HG-0B-08 -- HG-0B-16                              \n",
    "*****************************************************************"
   ]
  },
  {
   "cell_type": "markdown",
   "metadata": {},
   "source": [
    "Prerequisites:\n",
    "- Python 3.7\n",
    "- Python packages: twitter, prettytable, numpy (SEE BELOW), python-dateutil, pyparsing, matplotlib\n",
    "\n",
    "First you need to know how to retrieve some social web data. Exercises 1 and 2 will show you how to retrieve trends and search results from Twitter. \n",
    "\n",
    "Exercise 1: Authorizing an application to access Twitter account data (from Example 1-1/9-1 in Mining the Social Web):\n",
    "\n",
    "******************************************************************************\n",
    "#### TO DO BEFORE STARTING!!! \n",
    " Go to https://apps.twitter.com/ and sign in with a twitter account to create an app and get values for the credentials mentioned below, which you'll need to provide in place of the empty string values that are defined as placeholders. If you don't have a Twitter account, create one first. NB: YOU WILL HAVE TO REGISTER YOUR MOBILE PHONE     \n",
    " NUMBER IN YOUR PROFILE BEFORE YOU CAN CREATE AN APP.                  \n",
    "******************************************************************************\n",
    "\n",
    "After creating the app, click 'manage keys and access tokens' on the resulting page. "
   ]
  },
  {
   "cell_type": "code",
   "execution_count": null,
   "metadata": {
    "collapsed": true
   },
   "outputs": [],
   "source": [
    "import twitter # Tell Python to use the twitter package\n",
    "CONSUMER_KEY = ''\n",
    "CONSUMER_SECRET = ''\n",
    "OAUTH_TOKEN = '' # to get the oauth credential you need to click on the 'Create my access token' button and wait few moments\n",
    "OAUTH_TOKEN_SECRET = ''\n",
    "auth = twitter.oauth.OAuth(OAUTH_TOKEN, OAUTH_TOKEN_SECRET,CONSUMER_KEY, CONSUMER_SECRET)\n",
    "twitter_api = twitter.Twitter(auth=auth)\n",
    "print twitter_api # Nothing to see by displaying twitter_api except that it's now a defined variable\n"
   ]
  },
  {
   "cell_type": "markdown",
   "metadata": {},
   "source": [
    "c:"
   ]
  },
  {
   "cell_type": "code",
   "execution_count": null,
   "metadata": {
    "collapsed": true
   },
   "outputs": [],
   "source": [
    "WORLD_WOE_ID = 1 # The Yahoo! Where On Earth ID for the entire world\n",
    "world_trends = twitter_api.trends.place(_id=WORLD_WOE_ID) # get back a callable\n",
    "print world_trends"
   ]
  },
  {
   "cell_type": "markdown",
   "metadata": {},
   "source": [
    "Your output should look like something like this:\n",
    "[{u'created_at': u'2014-01-22T13:52:40Z', u'trends': [{u'url': u'http://twitter.com/search?q=%22Iqbal+CJR%22', u'query': u'%22Iqbal+CJR%22', u'name': u'Iqbal CJR', u'promoted_content': None, u'events': None}, {u'url': u'http://twitter.com/search?q=%23QueremosP9NaEliana', u'query': u'%23QueremosP9NaEliana', u'name': u'#QueremosP9NaEliana', u'promoted_content': None, u'events': None}, {u'url': u'http://twitter.com/search?q=%23PresidenSobatIndonesia', u'query': u'%23PresidenSobatIndonesia', u'name': u'#PresidenSobatIndonesia', u'promoted_content': None, u'events': None}, {u'url': u'http://twitter.com/search?q=%23CrushKitaKaso', u'query': u'%23CrushKitaKaso', u'name': u'#CrushKitaKaso', u'promoted_content': None, u'events': None}, {u'url': u'http://twitter.com/search?q=%233FlasherNobitaNioners', u'query': u'%233FlasherNobitaNioners', u'name': u'#3FlasherNobitaNioners', u'promoted_content': None, u'events': None}, {u'url': u'http://twitter.com/search?q=%23bagasrdsREPLY', u'query': u'%23bagasrdsREPLY', u'name': u'#bagasrdsREPLY', u'promoted_content': None, u'events': None}, {u'url': u'http://twitter.com/search?q=%22Warna+HPmu%22', u'query': u'%22Warna+HPmu%22', u'name': u'Warna HPmu', u'promoted_content': None, u'events': None}, {u'url': u'http://twitter.com/search?q=%22AkDe%C4%9Fil+Karanl%C4%B1k%C4%B0%C5%9FlerinPartisi%22', u'query': u'%22AkDe%C4%9Fil+Karanl%C4%B1k%C4%B0%C5%9FlerinPartisi%22', u'name': u'AkDe\\u011fil Karanl\\u0131k\\u0130\\u015flerinPartisi', u'promoted_content': None, u'events': None}, {u'url': u'http://twitter.com/search?q=Abueva', u'query': u'Abueva', u'name': u'Abueva', u'promoted_content': None, u'events': None}, {u'url': u'http://twitter.com/search?q=%22YesOrNo+PengenTinggian%22', u'query': u'%22YesOrNo+PengenTinggian%22', u'name': u'YesOrNo PengenTinggian', u'promoted_content': None, u'events': None}], u'as_of': u'2014-01-22T13:55:54Z', u'locations': [{u'woeid': 1, u'name': u'Worldwide'}]}]\n",
    "******************************************************************************\n",
    "\n",
    "Task 1: Find out how WORLD_WOE_IDs are defined by Yahoo and try to use others in a query. What kind of differences do you find between the worldwide trends and the local trends? \n",
    "\n",
    "-------------------------------------------------------------------------------"
   ]
  },
  {
   "cell_type": "markdown",
   "metadata": {},
   "source": [
    "Exercise 2.1: Retrieving search results (from Example 1-5/9-3 in Mining the Social Web):"
   ]
  },
  {
   "cell_type": "code",
   "execution_count": null,
   "metadata": {
    "collapsed": true
   },
   "outputs": [],
   "source": [
    "q = '#MentionSomeoneImportantForYou' # XXX: Set this variable to a trending topic, or anything else you like. \n",
    "count = 100 # number of results to retrieve\n",
    "\n",
    "# See https://dev.twitter.com/docs/api/1.1/get/search/tweets for more info\n",
    "\n",
    "search_results = twitter_api.search.tweets(q=q, count=count) # search for your query 'q' 100 times\n",
    "statuses = search_results['statuses'] # extract the tweets found\n",
    "\n",
    "# The following code allows you to print in a nice format the contents of search_results\n",
    "import json\n",
    "print json.dumps(statuses[0], indent=1) "
   ]
  },
  {
   "cell_type": "markdown",
   "metadata": {},
   "source": [
    "The start of your output should look like something like this:\n",
    "{\n",
    " \"contributors\": null, \n",
    " \"truncated\": false, \n",
    " \"text\": \"RT @JamesMCallaghan: Love her!!!!   RT @Erin_131: #MentionSomeoneImportantForYou My dad\", \n",
    " \"in_reply_to_status_id\": null, \n",
    " \"id\": 425527242413080576, \n",
    " \"favorite_count\": 0, \n",
    " \"source\": \"<a href=\\\"http://twitter.com/download/iphone\\\" rel=\\\"nofollow\\\">Twitter for iPhone</a>\", \n",
    " \"retweeted\": false, \n",
    " \"coordinates\": null, \n",
    " \"entities\": {\n",
    "  \"symbols\": [], \n",
    "   \"user_mentions\": [\n",
    "   {\n",
    "    \"id\": 43795567, \n",
    "    \"indices\": [\n",
    "     3, \n",
    "     19\n",
    "    ], \n",
    "    \"id_str\": \"43795567\", \n",
    "    \"screen_name\": \"JamesMCallaghan\", \n",
    "    \"name\": \"Jim Callaghan\"\n",
    "   }, \n",
    "   {\n",
    "    \"id\": 149373154, \n",
    "    \"indices\": [\n",
    "     39, \n",
    "     48\n",
    "    ], \n",
    "    \"id_str\": \"149373154\", \n",
    "    \"screen_name\": \"Erin_131\", \n",
    "    \"name\": \"Erin Callaghan (:\"\n",
    "   }\n",
    "  ], \n",
    "  \"hashtags\": [\n",
    "   {\n",
    "    \"indices\": [\n",
    "     50, \n",
    "     80\n",
    "    ], \n",
    "    \"text\": \"MentionSomeoneImportantForYou\"\n",
    "   }\n",
    "  ], \n",
    "  \"urls\": []\n",
    " },\n",
    "[...]"
   ]
  },
  {
   "cell_type": "code",
   "execution_count": 1,
   "metadata": {},
   "outputs": [
    {
     "ename": "SyntaxError",
     "evalue": "invalid syntax (<ipython-input-1-66619f3c0bc9>, line 1)",
     "output_type": "error",
     "traceback": [
      "\u001b[0;36m  File \u001b[0;32m\"<ipython-input-1-66619f3c0bc9>\"\u001b[0;36m, line \u001b[0;32m1\u001b[0m\n\u001b[0;31m    -------------------------------------------------------------------------------\u001b[0m\n\u001b[0m                                                                                   ^\u001b[0m\n\u001b[0;31mSyntaxError\u001b[0m\u001b[0;31m:\u001b[0m invalid syntax\n"
     ]
    }
   ],
   "source": [
    "-------------------------------------------------------------------------------\n",
    "\n",
    "Task 2: Create a second variable (e.g., statuses2) that holds the results of a query other than the query you posed in exercise 2.1. Think about a query that would yield very different results than the first one, for example one that may yield shorter tweets or less diverse tweets. \n",
    "\n",
    "-------------------------------------------------------------------------------\n",
    "\n",
    "Simply printing all the search results to screen is nice, but to really start analysing them, it is handy to select interesting parts from the results and store them in a different structure such as a list. \n",
    "\n",
    "Exercise 3.1: Extracting text, screen names, and hashtags from tweets (from Example 1-6 in Mining the Social Web):\n",
    "\n",
    "In this example you are using a thing called \"List Comprehension\". \n",
    "It is basically a list that consists of lists. In this example, you are creating a variable 'status_texts' of type list. That list will be filled with the 'text' elements from each 'statuses', and 'statuses' comes from looping through all items in the 'search_results' list. \n",
    "Look up the list comprehensions in your Python reference materials to make sure you understand what's happening here. "
   ]
  },
  {
   "cell_type": "code",
   "execution_count": 2,
   "metadata": {},
   "outputs": [
    {
     "ename": "SyntaxError",
     "evalue": "invalid syntax (<ipython-input-2-e89dcf4657b9>, line 18)",
     "output_type": "error",
     "traceback": [
      "\u001b[0;36m  File \u001b[0;32m\"<ipython-input-2-e89dcf4657b9>\"\u001b[0;36m, line \u001b[0;32m18\u001b[0m\n\u001b[0;31m    print json.dumps(status_texts[0:5], indent=1)\u001b[0m\n\u001b[0m             ^\u001b[0m\n\u001b[0;31mSyntaxError\u001b[0m\u001b[0;31m:\u001b[0m invalid syntax\n"
     ]
    }
   ],
   "source": [
    "status_texts = [ status['text']\n",
    "    for status in statuses ]\n",
    "\n",
    "screen_names = [ user_mention['screen_name']\n",
    "    for status in statuses\n",
    "        for user_mention in status['entities']['user_mentions'] ]\n",
    "\n",
    "hashtags = [ hashtag['text']\n",
    "    for status in statuses\n",
    "        for hashtag in status['entities']['hashtags'] ]\n",
    "\n",
    "# Compute a collection of all words from all tweets\n",
    "words = [ w\n",
    "    for t in status_texts\n",
    "        for w in t.split() ] #split the string on the empty spaces\n",
    "\n",
    "# Explore the first 5 items for each...\n",
    "print json.dumps(status_texts[0:5], indent=1)\n",
    "print json.dumps(screen_names[0:5], indent=1)\n",
    "print json.dumps(hashtags[0:5], indent=1)\n",
    "print json.dumps(words[0:5], indent=1)"
   ]
  },
  {
   "cell_type": "markdown",
   "metadata": {},
   "source": [
    "-------------------------------------------------------------------------------\n",
    "\n",
    "Task 3: Also carry out this exercise for the results you obtained in Task 2. Please remember to not overwrite the variables that you just assigned. \n",
    "\n",
    "-------------------------------------------------------------------------------\n",
    "\n",
    "\n",
    "Exercise 3.2: Creating a basic frequency distribution from the words in tweets (from Example 1-7 in Mining the Social Web):"
   ]
  },
  {
   "cell_type": "code",
   "execution_count": null,
   "metadata": {
    "collapsed": true
   },
   "outputs": [],
   "source": [
    "from collections import Counter\n",
    "for item in [words, screen_names, hashtags]:\n",
    "    c = Counter(item)\n",
    "\n",
    "print c.most_common()[:10] # top 10"
   ]
  },
  {
   "cell_type": "markdown",
   "metadata": {},
   "source": [
    "Your output should look like this:\n",
    "[(u'MentionSomeoneImportantForYou', 97), (u'mentionsomeoneimportantforyou', 1), (u'Perfection', 1)]\n",
    "\n",
    "-------------------------------------------------------------------------------\n",
    "\n",
    "Task 4: Also carry out this exercise for the second query that you posed in Task 2. Think about possible explanations for the different results you get from the analyses for the different queries.  \n",
    "\n",
    "-------------------------------------------------------------------------------\n",
    "\n",
    "\n",
    "So far, we have been storing the data in working memory. Often it's handy to store your data more permanently so you can also return to it in a next session. \n",
    "\n",
    "The cPickle module lets you write data to a file in a format that is easily imported again later. \n",
    "\n",
    "Exercise 4: Storing data for later use:"
   ]
  },
  {
   "cell_type": "code",
   "execution_count": null,
   "metadata": {
    "collapsed": true
   },
   "outputs": [],
   "source": [
    "import cPickle\n",
    "f = open(\"myData.pickle\", \"wb\") # create a file handle for writing (w) in binary mode (b) named myData.pickle, \n",
    "cPickle.dump(words, f) # write the contents of list 'words' to file 'f'\n",
    "f.close() #  clean up after yourself"
   ]
  },
  {
   "cell_type": "markdown",
   "metadata": {},
   "source": [
    "If you browse to your working directory, you should find a file there named \"myData.pickle\". You can open this in a text editor, or load its contents back into a variable to do some more analyses on. "
   ]
  },
  {
   "cell_type": "code",
   "execution_count": 3,
   "metadata": {},
   "outputs": [
    {
     "ename": "NameError",
     "evalue": "name 'cPickle' is not defined",
     "output_type": "error",
     "traceback": [
      "\u001b[0;31m---------------------------------------------------------------------------\u001b[0m",
      "\u001b[0;31mNameError\u001b[0m                                 Traceback (most recent call last)",
      "\u001b[0;32m<ipython-input-3-1c04cb7a42d8>\u001b[0m in \u001b[0;36m<module>\u001b[0;34m\u001b[0m\n\u001b[0;32m----> 1\u001b[0;31m \u001b[0mwords\u001b[0m\u001b[0;34m=\u001b[0m\u001b[0mcPickle\u001b[0m\u001b[0;34m.\u001b[0m\u001b[0mload\u001b[0m\u001b[0;34m(\u001b[0m\u001b[0mopen\u001b[0m\u001b[0;34m(\u001b[0m\u001b[0;34m\"myData.pickle\"\u001b[0m\u001b[0;34m)\u001b[0m\u001b[0;34m)\u001b[0m \u001b[0;31m# open the myData.pickle file and store its contents into variable 'words'\u001b[0m\u001b[0;34m\u001b[0m\u001b[0;34m\u001b[0m\u001b[0m\n\u001b[0m",
      "\u001b[0;31mNameError\u001b[0m: name 'cPickle' is not defined"
     ]
    }
   ],
   "source": [
    "words=cPickle.load(open(\"myData.pickle\")) # open the myData.pickle file and store its contents into variable 'words' "
   ]
  },
  {
   "cell_type": "markdown",
   "metadata": {},
   "source": [
    "Exercise 5: Using prettytable to display tuples in a nice tabular format (from Example 1-8 in Mining the Social Web):"
   ]
  },
  {
   "cell_type": "code",
   "execution_count": null,
   "metadata": {
    "collapsed": true
   },
   "outputs": [],
   "source": [
    "from prettytable import PrettyTable\n",
    "for label, data in (('Word', words),\n",
    "        ('Screen Name', screen_names),\n",
    "        ('Hashtag', hashtags)):\n",
    "    pt = PrettyTable(field_names=[label, 'Count'])\n",
    "    c = Counter(data)\n",
    "    [ pt.add_row(kv) for kv in c.most_common()[:10] ]\n",
    "    pt.align[label], pt.align['Count'] = 'l', 'r' # Set column alignment\n",
    "    print pt"
   ]
  },
  {
   "cell_type": "markdown",
   "metadata": {},
   "source": [
    "Your output should look like this:\n",
    "\n",
    " Word                           | Count \n",
    "--------------------------------|-------\n",
    " #MentionSomeoneImportantForYou |    97 \n",
    " RT                             |    78 \n",
    " @_CollegeHumor_:               |    61 \n",
    " vodka                          |    61 \n",
    " “@_CollegeHumor_:              |    13 \n",
    " vodka”                         |    12 \n",
    " ♥                              |     7 \n",
    "@DinaHeshamAlii:               |     4 \n",
    " 😂😂😂                        |     3 \n",
    " \"@_CollegeHumor_:              |     3 \n",
    "--------------------------------|-------\n",
    "\n",
    "\n",
    "\n",
    "Exercise 6: Calculating lexical diversity for tweets (from Example 1-9 in Mining the Social Web):"
   ]
  },
  {
   "cell_type": "code",
   "execution_count": null,
   "metadata": {
    "collapsed": true
   },
   "outputs": [],
   "source": [
    "# Define a function for computing lexical diversity\n",
    "def lexical_diversity(tokens): # This is the way to declare user defined functions\n",
    "    return 1.0*len(set(tokens))/len(tokens)\n",
    "\n",
    "# Define a function for computing the average number of words per tweet\n",
    "def average_words(statuses):\n",
    "    total_words = sum([ len(s.split()) for s in statuses ])\n",
    "    return 1.0*total_words/len(statuses) # Prior to Python 3.0, the division operator (/) applies the floor function and returns an integer value (unless one of the operands is a floating-point value). Multiply either the numerator or the denominator by 1.0 to avoid truncation errors.\n",
    "\n",
    "# Let's use these functions:\n",
    "\n",
    "print lexical_diversity(words)\n",
    "print lexical_diversity(screen_names)\n",
    "print lexical_diversity(hashtags)\n",
    "print average_words(status_texts)"
   ]
  },
  {
   "cell_type": "markdown",
   "metadata": {},
   "source": [
    "-------------------------------------------------------------------------------\n",
    "\n",
    "Task 5: What do the printed numbers indicate? Try to explain them.\n",
    "\n",
    "-------------------------------------------------------------------------------\n",
    "\n",
    "Exercise 7: Finding the most popular retweets (from Example 1-10 in Mining the Social Web):"
   ]
  },
  {
   "cell_type": "code",
   "execution_count": null,
   "metadata": {
    "collapsed": true
   },
   "outputs": [],
   "source": [
    "retweets = [(status['retweet_count'],\n",
    "    status['retweeted_status']['user']['screen_name'],\n",
    "    status['text'])# Store out a tuple of these three values\n",
    "    for status in statuses # for each status\n",
    "    if status.has_key('retweeted_status') # ... so long as the status meets this condition.\n",
    "    ]\n",
    "\n",
    "# Slice off the first 5 from the sorted results and display each item in the tuple\n",
    "pt = PrettyTable(field_names=['Count', 'Screen Name', 'Text'])\n",
    "[ pt.add_row(row) for row in sorted(retweets, reverse=True)[:5] ]\n",
    "pt.max_width['Text'] = 50\n",
    "pt.align= 'l'\n",
    "print pt"
   ]
  },
  {
   "cell_type": "markdown",
   "metadata": {},
   "source": [
    "Your output should look like this:\n",
    "    \n",
    " Count | Screen Name    | Text                                               \n",
    "-------|----------------|----------------------------------------------------\n",
    " 82    | _CollegeHumor_ | RT @_CollegeHumor_: #MentionSomeoneImportantForYou \n",
    "       |                | vodka                                              \n",
    " 82    | _CollegeHumor_ | RT @_CollegeHumor_: #MentionSomeoneImportantForYou \n",
    "       |                | vodka                                              \n",
    " 82    | _CollegeHumor_ | RT @_CollegeHumor_: #MentionSomeoneImportantForYou \n",
    "       |                | vodka                                              \n",
    " 82    | _CollegeHumor_ | RT @_CollegeHumor_: #MentionSomeoneImportantForYou \n",
    "       |                | vodka                                              \n",
    " 82    | _CollegeHumor_ | RT @_CollegeHumor_: #MentionSomeoneImportantForYou \n",
    "       |                | vodka                                              \n",
    "\n",
    "*******************************\n",
    "\n",
    "Exercise 8: Looking up users who have retweeted a status (from Example 1-11 in Mining the Social Web):"
   ]
  },
  {
   "cell_type": "code",
   "execution_count": null,
   "metadata": {
    "collapsed": true
   },
   "outputs": [],
   "source": [
    "_retweets = twitter_api.statuses.retweets(id=) # Get the original tweet id for a tweet from its retweeted_status node and insert it here\n",
    "print [r['user']['screen_name'] for r in _retweets]"
   ]
  },
  {
   "cell_type": "markdown",
   "metadata": {},
   "source": [
    "-------------------------------------------------------------------------------\n",
    "Task 6 (For experienced users):\n",
    "If you have a Twitter account with a nontrivial number of tweets, request your historical tweet archive from your account settings and analyze it. The export of your account data includes files organized by time period in a convenient JSON\n",
    "format. See the README.txt file included in the downloaded archive for more details. \n",
    "What are the most common terms that appear in your tweets? \n",
    "Who do you  retweet the most often? \n",
    "How many of your tweets are retweeted (and why do you think this is the case)?\n",
    "****************\n",
    "\n",
    "\n",
    "\n",
    "In the previous exercises we have been looking at the text from the tweets, but when you retrieved the results, you retrieved much more information about the tweets, such as the username of the person who shared this tweet with the world. You can use this information to find out who retweets whom in our examples. \n",
    "\n",
    "Exercise 9.1: Plotting frequencies of words (from Example 1-12 in Mining the Social Web):"
   ]
  },
  {
   "cell_type": "code",
   "execution_count": null,
   "metadata": {
    "collapsed": true
   },
   "outputs": [],
   "source": [
    "word_counts = sorted(Counter(words).values(), reverse=True)\n",
    "import matplotlib.pyplot as plt\n",
    "plt.loglog(word_counts)\n",
    "plt.ylabel(\"Freq\")\n",
    "plt.xlabel(\"Word Rank\")\n",
    "plt.show()"
   ]
  },
  {
   "cell_type": "markdown",
   "metadata": {},
   "source": [
    "Exercise 9.2: Generating histograms of words, screen names, and hashtags (from Example 1-13 in Mining the Social Web):"
   ]
  },
  {
   "cell_type": "code",
   "execution_count": null,
   "metadata": {
    "collapsed": true
   },
   "outputs": [],
   "source": [
    "for label, data in (('Words', words), # Build a frequency map for each set of data\n",
    "    ('Screen Names', screen_names),\n",
    "        ('Hashtags', hashtags)):\n",
    "            c = Counter(data)\n",
    "\n",
    "# plot the values\n",
    "plt.hist(c.values())\n",
    "\n",
    "# Add a title and y-label ...\n",
    "plt.title(label)\n",
    "plt.ylabel(\"Number of items in bin\")\n",
    "plt.xlabel(\"Bins (number of times an item appeared)\")\n",
    "plt.show()"
   ]
  },
  {
   "cell_type": "markdown",
   "metadata": {},
   "source": [
    "Exercise 9.3: Generating a histogram of retweet counts (from Example 1-14 in Mining the Social Web):\n",
    "NB: Using underscores while unpacking values in a tuple is idiomatic for discarding them"
   ]
  },
  {
   "cell_type": "code",
   "execution_count": null,
   "metadata": {
    "collapsed": true
   },
   "outputs": [],
   "source": [
    "counts = [count for count, _, _ in retweets]\n",
    "plt.hist(counts)\n",
    "plt.title(\"Retweets\")\n",
    "plt.xlabel('Bins (number of times retweeted)')\n",
    "plt.ylabel('Number of tweets in bin')\n",
    "print counts\n",
    "plt.show()"
   ]
  }
 ],
 "metadata": {
  "kernelspec": {
   "display_name": "Python 2",
   "language": "python",
   "name": "python2"
  },
  "language_info": {
   "codemirror_mode": {
    "name": "ipython",
    "version": 3
   },
   "file_extension": ".py",
   "mimetype": "text/x-python",
   "name": "python",
   "nbconvert_exporter": "python",
   "pygments_lexer": "ipython3",
   "version": "3.7.5"
  }
 },
 "nbformat": 4,
 "nbformat_minor": 1
}
