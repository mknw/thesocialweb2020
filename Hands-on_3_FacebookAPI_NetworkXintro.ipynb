{
 "cells": [
  {
   "cell_type": "markdown",
   "metadata": {},
   "source": [
    "*****************************************************************\n",
    "#  The Social Web \n",
    "- Instructors Davide Ceolin, Dayana Spagnuelo\n",
    "- TA: Michael Accetto, Sarthak Gupta\n",
    "- Exercises for Hands-on session 3\n",
    "- 20.2.2020 11:00 - 12:45                 \n",
    "- NU-6C-39, NU-6C-40                      \n",
    "*****************************************************************"
   ]
  },
  {
   "cell_type": "markdown",
   "metadata": {},
   "source": [
    "### Setup\n",
    "Please first make sure your virtual environment is activated.\n",
    "\n",
    "Prerequisites:\n",
    "- Python 3.7\n",
    "- virtual environment (recommended)\n",
    "\n",
    "Software needed:\n",
    "- Python packages: facebook-sdk, networkx, requests, ipython (which we'll install later in this notebook)\n",
    "\n",
    "But let's check first if we're running a sufficiently new version of Python:"
   ]
  },
  {
   "cell_type": "code",
   "execution_count": null,
   "metadata": {},
   "outputs": [],
   "source": [
    "import platform\n",
    "import sys\n",
    "# It's good practice to assert packages requirements at the beginning of a script:\n",
    "assert sys.version_info >= (3, 6) # Tested with Python==3.7.5\n",
    "# show python version\n",
    "print(\"This jupyter notebook is running on Python \" + platform.python_version())"
   ]
  },
  {
   "cell_type": "markdown",
   "metadata": {},
   "source": [
    "Let's install what will be needed:"
   ]
  },
  {
   "cell_type": "code",
   "execution_count": null,
   "metadata": {},
   "outputs": [],
   "source": [
    "!pip install networkx"
   ]
  },
  {
   "cell_type": "markdown",
   "metadata": {},
   "source": [
    "To get the newer features available with the facebook-sdk package, we will install the package from its github repository. \\\n",
    "This is possible with pip, by following this syntax: \\\n",
    "`pip install git+YOUR_GITHUB_REPOSITORY_URL` \\\n",
    "For instance:"
   ]
  },
  {
   "cell_type": "code",
   "execution_count": null,
   "metadata": {},
   "outputs": [],
   "source": [
    "!pip install -e git+https://github.com/mobolic/facebook-sdk.git#egg=facebook-sdk"
   ]
  },
  {
   "cell_type": "markdown",
   "metadata": {},
   "source": [
    "If you haven't already requested a developer account, you can do so by following these steps:\n",
    "\n",
    "- go to [developers.facebook.com](https://developers.facebook.com/)\n",
    "- click on apps -> register as developer -> accept \n",
    "- go to: [https://developers.facebook.com/tools/explorer](https://developers.facebook.com/tools/explorer)\n",
    "- select your app (create one if you don't see any)\n",
    "- select 'user token'\n",
    "- Add permissions under User Data Permission\n",
    "- copy access token\n",
    "- paste it in the cell below."
   ]
  },
  {
   "cell_type": "code",
   "execution_count": null,
   "metadata": {},
   "outputs": [],
   "source": [
    "import facebook\n",
    "import json\n",
    "# A helper function to pretty-print Python objects as JSON\n",
    "p_top = lambda top: print(\"\\n\".join([\"-\"*25, top, \"-\"*25]))\n",
    "                          \n",
    "def pp(top, o):\n",
    "    p_top()\n",
    "    print(json.dumps(o, indent=1))\n",
    "\n",
    "# Create a connection to the Graph API with your access token\n",
    "token = 'EAAkbKojyZBAsBAJ4V4BnTxQfrdbEjUtEl5fEtvvq1jAvX7etT6IPQXaB60ZCwdj7RRa0xY3bwk4WanqsZBF4b00c1FIA3ifvnfJft8XLQPrG63kidkmlOUOP6FmoNj2hES3KiGdWiO5OcJUFGZCHdO14llGL0DFu5CZA47b7naeZCJm4SqJxLiULZCDc7JQCE0ZD'\n",
    "g = facebook.GraphAPI(token)\n",
    "\n",
    "# Execute a few sample queries\n",
    "\n",
    "pp(\"Me\", g.get_object('me'))\n",
    "friends = g.get_connections(id='me', connection_name='friends')\n",
    "pp(\"My friends\", friends)\n",
    "print()"
   ]
  },
  {
   "cell_type": "markdown",
   "metadata": {},
   "source": [
    "If your friends list isn't publicly available, you should only be able to see your friends count."
   ]
  },
  {
   "cell_type": "code",
   "execution_count": null,
   "metadata": {},
   "outputs": [],
   "source": [
    "\n",
    "token = \"\"\n",
    "app_graph = facebook.GraphAPI(access_token=token)\n",
    "pp('Pages about UVA', app_graph.request('search', {'q' : 'Universiteit van Amsterdam', 'type' : 'page', 'limit' : 5}))\n",
    "\n",
    "pp('Pages about VU', app_graph.request('search', {'q' : 'Vrije Universiteit Amsterdam', 'type' : 'page', 'limit' : 5}))\n",
    "\n",
    "# Use the ids to query for likes\n",
    "uva_id = '113928981951563'\n",
    "vu_id = '116356121481'\n",
    "\n",
    "# A quick way to format integers with commas every 3 digits\n",
    "def int_format(n):\n",
    "\treturn \"{:,}\".format(n)\n",
    "\n",
    "print(\"UVA likes:\", app_graph.get_object(uva_id)['likes'])\n",
    "print(\"VU likes:\", app_graph.get_object(vu_id)['likes'])"
   ]
  },
  {
   "cell_type": "markdown",
   "metadata": {},
   "source": [
    "What Errors do you see? Are they a python problem or an API one?\n",
    "\n",
    "******\n",
    "Facebook is restricting automated access of information otherwise publicly available. \n",
    "\n",
    "However, keep in mind that you can still obtain interesting information from facebook, as long as you're willing to go through the appropriate [permission request procedure](https://developers.facebook.com/docs/facebook-login/permissions/). This entails building an app, submitting it to facebook and get its approval.\n",
    "\n",
    "*******\n",
    "\n",
    "Here some sources that can explain why facebook is filtering access to its resources, and that may inform your critical thinking.\n",
    "\n",
    "- [Facebook relationships with EU's countries and politicians](https://www.theguardian.com/technology/2019/mar/02/facebook-global-lobbying-campaign-against-data-privacy-laws-investment)\n",
    "- [Facebook relationships with other tech giants](https://www.nytimes.com/2018/12/18/technology/facebook-privacy.html)\n",
    "- [Facebook's role in Brexit (Ted Talk by journalist Carole Cadwalladr)](https://www.ted.com/talks/carole_cadwalladr_facebook_s_role_in_brexit_and_the_threat_to_democracy)\n",
    "- [Study on emotional contagion](https://www.pnas.org/content/111/24/8788.full) (in collaboration with facebook).\n",
    "- [Facebook privacy policy](https://www.facebook.com/policy.php)"
   ]
  },
  {
   "cell_type": "markdown",
   "metadata": {},
   "source": [
    "In order to continue our notebook, we'll download a dataset from:\n",
    "https://snap.stanford.edu/data/egonets-Facebook.html\n",
    "\n",
    "You can untar the package with `tar -xvzf facebook.tar.gz` \\\n",
    "If you use Windows, maybe [7zip](https://www.7-zip.org/download.html) can work for you.\n",
    "\n",
    "Once downloaded and inflated, continue with the following steps:"
   ]
  },
  {
   "cell_type": "code",
   "execution_count": null,
   "metadata": {},
   "outputs": [],
   "source": [
    "# list files in the ego-Facebook dataset (https://snap.stanford.edu/data/egonets-Facebook.html)\n",
    "import os\n",
    "from os import path\n",
    "db_dir = \"facebook\" # replace with your download folder. \n",
    "db_relpaths = [path.join(db_dir, d) for d in os.listdir(db_dir)]\n",
    "db_relpaths"
   ]
  },
  {
   "cell_type": "code",
   "execution_count": null,
   "metadata": {},
   "outputs": [],
   "source": [
    "extensions = [f.split(\".\")[1] for f in db_relpaths] # trunk first part away\n",
    "unique_extensions = sorted(set(extensions)) # create unique set\n",
    "print(unique_extensions)"
   ]
  },
  {
   "cell_type": "code",
   "execution_count": null,
   "metadata": {},
   "outputs": [],
   "source": [
    "# instead of declaring a list comprehension each time for each extension, we combine\n",
    "# a lambda function with L.C. .\n",
    "# Lambda function are declared in one line of code,\n",
    "# take the argument before the column, and return what's after. \n",
    "ret_ext = lambda x: sorted([fn for fn in db_relpaths if fn.endswith(x)]\n",
    "\n",
    "edges_fns = ret_ext(\"edges\")\n",
    "circles_fns = ret_ext(\"circles\")\n",
    "egofeat_fns = ret_ext(\"egofeat\")\n",
    "feat_fns = ret_ext(\".feat\") # The dot is important!\n",
    "featnames_fns = ret_ext(\"featnames\")\n",
    "\n",
    "edges_fns \n",
    "#we sort for convenience, although alpha\n"
   ]
  },
  {
   "cell_type": "markdown",
   "metadata": {},
   "source": [
    "Here each edge connects two nodes. we can show these edges by looking at the file:"
   ]
  },
  {
   "cell_type": "code",
   "execution_count": null,
   "metadata": {},
   "outputs": [],
   "source": [
    "def show_dsf_head(filename):\n",
    "    \"\"\"Show head of given file for the ego-Facebook dataset.\"\"\"\n",
    "    p_top(filename.split(\".\")[1])\n",
    "    with open(filename, \"r\") as e:\n",
    "        [print(next(e)) for x in range(7)]\n",
    "        \n",
    "# show first 15 lines of edges.\n",
    "show_dsf_head(edges_fns[0])"
   ]
  },
  {
   "cell_type": "code",
   "execution_count": null,
   "metadata": {},
   "outputs": [],
   "source": [
    "show_head(circles_fns[0])\n",
    "show_head(featnames_fns[0])\n",
    "show_head(feat_fns[0])"
   ]
  },
  {
   "cell_type": "markdown",
   "metadata": {},
   "source": [
    "Here encoded are a series of nodes, features and circles. \n",
    "\n",
    "Next: we will create a network x \"Graph\" object, and grow it by iterating through the edges files."
   ]
  },
  {
   "cell_type": "code",
   "execution_count": null,
   "metadata": {},
   "outputs": [],
   "source": [
    "import networkx as nx\n",
    "\n",
    "G = nx.Graph() # here's our graph.\n",
    "# Let's grow it!\n",
    "for edge_file in edges_fns[0]:  \n",
    "    # Once you've run the notebook, feel free to\n",
    "    # remove the index \"[0]\" to experiment with the whole dataset.\n",
    "    # For illustrative purposes we are only leaving the first bunch of connections.\n",
    "    with open(edge_file, 'r') as f:\n",
    "        for e in f:\n",
    "            e1, e2 = e.strip().split(\" \")\n",
    "            G.add_edge(e1, e2)"
   ]
  },
  {
   "cell_type": "code",
   "execution_count": null,
   "metadata": {},
   "outputs": [],
   "source": [
    "# we can see how nodes were automatically created by NX:\n",
    "G.nodes()\n"
   ]
  },
  {
   "cell_type": "code",
   "execution_count": null,
   "metadata": {},
   "outputs": [],
   "source": [
    "print(\"number of edges: \" + str(G.number_of_edges()))\n",
    "print(\"number of nodes: \" + str(G.number_of_nodes()))"
   ]
  },
  {
   "cell_type": "markdown",
   "metadata": {},
   "source": [
    "These are all the nodes and edges related to our \"ego net\" (i.e. a network of people on facebook)."
   ]
  },
  {
   "cell_type": "code",
   "execution_count": null,
   "metadata": {},
   "outputs": [],
   "source": [
    "from matplotlib import pyplot as plt\n",
    "from matplotlib.colors import rgb2hex\n",
    "from matplotlib import cm\n",
    "import numpy as np\n",
    "\n",
    "rainbow_cmap = cm.get_cmap(\"gist_rainbow\", G.number_of_nodes())\n",
    "\n",
    "def color_breaks(cmap, n_breaks):\n",
    "    \"\"\" Provides vector with n different hexadecimal values.\n",
    "    Args:\n",
    "        * cmap: a  matplotlib.Colormap object (https://matplotlib.org/3.1.3/tutorials/colors/colormaps.html)\n",
    "        * n_breaks: number of discrete intervals to section the colormap\n",
    "    Output:\n",
    "        * n-long list of hexadecimal values.\n",
    "    \"\"\"\n",
    "    breaks = np.linspace(0, 1, n_breaks)\n",
    "    return [rgb2hex(cmap(bb)) for bb in breaks] \n",
    "\n",
    "\n",
    "\n",
    "options = {\n",
    "    'node_color': color_breaks(rainbow_cmap, G.number_of_nodes()),\n",
    "    'node_size': 5,\n",
    "    'width': 1\n",
    "}"
   ]
  },
  {
   "cell_type": "code",
   "execution_count": null,
   "metadata": {},
   "outputs": [],
   "source": [
    "nx.draw(G, with_labels=False, **options)"
   ]
  },
  {
   "cell_type": "code",
   "execution_count": null,
   "metadata": {},
   "outputs": [],
   "source": [
    "options['node_size'] = 1 # changing only one attribute it's easy with a dictionary!\n",
    "nx.draw_shell(G, with_labels=False, **options)"
   ]
  },
  {
   "cell_type": "markdown",
   "metadata": {},
   "source": [
    "And that's it!\n",
    "\n",
    "As shown here, with NetworkX you can easily create networks and graph them, but also [add attributes to each node](https://networkx.github.io/documentation/stable/reference/functions.html#attributes).This can be used to the graph highlighting features or communities, according to the dimensions of your choice (e.g. such as political orientation, education and so on)."
   ]
  }
 ],
 "metadata": {
  "kernelspec": {
   "display_name": "Python 3",
   "language": "python",
   "name": "python3"
  },
  "language_info": {
   "codemirror_mode": {
    "name": "ipython",
    "version": 3
   },
   "file_extension": ".py",
   "mimetype": "text/x-python",
   "name": "python",
   "nbconvert_exporter": "python",
   "pygments_lexer": "ipython3",
   "version": "3.7.5"
  }
 },
 "nbformat": 4,
 "nbformat_minor": 4
}
